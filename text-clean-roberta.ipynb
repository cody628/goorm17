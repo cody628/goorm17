{
 "cells": [
  {
   "cell_type": "code",
   "execution_count": null,
   "metadata": {
    "_cell_guid": "d7205f16-32c2-47cd-a973-66dd3d26e18b",
    "_uuid": "b5ab5e82-267b-49f0-bac0-cb1821fc448e",
    "execution": {
     "iopub.execute_input": "2024-01-16T12:45:59.805329Z",
     "iopub.status.busy": "2024-01-16T12:45:59.804430Z",
     "iopub.status.idle": "2024-01-16T12:46:13.379216Z",
     "shell.execute_reply": "2024-01-16T12:46:13.377978Z",
     "shell.execute_reply.started": "2024-01-16T12:45:59.805292Z"
    },
    "jupyter": {
     "outputs_hidden": false
    }
   },
   "outputs": [],
   "source": [
    "# !pip install keras-core --upgrade\n",
    "# !pip install -q keras-nlp\n",
    "# !pip install seaborn"
   ]
  },
  {
   "cell_type": "code",
   "execution_count": null,
   "metadata": {
    "execution": {
     "iopub.execute_input": "2024-01-16T07:58:04.712272Z",
     "iopub.status.busy": "2024-01-16T07:58:04.711530Z",
     "iopub.status.idle": "2024-01-16T07:58:19.593410Z",
     "shell.execute_reply": "2024-01-16T07:58:19.592274Z",
     "shell.execute_reply.started": "2024-01-16T07:58:04.712237Z"
    }
   },
   "outputs": [],
   "source": [
    "# !pip install transformers"
   ]
  },
  {
   "cell_type": "code",
   "execution_count": 1,
   "metadata": {},
   "outputs": [],
   "source": [
    "# !pip install transformers[torch]"
   ]
  },
  {
   "cell_type": "markdown",
   "metadata": {},
   "source": [
    "# Import the Libararies"
   ]
  },
  {
   "cell_type": "code",
   "execution_count": null,
   "metadata": {},
   "outputs": [],
   "source": [
    "# !pip install pandas"
   ]
  },
  {
   "cell_type": "code",
   "execution_count": null,
   "metadata": {
    "execution": {
     "iopub.execute_input": "2024-01-16T07:58:19.595897Z",
     "iopub.status.busy": "2024-01-16T07:58:19.595565Z",
     "iopub.status.idle": "2024-01-16T07:58:31.269586Z",
     "shell.execute_reply": "2024-01-16T07:58:31.268424Z",
     "shell.execute_reply.started": "2024-01-16T07:58:19.595867Z"
    }
   },
   "outputs": [],
   "source": [
    "# !pip install tqdm"
   ]
  },
  {
   "cell_type": "code",
   "execution_count": 27,
   "metadata": {},
   "outputs": [
    {
     "name": "stdout",
     "output_type": "stream",
     "text": [
      "Defaulting to user installation because normal site-packages is not writeable\n",
      "Collecting datasets\n",
      "  Downloading datasets-2.16.1-py3-none-any.whl (507 kB)\n",
      "     |████████████████████████████████| 507 kB 5.9 MB/s            \n",
      "\u001b[?25hRequirement already satisfied: pyyaml>=5.1 in /usr/local/lib/python3.8/dist-packages (from datasets) (6.0)\n",
      "Collecting dill<0.3.8,>=0.3.0\n",
      "  Downloading dill-0.3.7-py3-none-any.whl (115 kB)\n",
      "     |████████████████████████████████| 115 kB 9.3 MB/s            \n",
      "\u001b[?25hRequirement already satisfied: tqdm>=4.62.1 in /usr/local/lib/python3.8/dist-packages (from datasets) (4.62.3)\n",
      "Requirement already satisfied: huggingface-hub>=0.19.4 in /home/jovyan/.local/lib/python3.8/site-packages (from datasets) (0.20.2)\n",
      "Requirement already satisfied: numpy>=1.17 in /home/jovyan/.local/lib/python3.8/site-packages (from datasets) (1.24.3)\n",
      "Collecting fsspec[http]<=2023.10.0,>=2023.1.0\n",
      "  Downloading fsspec-2023.10.0-py3-none-any.whl (166 kB)\n",
      "     |████████████████████████████████| 166 kB 8.9 MB/s            \n",
      "\u001b[?25hRequirement already satisfied: filelock in /home/jovyan/.local/lib/python3.8/site-packages (from datasets) (3.13.1)\n",
      "Requirement already satisfied: packaging in /usr/local/lib/python3.8/dist-packages (from datasets) (21.3)\n",
      "Requirement already satisfied: pandas in /usr/local/lib/python3.8/dist-packages (from datasets) (1.3.5)\n",
      "Collecting pyarrow-hotfix\n",
      "  Downloading pyarrow_hotfix-0.6-py3-none-any.whl (7.9 kB)\n",
      "Collecting pyarrow>=8.0.0\n",
      "  Downloading pyarrow-14.0.2-cp38-cp38-manylinux_2_28_x86_64.whl (38.1 MB)\n",
      "     |████████████████████████████████| 38.1 MB 7.6 MB/s            \n",
      "\u001b[?25hRequirement already satisfied: requests>=2.19.0 in /usr/local/lib/python3.8/dist-packages (from datasets) (2.26.0)\n",
      "Requirement already satisfied: aiohttp in /usr/local/lib/python3.8/dist-packages (from datasets) (3.8.1)\n",
      "Collecting xxhash\n",
      "  Downloading xxhash-3.4.1-cp38-cp38-manylinux_2_17_x86_64.manylinux2014_x86_64.whl (194 kB)\n",
      "     |████████████████████████████████| 194 kB 10.5 MB/s            \n",
      "\u001b[?25hCollecting multiprocess\n",
      "  Downloading multiprocess-0.70.15-py38-none-any.whl (132 kB)\n",
      "     |████████████████████████████████| 132 kB 8.6 MB/s            \n",
      "\u001b[?25hRequirement already satisfied: charset-normalizer<3.0,>=2.0 in /usr/local/lib/python3.8/dist-packages (from aiohttp->datasets) (2.0.9)\n",
      "Requirement already satisfied: multidict<7.0,>=4.5 in /usr/local/lib/python3.8/dist-packages (from aiohttp->datasets) (5.2.0)\n",
      "Requirement already satisfied: async-timeout<5.0,>=4.0.0a3 in /usr/local/lib/python3.8/dist-packages (from aiohttp->datasets) (4.0.1)\n",
      "Requirement already satisfied: frozenlist>=1.1.1 in /usr/local/lib/python3.8/dist-packages (from aiohttp->datasets) (1.2.0)\n",
      "Requirement already satisfied: attrs>=17.3.0 in /usr/local/lib/python3.8/dist-packages (from aiohttp->datasets) (21.2.0)\n",
      "Requirement already satisfied: yarl<2.0,>=1.0 in /usr/local/lib/python3.8/dist-packages (from aiohttp->datasets) (1.7.2)\n",
      "Requirement already satisfied: aiosignal>=1.1.2 in /usr/local/lib/python3.8/dist-packages (from aiohttp->datasets) (1.2.0)\n",
      "Requirement already satisfied: typing-extensions>=3.7.4.3 in /usr/local/lib/python3.8/dist-packages (from huggingface-hub>=0.19.4->datasets) (4.0.1)\n",
      "Requirement already satisfied: pyparsing!=3.0.5,>=2.0.2 in /usr/local/lib/python3.8/dist-packages (from packaging->datasets) (3.0.6)\n",
      "Requirement already satisfied: idna<4,>=2.5 in /usr/local/lib/python3.8/dist-packages (from requests>=2.19.0->datasets) (3.3)\n",
      "Requirement already satisfied: certifi>=2017.4.17 in /usr/local/lib/python3.8/dist-packages (from requests>=2.19.0->datasets) (2021.10.8)\n",
      "Requirement already satisfied: urllib3<1.27,>=1.21.1 in /usr/local/lib/python3.8/dist-packages (from requests>=2.19.0->datasets) (1.26.7)\n",
      "Requirement already satisfied: pytz>=2017.3 in /usr/local/lib/python3.8/dist-packages (from pandas->datasets) (2021.3)\n",
      "Requirement already satisfied: python-dateutil>=2.7.3 in /usr/local/lib/python3.8/dist-packages (from pandas->datasets) (2.8.2)\n",
      "Requirement already satisfied: six>=1.5 in /usr/local/lib/python3.8/dist-packages (from python-dateutil>=2.7.3->pandas->datasets) (1.16.0)\n",
      "Installing collected packages: fsspec, dill, xxhash, pyarrow-hotfix, pyarrow, multiprocess, datasets\n",
      "  Attempting uninstall: fsspec\n",
      "    Found existing installation: fsspec 2023.12.2\n",
      "    Uninstalling fsspec-2023.12.2:\n",
      "      Successfully uninstalled fsspec-2023.12.2\n",
      "\u001b[33m  WARNING: The script datasets-cli is installed in '/home/jovyan/.local/bin' which is not on PATH.\n",
      "  Consider adding this directory to PATH or, if you prefer to suppress this warning, use --no-warn-script-location.\u001b[0m\n",
      "Successfully installed datasets-2.16.1 dill-0.3.7 fsspec-2023.10.0 multiprocess-0.70.15 pyarrow-14.0.2 pyarrow-hotfix-0.6 xxhash-3.4.1\n",
      "\u001b[33mWARNING: You are using pip version 21.3.1; however, version 23.3.2 is available.\n",
      "You should consider upgrading via the '/usr/local/bin/python -m pip install --upgrade pip' command.\u001b[0m\n"
     ]
    }
   ],
   "source": [
    "# !pip install datasets"
   ]
  },
  {
   "cell_type": "code",
   "execution_count": 1,
   "metadata": {
    "_cell_guid": "144fcaa8-ae4c-4898-9ed0-52cb6669b9fb",
    "_uuid": "fe4ff976-8341-434f-be42-90e689fea868",
    "execution": {
     "iopub.execute_input": "2024-01-17T04:47:02.095924Z",
     "iopub.status.busy": "2024-01-17T04:47:02.095254Z",
     "iopub.status.idle": "2024-01-17T04:47:04.766358Z",
     "shell.execute_reply": "2024-01-17T04:47:04.765147Z",
     "shell.execute_reply.started": "2024-01-17T04:47:02.095885Z"
    },
    "jupyter": {
     "outputs_hidden": false
    }
   },
   "outputs": [],
   "source": [
    "import numpy as np # linear algebra\n",
    "import pandas as pd # data processing, CSV file I/O (e.g. pd.read_csv)\n",
    "import torch\n",
    "# import tensorflow as tf\n",
    "# import keras_core as keras\n",
    "# import keras_nlp\n",
    "import seaborn as sns\n",
    "import matplotlib.pyplot as plt\n",
    "from sklearn.metrics import f1_score\n",
    "# print(\"TensorFlow version:\", tf.__version__)\n",
    "import re\n",
    "from tqdm.auto import tqdm\n",
    "tqdm.pandas()\n",
    "from tqdm import tqdm\n",
    "# from sentence_transformers import SentenceTransformer\n",
    "# from scipy.spatial.distance import cosine\n",
    "import random\n",
    "# print(\"Keras version:\", keras.__version__)\n",
    "# print(\"KerasNLP version:\", keras_nlp.__version__)\n",
    "\n",
    "# import os\n",
    "# os.environ['KERAS_BACKEND'] = 'tensorflow'\n",
    "# from transformers import TFRobertaForSequenceClassification\n",
    "from sklearn.model_selection import train_test_split"
   ]
  },
  {
   "cell_type": "markdown",
   "metadata": {
    "_cell_guid": "f02e01c8-04c2-45f8-9578-544c96bb9d73",
    "_uuid": "a1b88057-6530-410f-9868-1b0ab3aa079d"
   },
   "source": [
    "# Load the data\n"
   ]
  },
  {
   "cell_type": "code",
   "execution_count": 3,
   "metadata": {
    "_cell_guid": "e6081b99-ed49-4cbe-8d01-dbb356733e60",
    "_uuid": "238abcf2-ee8c-4f4f-9bae-0e3ca671978a",
    "execution": {
     "iopub.execute_input": "2024-01-17T04:47:04.769837Z",
     "iopub.status.busy": "2024-01-17T04:47:04.768939Z",
     "iopub.status.idle": "2024-01-17T04:47:13.406278Z",
     "shell.execute_reply": "2024-01-17T04:47:13.404889Z",
     "shell.execute_reply.started": "2024-01-17T04:47:04.769791Z"
    },
    "jupyter": {
     "outputs_hidden": false
    }
   },
   "outputs": [],
   "source": [
    "# train_prompts = pd.read_csv('/kaggle/input/llm-detect-ai-generated-text/train_prompts.csv') #('train_prompts.csv')\n",
    "# train_essays = pd.read_csv('/kaggle/input/llm-detect-ai-generated-text/train_essays.csv')  #('train_essays.csv')\n",
    "# test_essays = pd.read_csv('/kaggle/input/llm-detect-ai-generated-text/test_essays.csv')  #('test_essays.csv')\n",
    "# train_extra = pd.read_csv('/kaggle/input/daigt-v3-train-dataset/train_v3_drcat_01.csv')  #('train_v3_drcat_01.csv')\n",
    "# train_extra_2 = pd.read_csv('/kaggle/input/daigt-v3-train-dataset/train_v3_drcat_02.csv')  #('train_v3_drcat_02.csv')\n",
    "# cleaned_text_3 = pd.read_csv('/kaggle/input/clean-data-set/cleaned_data_3_clean.csv')"
   ]
  },
  {
   "cell_type": "code",
   "execution_count": 2,
   "metadata": {},
   "outputs": [],
   "source": [
    "train_prompts = pd.read_csv('train_prompts.csv') \n",
    "train_essays = pd.read_csv('train_essays.csv')  \n",
    "test_essays = pd.read_csv('test_essays.csv')  \n",
    "train_extra = pd.read_csv('train_v3_drcat_01.csv')  \n",
    "train_extra_2 = pd.read_csv('train_v3_drcat_02.csv') \n",
    "# cleaned_text_3 = pd.read_csv('cleaned_data_3_clean.csv')"
   ]
  },
  {
   "cell_type": "markdown",
   "metadata": {},
   "source": [
    "# 🐝데이터 준비 (train+extra)"
   ]
  },
  {
   "cell_type": "code",
   "execution_count": 3,
   "metadata": {
    "execution": {
     "iopub.execute_input": "2024-01-17T04:47:13.408884Z",
     "iopub.status.busy": "2024-01-17T04:47:13.407688Z",
     "iopub.status.idle": "2024-01-17T04:47:13.780133Z",
     "shell.execute_reply": "2024-01-17T04:47:13.778859Z",
     "shell.execute_reply.started": "2024-01-17T04:47:13.408842Z"
    }
   },
   "outputs": [
    {
     "data": {
      "text/plain": [
       "Text(0.5, 1.0, 'Distribution of Generated Text')"
      ]
     },
     "execution_count": 3,
     "metadata": {},
     "output_type": "execute_result"
    },
    {
     "data": {
      "image/png": "[encoded data removed]",
      "text/plain": [
       "<Figure size 864x288 with 1 Axes>"
      ]
     },
     "metadata": {
      "needs_background": "light"
     },
     "output_type": "display_data"
    }
   ],
   "source": [
    "f, ax = plt.subplots(figsize=(12, 4))\n",
    "\n",
    "sns.despine()\n",
    "ax = sns.countplot(data=train_essays,\n",
    "                   x=\"generated\")\n",
    "\n",
    "abs_values = train_essays['generated'].value_counts().values\n",
    "\n",
    "ax.bar_label(container=ax.containers[0], labels=abs_values)\n",
    "\n",
    "ax.set_title(\"Distribution of Generated Text\")"
   ]
  },
  {
   "cell_type": "code",
   "execution_count": 4,
   "metadata": {
    "execution": {
     "iopub.execute_input": "2024-01-17T04:47:13.784069Z",
     "iopub.status.busy": "2024-01-17T04:47:13.783555Z",
     "iopub.status.idle": "2024-01-17T04:47:13.814327Z",
     "shell.execute_reply": "2024-01-17T04:47:13.812775Z",
     "shell.execute_reply.started": "2024-01-17T04:47:13.784020Z"
    }
   },
   "outputs": [],
   "source": [
    "train_essays['text_length'] = train_essays['text'].apply(lambda x: len(str(x)))\n",
    "\n",
    "# 'text' 열을 문자열로 캐스팅하고 리스트로 변환\n",
    "train_essays_sen = train_essays['text'].astype(str).tolist()\n",
    "\n",
    "# 각 텍스트의 문장 수를 세어 새로운 열에 저장\n",
    "train_essays['sentence_count'] = [text.count('.') + text.count('!') + text.count('?') for text in train_essays_sen]\n",
    "# df_train_extra_stu.drop(['prompt_name','source','RDizzl3_seven','model'],axis=1,inplace=True)\n",
    "\n",
    "train_essays.drop(['id','prompt_id'],axis=1,inplace=True)"
   ]
  },
  {
   "cell_type": "code",
   "execution_count": 5,
   "metadata": {
    "execution": {
     "iopub.execute_input": "2024-01-17T04:47:13.816370Z",
     "iopub.status.busy": "2024-01-17T04:47:13.816032Z",
     "iopub.status.idle": "2024-01-17T04:47:14.406502Z",
     "shell.execute_reply": "2024-01-17T04:47:14.405479Z",
     "shell.execute_reply.started": "2024-01-17T04:47:13.816339Z"
    }
   },
   "outputs": [
    {
     "data": {
      "image/png": "[encoded data removed]",
      "text/plain": [
       "<Figure size 864x432 with 1 Axes>"
      ]
     },
     "metadata": {
      "needs_background": "light"
     },
     "output_type": "display_data"
    }
   ],
   "source": [
    "import matplotlib.pyplot as plt\n",
    "import seaborn as sns\n",
    "# Plotting the histogram\n",
    "plt.figure(figsize=(12, 6))\n",
    "sns.histplot(train_essays['text_length'], bins=50, color='blue', label='Generated 1 filter', kde=True)\n",
    "plt.title('Distribution of Sentence Length by \"generated 1 filter\"')\n",
    "plt.xlabel('Text Length')\n",
    "plt.ylabel('Frequency')\n",
    "plt.legend()\n",
    "plt.show()"
   ]
  },
  {
   "cell_type": "code",
   "execution_count": 6,
   "metadata": {
    "execution": {
     "iopub.execute_input": "2024-01-17T04:47:14.408822Z",
     "iopub.status.busy": "2024-01-17T04:47:14.408034Z",
     "iopub.status.idle": "2024-01-17T04:47:14.444887Z",
     "shell.execute_reply": "2024-01-17T04:47:14.443568Z",
     "shell.execute_reply.started": "2024-01-17T04:47:14.408784Z"
    }
   },
   "outputs": [
    {
     "name": "stdout",
     "output_type": "stream",
     "text": [
      "       generated  text_length  sentence_count\n",
      "count     1375.0  1375.000000     1375.000000\n",
      "mean         0.0  3172.581091       30.477818\n",
      "std          0.0   918.439217       10.242158\n",
      "min          0.0  1486.000000        7.000000\n",
      "25%          0.0  2556.500000       24.000000\n",
      "50%          0.0  2987.000000       29.000000\n",
      "75%          0.0  3624.500000       35.500000\n",
      "max          0.0  8436.000000      108.000000\n",
      "       generated  text_length  sentence_count\n",
      "count        3.0     3.000000        3.000000\n",
      "mean         1.0  1551.000000       12.333333\n",
      "std          0.0   224.879968        2.309401\n",
      "min          1.0  1356.000000       11.000000\n",
      "25%          1.0  1428.000000       11.000000\n",
      "50%          1.0  1500.000000       11.000000\n",
      "75%          1.0  1648.500000       13.000000\n",
      "max          1.0  1797.000000       15.000000\n"
     ]
    }
   ],
   "source": [
    "selected_rows11 = train_essays[train_essays['generated'] == 1]\n",
    "selected_rows01 = train_essays[train_essays['generated'] == 0]\n",
    "# 선택된 행들에 대해 describe를 수행합니다.\n",
    "description11 = selected_rows11.describe()\n",
    "description01 = selected_rows01.describe()\n",
    "\n",
    "# 결과를 출력합니다.\n",
    "print(description01)\n",
    "print(description11)"
   ]
  },
  {
   "cell_type": "code",
   "execution_count": 7,
   "metadata": {
    "execution": {
     "iopub.execute_input": "2024-01-17T04:47:14.446636Z",
     "iopub.status.busy": "2024-01-17T04:47:14.446210Z",
     "iopub.status.idle": "2024-01-17T04:47:14.471100Z",
     "shell.execute_reply": "2024-01-17T04:47:14.469715Z",
     "shell.execute_reply.started": "2024-01-17T04:47:14.446599Z"
    }
   },
   "outputs": [
    {
     "name": "stdout",
     "output_type": "stream",
     "text": [
      "Generated 0:\n",
      "    sentence_count  generated_0_count\n",
      "57               7                  1\n",
      "40              11                  5\n",
      "59              12                  1\n",
      "44              13                  4\n",
      "38              14                  6\n",
      "..             ...                ...\n",
      "50              71                  2\n",
      "58              73                  1\n",
      "61              74                  1\n",
      "60              82                  1\n",
      "53             108                  1\n",
      "\n",
      "[62 rows x 2 columns]\n",
      "\n",
      "Generated 1:\n",
      "   sentence_count  generated_1_count\n",
      "0              11                  2\n",
      "1              15                  1\n"
     ]
    }
   ],
   "source": [
    "# 'generated' 열 값이 0인 경우와 1인 경우를 분리\n",
    "generated_0_counts1 = train_essays[train_essays['generated'] == 0]['sentence_count'].value_counts().reset_index()\n",
    "generated_0_counts1.columns = ['sentence_count', 'generated_0_count']\n",
    "\n",
    "generated_1_counts1 = train_essays[train_essays['generated'] == 1]['sentence_count'].value_counts().reset_index()\n",
    "generated_1_counts1.columns = ['sentence_count', 'generated_1_count']\n",
    "\n",
    "# 결과를 오름차순으로 정렬\n",
    "generated_0_counts1 = generated_0_counts1.sort_values(by='sentence_count')\n",
    "generated_1_counts1 = generated_1_counts1.sort_values(by='sentence_count')\n",
    "\n",
    "# 출력\n",
    "print(\"Generated 0:\")\n",
    "print(generated_0_counts1)\n",
    "\n",
    "print(\"\\nGenerated 1:\")\n",
    "print(generated_1_counts1)\n"
   ]
  },
  {
   "cell_type": "code",
   "execution_count": 8,
   "metadata": {
    "execution": {
     "iopub.execute_input": "2024-01-17T04:47:14.473092Z",
     "iopub.status.busy": "2024-01-17T04:47:14.472709Z",
     "iopub.status.idle": "2024-01-17T04:47:14.482760Z",
     "shell.execute_reply": "2024-01-17T04:47:14.481308Z",
     "shell.execute_reply.started": "2024-01-17T04:47:14.473058Z"
    }
   },
   "outputs": [
    {
     "name": "stdout",
     "output_type": "stream",
     "text": [
      "Limiting car use causes pollution, increases costs to users regardless of where services or services are offered. Furthermore, over use of the gas results in increased environmental degradation, harming our resources while damaging our environment.\n",
      "\n",
      "When consumers pay a larger amount before gasoline is refined then there are higher costs of running the engine than otherwise. There are fewer places where the gas can be purchased locally causing more problems. Car trips will usually have higher tolls which results in lost wages for the transportation worker, who goes to an unnecessary location for work and then returns home and gets to pay back his transportation back costs. The car accident rate amongst children also has increased. Car pollution can become airborne easily, contaminating children's health. Also children tend to be more careless and more often in accidents simply because of being pushed out of their cars onto the road. All of this can be done to better an already polluted Earth that is becoming increasingly damaged at a much faster rate. Limiting our vehicle use helps our citizens with a reduced budget. It also reduces pollution for local areas. Furthermore, it improves public health and makes city dwellers a wealthier society.\n",
      "\n",
      "Limiting our own usage by adopting public transportation, walking, biking, and public transport actually would be beneficial for the citizens and planet. I think its very healthy but very little others show similar sentiment mostly environmental activists who want a more environmentally clean place so it often is still looked down upon it still will bring about a very drastic price eventually but there will never be carbon credit trading or an oil recycling scheme unless people want it too. Limiting car use is good for the city.\n",
      "----------------------------------------\n"
     ]
    }
   ],
   "source": [
    "for index, row in train_essays[(train_essays['generated'] == 1) & (train_essays['sentence_count'] == 15)].iterrows():\n",
    "    print(row['text'])\n",
    "    print(\"-\" * 40)  # 경계선 출력"
   ]
  },
  {
   "cell_type": "code",
   "execution_count": 9,
   "metadata": {
    "execution": {
     "iopub.execute_input": "2024-01-17T04:47:14.485294Z",
     "iopub.status.busy": "2024-01-17T04:47:14.484275Z",
     "iopub.status.idle": "2024-01-17T04:47:14.508255Z",
     "shell.execute_reply": "2024-01-17T04:47:14.506827Z",
     "shell.execute_reply.started": "2024-01-17T04:47:14.485242Z"
    }
   },
   "outputs": [
    {
     "data": {
      "text/html": [
       "<div>\n",
       "<style scoped>\n",
       "    .dataframe tbody tr th:only-of-type {\n",
       "        vertical-align: middle;\n",
       "    }\n",
       "\n",
       "    .dataframe tbody tr th {\n",
       "        vertical-align: top;\n",
       "    }\n",
       "\n",
       "    .dataframe thead th {\n",
       "        text-align: right;\n",
       "    }\n",
       "</style>\n",
       "<table border=\"1\" class=\"dataframe\">\n",
       "  <thead>\n",
       "    <tr style=\"text-align: right;\">\n",
       "      <th></th>\n",
       "      <th>text</th>\n",
       "      <th>generated</th>\n",
       "      <th>text_length</th>\n",
       "      <th>sentence_count</th>\n",
       "    </tr>\n",
       "  </thead>\n",
       "  <tbody>\n",
       "    <tr>\n",
       "      <th>0</th>\n",
       "      <td>Cars. Cars have been around since they became ...</td>\n",
       "      <td>0</td>\n",
       "      <td>3289</td>\n",
       "      <td>26</td>\n",
       "    </tr>\n",
       "    <tr>\n",
       "      <th>1</th>\n",
       "      <td>Transportation is a large necessity in most co...</td>\n",
       "      <td>0</td>\n",
       "      <td>2738</td>\n",
       "      <td>27</td>\n",
       "    </tr>\n",
       "    <tr>\n",
       "      <th>2</th>\n",
       "      <td>\"America's love affair with it's vehicles seem...</td>\n",
       "      <td>0</td>\n",
       "      <td>4428</td>\n",
       "      <td>48</td>\n",
       "    </tr>\n",
       "    <tr>\n",
       "      <th>3</th>\n",
       "      <td>How often do you ride in a car? Do you drive a...</td>\n",
       "      <td>0</td>\n",
       "      <td>4013</td>\n",
       "      <td>54</td>\n",
       "    </tr>\n",
       "    <tr>\n",
       "      <th>4</th>\n",
       "      <td>Cars are a wonderful thing. They are perhaps o...</td>\n",
       "      <td>0</td>\n",
       "      <td>4698</td>\n",
       "      <td>53</td>\n",
       "    </tr>\n",
       "  </tbody>\n",
       "</table>\n",
       "</div>"
      ],
      "text/plain": [
       "                                                text  generated  text_length  \\\n",
       "0  Cars. Cars have been around since they became ...          0         3289   \n",
       "1  Transportation is a large necessity in most co...          0         2738   \n",
       "2  \"America's love affair with it's vehicles seem...          0         4428   \n",
       "3  How often do you ride in a car? Do you drive a...          0         4013   \n",
       "4  Cars are a wonderful thing. They are perhaps o...          0         4698   \n",
       "\n",
       "   sentence_count  \n",
       "0              26  \n",
       "1              27  \n",
       "2              48  \n",
       "3              54  \n",
       "4              53  "
      ]
     },
     "execution_count": 9,
     "metadata": {},
     "output_type": "execute_result"
    }
   ],
   "source": [
    "train_essays.head()"
   ]
  },
  {
   "cell_type": "code",
   "execution_count": 10,
   "metadata": {
    "execution": {
     "iopub.execute_input": "2024-01-17T04:47:14.513613Z",
     "iopub.status.busy": "2024-01-17T04:47:14.513182Z",
     "iopub.status.idle": "2024-01-17T04:47:14.539662Z",
     "shell.execute_reply": "2024-01-17T04:47:14.538595Z",
     "shell.execute_reply.started": "2024-01-17T04:47:14.513575Z"
    }
   },
   "outputs": [
    {
     "data": {
      "text/html": [
       "<div>\n",
       "<style scoped>\n",
       "    .dataframe tbody tr th:only-of-type {\n",
       "        vertical-align: middle;\n",
       "    }\n",
       "\n",
       "    .dataframe tbody tr th {\n",
       "        vertical-align: top;\n",
       "    }\n",
       "\n",
       "    .dataframe thead th {\n",
       "        text-align: right;\n",
       "    }\n",
       "</style>\n",
       "<table border=\"1\" class=\"dataframe\">\n",
       "  <thead>\n",
       "    <tr style=\"text-align: right;\">\n",
       "      <th></th>\n",
       "      <th>generated</th>\n",
       "      <th>text_length</th>\n",
       "      <th>sentence_count</th>\n",
       "    </tr>\n",
       "  </thead>\n",
       "  <tbody>\n",
       "    <tr>\n",
       "      <th>count</th>\n",
       "      <td>1378.000000</td>\n",
       "      <td>1378.000000</td>\n",
       "      <td>1378.000000</td>\n",
       "    </tr>\n",
       "    <tr>\n",
       "      <th>mean</th>\n",
       "      <td>0.002177</td>\n",
       "      <td>3169.050798</td>\n",
       "      <td>30.438316</td>\n",
       "    </tr>\n",
       "    <tr>\n",
       "      <th>std</th>\n",
       "      <td>0.046625</td>\n",
       "      <td>920.588198</td>\n",
       "      <td>10.266290</td>\n",
       "    </tr>\n",
       "    <tr>\n",
       "      <th>min</th>\n",
       "      <td>0.000000</td>\n",
       "      <td>1356.000000</td>\n",
       "      <td>7.000000</td>\n",
       "    </tr>\n",
       "    <tr>\n",
       "      <th>25%</th>\n",
       "      <td>0.000000</td>\n",
       "      <td>2554.250000</td>\n",
       "      <td>24.000000</td>\n",
       "    </tr>\n",
       "    <tr>\n",
       "      <th>50%</th>\n",
       "      <td>0.000000</td>\n",
       "      <td>2985.500000</td>\n",
       "      <td>29.000000</td>\n",
       "    </tr>\n",
       "    <tr>\n",
       "      <th>75%</th>\n",
       "      <td>0.000000</td>\n",
       "      <td>3623.750000</td>\n",
       "      <td>35.000000</td>\n",
       "    </tr>\n",
       "    <tr>\n",
       "      <th>max</th>\n",
       "      <td>1.000000</td>\n",
       "      <td>8436.000000</td>\n",
       "      <td>108.000000</td>\n",
       "    </tr>\n",
       "  </tbody>\n",
       "</table>\n",
       "</div>"
      ],
      "text/plain": [
       "         generated  text_length  sentence_count\n",
       "count  1378.000000  1378.000000     1378.000000\n",
       "mean      0.002177  3169.050798       30.438316\n",
       "std       0.046625   920.588198       10.266290\n",
       "min       0.000000  1356.000000        7.000000\n",
       "25%       0.000000  2554.250000       24.000000\n",
       "50%       0.000000  2985.500000       29.000000\n",
       "75%       0.000000  3623.750000       35.000000\n",
       "max       1.000000  8436.000000      108.000000"
      ]
     },
     "execution_count": 10,
     "metadata": {},
     "output_type": "execute_result"
    }
   ],
   "source": [
    "train_essays.describe()"
   ]
  },
  {
   "cell_type": "code",
   "execution_count": 11,
   "metadata": {
    "execution": {
     "iopub.execute_input": "2024-01-17T04:47:14.541857Z",
     "iopub.status.busy": "2024-01-17T04:47:14.540933Z",
     "iopub.status.idle": "2024-01-17T04:47:14.563226Z",
     "shell.execute_reply": "2024-01-17T04:47:14.562038Z",
     "shell.execute_reply.started": "2024-01-17T04:47:14.541802Z"
    }
   },
   "outputs": [
    {
     "name": "stdout",
     "output_type": "stream",
     "text": [
      "<class 'pandas.core.frame.DataFrame'>\n",
      "RangeIndex: 1378 entries, 0 to 1377\n",
      "Data columns (total 4 columns):\n",
      " #   Column          Non-Null Count  Dtype \n",
      "---  ------          --------------  ----- \n",
      " 0   text            1378 non-null   object\n",
      " 1   generated       1378 non-null   int64 \n",
      " 2   text_length     1378 non-null   int64 \n",
      " 3   sentence_count  1378 non-null   int64 \n",
      "dtypes: int64(3), object(1)\n",
      "memory usage: 43.2+ KB\n"
     ]
    }
   ],
   "source": [
    "train_essays.info()"
   ]
  },
  {
   "cell_type": "markdown",
   "metadata": {},
   "source": [
    "# ====== train_extra로부터 데이터 증강 =========="
   ]
  },
  {
   "cell_type": "code",
   "execution_count": null,
   "metadata": {
    "execution": {
     "iopub.execute_input": "2024-01-16T09:36:00.542318Z",
     "iopub.status.busy": "2024-01-16T09:36:00.541809Z",
     "iopub.status.idle": "2024-01-16T09:36:00.565312Z",
     "shell.execute_reply": "2024-01-16T09:36:00.564497Z",
     "shell.execute_reply.started": "2024-01-16T09:36:00.542286Z"
    }
   },
   "outputs": [],
   "source": [
    "# df_train_extra=pd.concat([train_extra,train_extra_2],ignore_index=True)\n",
    "\n",
    "# df_train_extra.rename(columns = {\"label\":\"generated\"}, inplace=True)"
   ]
  },
  {
   "cell_type": "code",
   "execution_count": null,
   "metadata": {},
   "outputs": [],
   "source": [
    "# unique_prompt_names = df_train_extra['prompt_name'].unique()\n",
    "# print(unique_prompt_names)"
   ]
  },
  {
   "cell_type": "code",
   "execution_count": null,
   "metadata": {},
   "outputs": [],
   "source": [
    "# # generated 열 값이 0인 행들만 추출하여 새로운 데이터프레임 생성\n",
    "# df_train_extra_stu1 = df_train_extra[df_train_extra['generated'] == 1]\n",
    "# df_train_extra_stu0 = df_train_extra[df_train_extra['generated'] == 0]\n",
    "# # df_train_extra_stu = df_train_extra_stu.drop(columns=[\"prompt_name\", \"RDizzl3_seven\", 'model'])\n",
    "\n",
    "# # df_train_extra_stu = df_train_extra_stu[df_train_extra_stu['source'] == 'train_essays']\n",
    "\n",
    "# # 새로운 데이터프레임 확인\n",
    "# print(df_train_extra_stu1)\n",
    "# print(df_train_extra_stu0)"
   ]
  },
  {
   "cell_type": "code",
   "execution_count": null,
   "metadata": {},
   "outputs": [],
   "source": [
    "# df_train_extra_stu = pd.concat([df_train_extra_stu0,df_train_extra_stu1])"
   ]
  },
  {
   "cell_type": "code",
   "execution_count": null,
   "metadata": {},
   "outputs": [],
   "source": [
    "# # 공백 제거\n",
    "# df_train_extra_stu.dropna(subset=['text'], inplace=True)\n",
    "# df_train_extra_stu['text'] = df_train_extra_stu['text'].str.strip()\n",
    "# df_train_extra_stu = df_train_extra_stu[df_train_extra_stu['text'] != \"\"]\n",
    "\n",
    "# # 중복된 텍스트 제거\n",
    "# df_train_extra_stu.drop_duplicates(subset='text', keep='first', inplace=True)"
   ]
  },
  {
   "cell_type": "code",
   "execution_count": null,
   "metadata": {},
   "outputs": [],
   "source": [
    "# import re\n",
    "\n",
    "# # 공백 제거\n",
    "# df_train_extra_stu.dropna(subset=['text'], inplace=True)\n",
    "# df_train_extra_stu['text'] = df_train_extra_stu['text'].str.strip()\n",
    "# df_train_extra_stu = df_train_extra_stu[df_train_extra_stu['text'] != \"\"]\n",
    "\n",
    "# def clean_text(text):\n",
    "#     # 줄넘김 기호를 공백으로 대체\n",
    "#     text = re.sub(r'[\\r\\n]', ' ', text)\n",
    "#     # 연속된 마침표 제거 (단, 단일 마침표는 유지)\n",
    "#     text = re.sub(r'\\.{2,}', '', text)\n",
    "#         # 연속된 물음표와 느낌표를 하나로 축소\n",
    "#     text = re.sub(r'\\?{2,}', '?', text)\n",
    "#     text = re.sub(r'!{2,}', '!', text)\n",
    "#     # 특수 문자 제거 (단, 영문자, 숫자, 밑줄, 공백, 단일 마침표, 물음표, 느낌표는 유지)\n",
    "#     text = re.sub(r'[^\\w\\s.?!]', '', text)\n",
    "    \n",
    "# #     # 연속되는 동일한 단어 또는 구문 제거 (예: 'I I I I...' 또는 'Claim The Face...')\n",
    "# #     text = re.sub(r'(\\b\\w+\\b)( \\1\\b)+', r'\\1', text)\n",
    "#     return text\n",
    "\n",
    "# def is_text_too_short(text, min_length=150):\n",
    "#     # 텍스트 길이가 최소 길이보다 짧은지 확인\n",
    "#     return len(text) > min_length\n",
    "\n",
    "# # DataFrame의 'text' 컬럼에 clean_text 함수 적용\n",
    "# df_train_extra_stu['text'] = df_train_extra_stu['text'].progress_apply(clean_text)\n",
    "\n",
    "# # 너무 짧은 텍스트 필터링\n",
    "# df_train_extra_stu = df_train_extra_stu[df_train_extra_stu['text'].progress_apply(is_text_too_short)]\n",
    "\n",
    "\n",
    "# # 중복된 텍스트 제거\n",
    "# df_train_extra_stu.drop_duplicates(subset='text', keep='first', inplace=True)\n",
    "\n",
    "\n",
    "# def has_repeated_sentences(text):\n",
    "#     # 단어 또는 구문의 반복을 체크하는 함수\n",
    "#     # '\\b'는 단어 경계를 나타냄, '(.+)'는 임의의 문자열, '\\s'는 공백, '\\1'은 첫번째 캡쳐된 그룹\n",
    "#     if re.search(r'(\\b.+)\\b\\s+\\1', text):\n",
    "#         return True\n",
    "#     return False\n",
    "\n",
    "# # 'text' 컬럼에서 반복되는 문장을 포함하는 행을 필터링하고 제거\n",
    "# df_train_extra_stu = df_train_extra_stu[df_train_extra_stu['text'].progress_apply(has_repeated_sentences)]\n",
    "\n"
   ]
  },
  {
   "cell_type": "code",
   "execution_count": null,
   "metadata": {},
   "outputs": [],
   "source": [
    "# df_train_extra_stu['text_length'] = df_train_extra_stu['text'].apply(lambda x: len(str(x)))\n",
    "# df_train_extra_stu=df_train_extra_stu.drop(['prompt_name','source','RDizzl3_seven','model'],axis=1)"
   ]
  },
  {
   "cell_type": "code",
   "execution_count": null,
   "metadata": {},
   "outputs": [],
   "source": [
    "# # 'text' 열을 문자열로 캐스팅하고 리스트로 변환\n",
    "# df_train_extra_stu_sen = df_train_extra_stu['text'].astype(str).tolist()\n",
    "\n",
    "# # 각 텍스트의 문장 수를 세어 새로운 열에 저장\n",
    "# df_train_extra_stu['sentence_count'] = [text.count('.') + text.count('!') + text.count('?') for text in df_train_extra_stu_sen]\n",
    "# # df_train_extra_stu.drop(['prompt_name','source','RDizzl3_seven','model'],axis=1,inplace=True)"
   ]
  },
  {
   "cell_type": "code",
   "execution_count": null,
   "metadata": {},
   "outputs": [],
   "source": [
    "# df_train_extra_stu.tail()"
   ]
  },
  {
   "cell_type": "code",
   "execution_count": null,
   "metadata": {
    "execution": {
     "iopub.execute_input": "2024-01-16T11:34:48.501583Z",
     "iopub.status.busy": "2024-01-16T11:34:48.501102Z",
     "iopub.status.idle": "2024-01-16T11:34:48.754270Z",
     "shell.execute_reply": "2024-01-16T11:34:48.753385Z",
     "shell.execute_reply.started": "2024-01-16T11:34:48.501547Z"
    }
   },
   "outputs": [],
   "source": [
    "f, ax = plt.subplots(figsize=(12, 4))\n",
    "\n",
    "sns.despine()\n",
    "ax = sns.countplot(data=df_train_extra_stu,\n",
    "                   x=\"generated\",\n",
    "                   order=df_train_extra_stu['generated'].value_counts().index[::-1])  # 데이터를 뒤집어서 정렬\n",
    "\n",
    "abs_values = df_train_extra_stu['generated'].value_counts().values[::-1]  # 데이터를 뒤집어서 정렬\n",
    "\n",
    "ax.bar_label(container=ax.containers[0], labels=abs_values)\n",
    "\n",
    "ax.set_title(\"Distribution of Generated Text\")\n"
   ]
  },
  {
   "cell_type": "code",
   "execution_count": null,
   "metadata": {
    "execution": {
     "iopub.execute_input": "2024-01-16T11:34:49.831590Z",
     "iopub.status.busy": "2024-01-16T11:34:49.830677Z",
     "iopub.status.idle": "2024-01-16T11:34:50.106714Z",
     "shell.execute_reply": "2024-01-16T11:34:50.105823Z",
     "shell.execute_reply.started": "2024-01-16T11:34:49.831557Z"
    }
   },
   "outputs": [],
   "source": [
    "f, ax = plt.subplots(figsize=(12, 4))\n",
    "\n",
    "sns.despine()\n",
    "ax = sns.countplot(data=df_train_extra_stu,\n",
    "                   x=\"generated\",\n",
    "                   order=df_train_extra_stu['generated'].value_counts().index[::-1])  # 데이터를 뒤집어서 정렬\n",
    "\n",
    "abs_values = df_train_extra_stu['generated'].value_counts().values[::-1]  # 데이터를 뒤집어서 정렬\n",
    "\n",
    "ax.bar_label(container=ax.containers[0], labels=abs_values)\n",
    "\n",
    "ax.set_title(\"Distribution of Generated Text\")\n"
   ]
  },
  {
   "cell_type": "code",
   "execution_count": null,
   "metadata": {
    "execution": {
     "iopub.execute_input": "2024-01-16T11:34:51.945553Z",
     "iopub.status.busy": "2024-01-16T11:34:51.944799Z",
     "iopub.status.idle": "2024-01-16T11:34:51.976107Z",
     "shell.execute_reply": "2024-01-16T11:34:51.975272Z",
     "shell.execute_reply.started": "2024-01-16T11:34:51.945517Z"
    }
   },
   "outputs": [],
   "source": [
    "selected_rows1 = df_train_extra_stu[df_train_extra_stu['generated'] == 1]\n",
    "selected_rows0 = df_train_extra_stu[df_train_extra_stu['generated'] == 0]\n",
    "# 선택된 행들에 대해 describe를 수행합니다.\n",
    "description1 = selected_rows1.describe()\n",
    "description0 = selected_rows0.describe()\n",
    "\n",
    "# 결과를 출력합니다.\n",
    "print(description0)\n",
    "print(description1)"
   ]
  },
  {
   "cell_type": "code",
   "execution_count": null,
   "metadata": {
    "execution": {
     "iopub.execute_input": "2024-01-16T11:34:53.675509Z",
     "iopub.status.busy": "2024-01-16T11:34:53.675113Z",
     "iopub.status.idle": "2024-01-16T11:34:54.048869Z",
     "shell.execute_reply": "2024-01-16T11:34:54.047854Z",
     "shell.execute_reply.started": "2024-01-16T11:34:53.675480Z"
    }
   },
   "outputs": [],
   "source": [
    "f, ax = plt.subplots(figsize=(12, 4))\n",
    "\n",
    "sns.despine()\n",
    "ax = sns.countplot(data=df_train_extra_stu,\n",
    "                   x=\"generated\",\n",
    "                   order=df_train_extra_stu['generated'].value_counts().index[::-1])  # 데이터를 뒤집어서 정렬\n",
    "\n",
    "abs_values = df_train_extra_stu['generated'].value_counts().values[::-1]  # 데이터를 뒤집어서 정렬\n",
    "\n",
    "ax.bar_label(container=ax.containers[0], labels=abs_values)\n",
    "\n",
    "ax.set_title(\"Distribution of Generated Text\")\n"
   ]
  },
  {
   "cell_type": "code",
   "execution_count": null,
   "metadata": {
    "execution": {
     "iopub.execute_input": "2024-01-16T11:34:55.397398Z",
     "iopub.status.busy": "2024-01-16T11:34:55.397056Z",
     "iopub.status.idle": "2024-01-16T11:34:56.579086Z",
     "shell.execute_reply": "2024-01-16T11:34:56.578015Z",
     "shell.execute_reply.started": "2024-01-16T11:34:55.397373Z"
    }
   },
   "outputs": [],
   "source": [
    "plt.figure(figsize=(16, 6))\n",
    "\n",
    "# 'generated'가 0인 경우의 히스토그램\n",
    "sns.histplot(df_train_extra_stu[df_train_extra_stu['generated'] == 0]['text_length'], bins=150, color='blue', label='Generated 0', kde=True)\n",
    "\n",
    "# 'generated'가 1인 경우의 히스토그램\n",
    "sns.histplot(df_train_extra_stu[df_train_extra_stu['generated'] == 1]['text_length'], bins=150, color='red', label='Generated 1', kde=True)\n",
    "\n",
    "plt.title('Distribution of word count by \"generated\"')\n",
    "plt.xlabel('Text Length')\n",
    "plt.ylabel('Frequency')\n",
    "plt.legend()\n",
    "plt.show()\n"
   ]
  },
  {
   "cell_type": "code",
   "execution_count": null,
   "metadata": {
    "execution": {
     "iopub.execute_input": "2024-01-16T11:34:57.466097Z",
     "iopub.status.busy": "2024-01-16T11:34:57.465635Z",
     "iopub.status.idle": "2024-01-16T11:34:58.619368Z",
     "shell.execute_reply": "2024-01-16T11:34:58.618374Z",
     "shell.execute_reply.started": "2024-01-16T11:34:57.466064Z"
    }
   },
   "outputs": [],
   "source": [
    "plt.figure(figsize=(16, 6))\n",
    "\n",
    "# 'generated'가 0인 경우의 히스토그램\n",
    "sns.histplot(df_train_extra_stu[df_train_extra_stu['generated'] == 0]['sentence_count'], bins=150, color='blue', label='Generated 0', kde=True)\n",
    "\n",
    "# 'generated'가 1인 경우의 히스토그램\n",
    "sns.histplot(df_train_extra_stu[df_train_extra_stu['generated'] == 1]['sentence_count'], bins=150, color='red', label='Generated 1', kde=True)\n",
    "\n",
    "plt.title('Distribution of Sentence count by \"generated\"')\n",
    "plt.xlabel('sentence_count')\n",
    "plt.ylabel('Frequency')\n",
    "plt.legend()\n",
    "plt.show()\n"
   ]
  },
  {
   "cell_type": "code",
   "execution_count": null,
   "metadata": {},
   "outputs": [],
   "source": [
    "import matplotlib.pyplot as plt\n",
    "import pandas as pd\n",
    "\n",
    "# 데이터프레임 예시 (df_train_extra_stu)\n",
    "# df_train_extra_stu = pd.DataFrame({\n",
    "#     'text_length': [100, 200, 300, 400],\n",
    "#     'sentence_count': [10, 20, 30, 40]\n",
    "# })\n",
    "\n",
    "# 산점도 생성\n",
    "plt.scatter(df_train_extra_stu['text_length'], df_train_extra_stu['sentence_count'])\n",
    "plt.xlabel('Text Length')\n",
    "plt.ylabel('Sentence Count')\n",
    "plt.title('Scatter Plot of Text Length vs Sentence Count')\n",
    "plt.show()\n"
   ]
  },
  {
   "cell_type": "code",
   "execution_count": null,
   "metadata": {},
   "outputs": [],
   "source": [
    "# 상관계수 계산\n",
    "correlation = df_train_extra_stu['text_length'].corr(df_train_extra_stu['sentence_count'])\n",
    "print(\"Correlation coefficient:\", correlation)\n"
   ]
  },
  {
   "cell_type": "code",
   "execution_count": null,
   "metadata": {},
   "outputs": [],
   "source": [
    "selected_rows1 = df_train_extra_stu[df_train_extra_stu['generated'] == 1]\n",
    "selected_rows0 = df_train_extra_stu[df_train_extra_stu['generated'] == 0]\n",
    "# 선택된 행들에 대해 describe를 수행합니다.\n",
    "description1 = selected_rows1.describe()\n",
    "description0 = selected_rows0.describe()\n",
    "\n",
    "# 결과를 출력합니다.\n",
    "print(description0)\n",
    "print(description1)"
   ]
  },
  {
   "cell_type": "code",
   "execution_count": null,
   "metadata": {},
   "outputs": [],
   "source": [
    "# 'generated' 열 값이 0인 경우와 1인 경우를 분리\n",
    "generated_0_counts = df_train_extra_stu[df_train_extra_stu['generated'] == 0]['sentence_count'].value_counts().reset_index()\n",
    "generated_0_counts.columns = ['sentence_count', 'generated_0_count']\n",
    "\n",
    "generated_1_counts = df_train_extra_stu[df_train_extra_stu['generated'] == 1]['sentence_count'].value_counts().reset_index()\n",
    "generated_1_counts.columns = ['sentence_count', 'generated_1_count']\n",
    "\n",
    "# 결과를 오름차순으로 정렬\n",
    "generated_0_counts = generated_0_counts.sort_values(by='sentence_count')\n",
    "generated_1_counts = generated_1_counts.sort_values(by='sentence_count')\n",
    "\n",
    "# 출력\n",
    "print(\"Generated 0:\")\n",
    "print(generated_0_counts)\n",
    "\n",
    "print(\"\\nGenerated 1:\")\n",
    "print(generated_1_counts)\n"
   ]
  },
  {
   "cell_type": "code",
   "execution_count": null,
   "metadata": {
    "execution": {
     "iopub.execute_input": "2024-01-16T11:35:30.304300Z",
     "iopub.status.busy": "2024-01-16T11:35:30.303637Z",
     "iopub.status.idle": "2024-01-16T11:35:30.312382Z",
     "shell.execute_reply": "2024-01-16T11:35:30.311384Z",
     "shell.execute_reply.started": "2024-01-16T11:35:30.304261Z"
    }
   },
   "outputs": [],
   "source": [
    "for index, row in df_train_extra_stu[(df_train_extra_stu['generated'] == 1) & (df_train_extra_stu['sentence_count'] == 3)].iterrows():\n",
    "    print(row['text'])\n",
    "    print(\"-\" * 40)  # 경계선 출력"
   ]
  },
  {
   "cell_type": "code",
   "execution_count": null,
   "metadata": {},
   "outputs": [],
   "source": [
    "# # 정제된 데이터를 CSV 파일로 저장\n",
    "# df_train_extra_stu.to_csv('cleaned_data_3.csv', index=False)"
   ]
  },
  {
   "cell_type": "code",
   "execution_count": null,
   "metadata": {
    "execution": {
     "iopub.execute_input": "2024-01-16T07:38:05.986263Z",
     "iopub.status.busy": "2024-01-16T07:38:05.985859Z",
     "iopub.status.idle": "2024-01-16T07:38:06.471211Z",
     "shell.execute_reply": "2024-01-16T07:38:06.470274Z",
     "shell.execute_reply.started": "2024-01-16T07:38:05.986229Z"
    }
   },
   "outputs": [],
   "source": [
    "# df_train_extra_stu = pd.read_csv('/kaggle/input/clean-data-set/cleaned_data_3_clean.csv')"
   ]
  },
  {
   "cell_type": "code",
   "execution_count": null,
   "metadata": {},
   "outputs": [],
   "source": []
  },
  {
   "cell_type": "code",
   "execution_count": null,
   "metadata": {},
   "outputs": [],
   "source": []
  },
  {
   "cell_type": "code",
   "execution_count": null,
   "metadata": {},
   "outputs": [],
   "source": []
  },
  {
   "cell_type": "markdown",
   "metadata": {},
   "source": [
    "# =====df_train_essays_final 데이터셋 준비======="
   ]
  },
  {
   "cell_type": "code",
   "execution_count": 14,
   "metadata": {
    "execution": {
     "iopub.execute_input": "2024-01-17T04:47:14.564822Z",
     "iopub.status.busy": "2024-01-17T04:47:14.564463Z",
     "iopub.status.idle": "2024-01-17T04:47:15.155892Z",
     "shell.execute_reply": "2024-01-17T04:47:15.154661Z",
     "shell.execute_reply.started": "2024-01-17T04:47:14.564791Z"
    }
   },
   "outputs": [],
   "source": [
    "# df_train_extra_stu = pd.read_csv('/kaggle/input/clean-data-set/cleaned_data_3_clean.csv')"
   ]
  },
  {
   "cell_type": "code",
   "execution_count": 12,
   "metadata": {},
   "outputs": [],
   "source": [
    "df_train_extra_stu = pd.read_csv('cleaned_data_3_clean.csv')"
   ]
  },
  {
   "cell_type": "code",
   "execution_count": 13,
   "metadata": {
    "execution": {
     "iopub.execute_input": "2024-01-17T04:47:15.158504Z",
     "iopub.status.busy": "2024-01-17T04:47:15.158016Z",
     "iopub.status.idle": "2024-01-17T04:47:15.166509Z",
     "shell.execute_reply": "2024-01-17T04:47:15.165214Z",
     "shell.execute_reply.started": "2024-01-17T04:47:15.158458Z"
    }
   },
   "outputs": [],
   "source": [
    "df_train_essays_final = pd.concat([train_essays,df_train_extra_stu],axis=0)"
   ]
  },
  {
   "cell_type": "code",
   "execution_count": 16,
   "metadata": {
    "execution": {
     "iopub.execute_input": "2024-01-17T04:47:15.169057Z",
     "iopub.status.busy": "2024-01-17T04:47:15.168101Z",
     "iopub.status.idle": "2024-01-17T04:47:15.475638Z",
     "shell.execute_reply": "2024-01-17T04:47:15.474460Z",
     "shell.execute_reply.started": "2024-01-17T04:47:15.169000Z"
    }
   },
   "outputs": [
    {
     "data": {
      "text/plain": [
       "Text(0.5, 1.0, 'Distribution of Generated Text')"
      ]
     },
     "execution_count": 16,
     "metadata": {},
     "output_type": "execute_result"
    },
    {
     "data": {
      "image/png": "[encoded data removed]",
      "text/plain": [
       "<Figure size 864x288 with 1 Axes>"
      ]
     },
     "metadata": {
      "needs_background": "light"
     },
     "output_type": "display_data"
    }
   ],
   "source": [
    "f, ax = plt.subplots(figsize=(12, 4))\n",
    "\n",
    "sns.despine()\n",
    "ax = sns.countplot(data=df_train_essays_final,\n",
    "                   x=\"generated\",\n",
    "                   order=df_train_essays_final['generated'].value_counts().index[::-1])  # 데이터를 뒤집어서 정렬\n",
    "\n",
    "abs_values = df_train_essays_final['generated'].value_counts().values[::-1]  # 데이터를 뒤집어서 정렬\n",
    "\n",
    "ax.bar_label(container=ax.containers[0], labels=abs_values)\n",
    "\n",
    "ax.set_title(\"Distribution of Generated Text\")\n"
   ]
  },
  {
   "cell_type": "code",
   "execution_count": 17,
   "metadata": {
    "execution": {
     "iopub.execute_input": "2024-01-17T04:47:15.477295Z",
     "iopub.status.busy": "2024-01-17T04:47:15.476956Z",
     "iopub.status.idle": "2024-01-17T04:47:16.539373Z",
     "shell.execute_reply": "2024-01-17T04:47:16.538159Z",
     "shell.execute_reply.started": "2024-01-17T04:47:15.477265Z"
    }
   },
   "outputs": [
    {
     "data": {
      "image/png": "[encoded data removed]",
      "text/plain": [
       "<Figure size 1152x432 with 2 Axes>"
      ]
     },
     "metadata": {
      "needs_background": "light"
     },
     "output_type": "display_data"
    }
   ],
   "source": [
    "# Create a figure with two subplots\n",
    "fig, (ax1, ax2) = plt.subplots(1, 2, figsize=(16, 6))\n",
    "\n",
    "# Plot the histogram for 'text_length' with generated=0\n",
    "sns.histplot(df_train_essays_final[df_train_essays_final['generated'] == 0]['text_length'], bins=50, color='blue', label='Generated 0', kde=True, ax=ax1)\n",
    "ax1.set_title('Distribution of Sentence Length by \"generated 0\"')\n",
    "ax1.set_xlabel('Text Length')\n",
    "ax1.set_ylabel('Frequency')\n",
    "ax1.legend()\n",
    "\n",
    "# Plot the histogram for 'text_length' with generated=1\n",
    "sns.histplot(df_train_essays_final[df_train_essays_final['generated'] == 1]['text_length'], bins=50, color='red', label='Generated 1', kde=True, ax=ax2)\n",
    "ax2.set_title('Distribution of Sentence Length by \"generated 1\"')\n",
    "ax2.set_xlabel('Text Length')\n",
    "ax2.set_ylabel('Frequency')\n",
    "ax2.legend()\n",
    "\n",
    "plt.show()\n"
   ]
  },
  {
   "cell_type": "code",
   "execution_count": 21,
   "metadata": {
    "execution": {
     "iopub.execute_input": "2024-01-17T04:47:16.570988Z",
     "iopub.status.busy": "2024-01-17T04:47:16.570493Z",
     "iopub.status.idle": "2024-01-17T04:47:16.588026Z",
     "shell.execute_reply": "2024-01-17T04:47:16.586804Z",
     "shell.execute_reply.started": "2024-01-17T04:47:16.570931Z"
    }
   },
   "outputs": [
    {
     "name": "stdout",
     "output_type": "stream",
     "text": [
      "<class 'pandas.core.frame.DataFrame'>\n",
      "Int64Index: 18455 entries, 0 to 17076\n",
      "Data columns (total 2 columns):\n",
      " #   Column     Non-Null Count  Dtype \n",
      "---  ------     --------------  ----- \n",
      " 0   text       18455 non-null  object\n",
      " 1   generated  18455 non-null  int64 \n",
      "dtypes: int64(1), object(1)\n",
      "memory usage: 948.6+ KB\n"
     ]
    }
   ],
   "source": [
    "df_train_essays_final.info()"
   ]
  },
  {
   "cell_type": "markdown",
   "metadata": {
    "_cell_guid": "54217ed9-8cc9-43c9-a2c5-bdabcfbe145e",
    "_uuid": "8867dcab-75cc-4756-a373-91f7b7cf67f6"
   },
   "source": [
    "# 🐝 **토큰화 진행 (WordPiece vs BPE)** "
   ]
  },
  {
   "cell_type": "markdown",
   "metadata": {},
   "source": [
    "## BPE"
   ]
  },
  {
   "cell_type": "code",
   "execution_count": 14,
   "metadata": {
    "execution": {
     "iopub.execute_input": "2024-01-17T04:47:16.541660Z",
     "iopub.status.busy": "2024-01-17T04:47:16.541000Z",
     "iopub.status.idle": "2024-01-17T04:47:16.549043Z",
     "shell.execute_reply": "2024-01-17T04:47:16.547934Z",
     "shell.execute_reply.started": "2024-01-17T04:47:16.541625Z"
    }
   },
   "outputs": [],
   "source": [
    "df_train_essays_final = df_train_essays_final.drop(['text_length', 'sentence_count'],axis=1)"
   ]
  },
  {
   "cell_type": "code",
   "execution_count": 15,
   "metadata": {
    "execution": {
     "iopub.execute_input": "2024-01-17T04:47:16.550807Z",
     "iopub.status.busy": "2024-01-17T04:47:16.550427Z",
     "iopub.status.idle": "2024-01-17T04:47:16.566100Z",
     "shell.execute_reply": "2024-01-17T04:47:16.564899Z",
     "shell.execute_reply.started": "2024-01-17T04:47:16.550774Z"
    }
   },
   "outputs": [
    {
     "data": {
      "text/html": [
       "<div>\n",
       "<style scoped>\n",
       "    .dataframe tbody tr th:only-of-type {\n",
       "        vertical-align: middle;\n",
       "    }\n",
       "\n",
       "    .dataframe tbody tr th {\n",
       "        vertical-align: top;\n",
       "    }\n",
       "\n",
       "    .dataframe thead th {\n",
       "        text-align: right;\n",
       "    }\n",
       "</style>\n",
       "<table border=\"1\" class=\"dataframe\">\n",
       "  <thead>\n",
       "    <tr style=\"text-align: right;\">\n",
       "      <th></th>\n",
       "      <th>text</th>\n",
       "      <th>generated</th>\n",
       "    </tr>\n",
       "  </thead>\n",
       "  <tbody>\n",
       "    <tr>\n",
       "      <th>0</th>\n",
       "      <td>Cars. Cars have been around since they became ...</td>\n",
       "      <td>0</td>\n",
       "    </tr>\n",
       "    <tr>\n",
       "      <th>1</th>\n",
       "      <td>Transportation is a large necessity in most co...</td>\n",
       "      <td>0</td>\n",
       "    </tr>\n",
       "    <tr>\n",
       "      <th>2</th>\n",
       "      <td>\"America's love affair with it's vehicles seem...</td>\n",
       "      <td>0</td>\n",
       "    </tr>\n",
       "    <tr>\n",
       "      <th>3</th>\n",
       "      <td>How often do you ride in a car? Do you drive a...</td>\n",
       "      <td>0</td>\n",
       "    </tr>\n",
       "    <tr>\n",
       "      <th>4</th>\n",
       "      <td>Cars are a wonderful thing. They are perhaps o...</td>\n",
       "      <td>0</td>\n",
       "    </tr>\n",
       "  </tbody>\n",
       "</table>\n",
       "</div>"
      ],
      "text/plain": [
       "                                                text  generated\n",
       "0  Cars. Cars have been around since they became ...          0\n",
       "1  Transportation is a large necessity in most co...          0\n",
       "2  \"America's love affair with it's vehicles seem...          0\n",
       "3  How often do you ride in a car? Do you drive a...          0\n",
       "4  Cars are a wonderful thing. They are perhaps o...          0"
      ]
     },
     "execution_count": 15,
     "metadata": {},
     "output_type": "execute_result"
    }
   ],
   "source": [
    "df_train_essays_final.head()"
   ]
  },
  {
   "cell_type": "code",
   "execution_count": null,
   "metadata": {},
   "outputs": [],
   "source": [
    "# max_length 파라미터 조정을 통한 성능 확인"
   ]
  },
  {
   "cell_type": "code",
   "execution_count": 16,
   "metadata": {
    "execution": {
     "iopub.execute_input": "2024-01-17T04:47:21.461583Z",
     "iopub.status.busy": "2024-01-17T04:47:21.460987Z",
     "iopub.status.idle": "2024-01-17T04:47:21.483010Z",
     "shell.execute_reply": "2024-01-17T04:47:21.481871Z",
     "shell.execute_reply.started": "2024-01-17T04:47:21.461531Z"
    }
   },
   "outputs": [
    {
     "name": "stdout",
     "output_type": "stream",
     "text": [
      "Empty DataFrame\n",
      "Columns: [text, generated]\n",
      "Index: []\n"
     ]
    }
   ],
   "source": [
    "problematic_data = df_train_essays_final[df_train_essays_final['text'].apply(lambda x: not isinstance(x, str))]\n",
    "print(problematic_data)"
   ]
  },
  {
   "cell_type": "code",
   "execution_count": 17,
   "metadata": {
    "execution": {
     "iopub.execute_input": "2024-01-17T04:47:22.031481Z",
     "iopub.status.busy": "2024-01-17T04:47:22.030638Z",
     "iopub.status.idle": "2024-01-17T04:47:28.653477Z",
     "shell.execute_reply": "2024-01-17T04:47:28.652085Z",
     "shell.execute_reply.started": "2024-01-17T04:47:22.031409Z"
    }
   },
   "outputs": [],
   "source": [
    "from tokenizers import(\n",
    "    decoders,\n",
    "    models,\n",
    "    normalizers,\n",
    "    pre_tokenizers,\n",
    "    processors,\n",
    "    trainers,\n",
    "    Tokenizer,\n",
    ")\n",
    "from tokenizers.models import BPE\n",
    "from tokenizers.trainers import BpeTrainer\n",
    "from tokenizers.pre_tokenizers import Whitespace\n",
    "\n",
    "from transformers import PreTrainedTokenizerFast\n",
    "\n",
    "from datasets import Dataset\n",
    "from tqdm.auto import tqdm\n",
    "from tokenizers import processors"
   ]
  },
  {
   "cell_type": "code",
   "execution_count": 18,
   "metadata": {
    "execution": {
     "iopub.execute_input": "2024-01-17T04:47:28.656326Z",
     "iopub.status.busy": "2024-01-17T04:47:28.655718Z",
     "iopub.status.idle": "2024-01-17T04:47:28.661364Z",
     "shell.execute_reply": "2024-01-17T04:47:28.660511Z",
     "shell.execute_reply.started": "2024-01-17T04:47:28.656289Z"
    }
   },
   "outputs": [],
   "source": [
    "LOWERCASE = False\n",
    "VOCAB_SIZE = 30522"
   ]
  },
  {
   "cell_type": "code",
   "execution_count": 19,
   "metadata": {
    "execution": {
     "iopub.execute_input": "2024-01-17T04:47:28.663191Z",
     "iopub.status.busy": "2024-01-17T04:47:28.662814Z",
     "iopub.status.idle": "2024-01-17T04:47:41.040948Z",
     "shell.execute_reply": "2024-01-17T04:47:41.039604Z",
     "shell.execute_reply.started": "2024-01-17T04:47:28.663158Z"
    }
   },
   "outputs": [
    {
     "name": "stdout",
     "output_type": "stream",
     "text": [
      "\n",
      "\n",
      "\n"
     ]
    }
   ],
   "source": [
    "# Tokenizer 초기화\n",
    "raw_tokenizer = Tokenizer(models.BPE(unk_token=\"[UNK]\"))\n",
    "\n",
    "# Normalizer 설정\n",
    "raw_tokenizer.normalizer = normalizers.Sequence([normalizers.NFC()] + [normalizers.Lowercase()] if LOWERCASE else [])\n",
    "\n",
    "# Pre-tokenizer 설정: Byte-Level pre-tokenizer를 사용\n",
    "# \"Ġ\" 문자 제거 하고 싶다면 -> add_prefix_space=False 추가\n",
    "raw_tokenizer.pre_tokenizer = pre_tokenizers.ByteLevel()\n",
    "\n",
    "# BPE Trainer 설정 및 스페셜 토큰 추가\n",
    "special_tokens = [\"[UNK]\", \"[PAD]\", \"[CLS]\", \"[SEP]\", \"[MASK]\"]\n",
    "trainer = trainers.BpeTrainer(vocab_size=VOCAB_SIZE, special_tokens=special_tokens)\n",
    "\n",
    "# 데이터셋 로드 및 토크나이저 훈련 (훈련 셋 : df_train_essays_final[['text']])\n",
    "dataset = Dataset.from_pandas(df_train_essays_final[['text']])\n",
    "def train_corp_iter(): \n",
    "    for i in range(0, len(dataset), 1000):\n",
    "        yield dataset[i : i + 1000][\"text\"]\n",
    "raw_tokenizer.train_from_iterator(train_corp_iter(), trainer=trainer)\n",
    "\n",
    "# PreTrainedTokenizerFast로 래핑\n",
    "from transformers import RobertaTokenizerFast\n",
    "\n",
    "tokenizer = PreTrainedTokenizerFast(\n",
    "    tokenizer_object=raw_tokenizer,\n",
    "    unk_token=\"[UNK]\",\n",
    "    pad_token=\"[PAD]\",\n",
    "    cls_token=\"[CLS]\",\n",
    "    sep_token=\"[SEP]\",\n",
    "    mask_token=\"[MASK]\",\n",
    ")"
   ]
  },
  {
   "cell_type": "code",
   "execution_count": 20,
   "metadata": {
    "execution": {
     "iopub.execute_input": "2024-01-17T04:47:41.045683Z",
     "iopub.status.busy": "2024-01-17T04:47:41.044962Z",
     "iopub.status.idle": "2024-01-17T04:47:41.054416Z",
     "shell.execute_reply": "2024-01-17T04:47:41.052997Z",
     "shell.execute_reply.started": "2024-01-17T04:47:41.045646Z"
    }
   },
   "outputs": [],
   "source": [
    "# # \"[UNK]\" 토큰의 정수 ID 확인\n",
    "# unk_token_id = tokenizer.convert_tokens_to_ids(\"[UNK]\")\n",
    "\n",
    "# # \"[PAD]\" 토큰의 정수 ID 확인\n",
    "# pad_token_id = tokenizer.convert_tokens_to_ids(\"[PAD]\")\n",
    "\n",
    "# # \"[CLS]\" 토큰의 정수 ID 확인\n",
    "# cls_token_id = tokenizer.convert_tokens_to_ids(\"[CLS]\")\n",
    "\n",
    "# # \"[SEP]\" 토큰의 정수 ID 확인\n",
    "# sep_token_id = tokenizer.convert_tokens_to_ids(\"[SEP]\")\n",
    "\n",
    "# # \"[MASK]\" 토큰의 정수 ID 확인\n",
    "# mask_token_id = tokenizer.convert_tokens_to_ids(\"[MASK]\")\n",
    "\n",
    "# print(\"[UNK] 토큰의 정수 ID:\", unk_token_id)\n",
    "# print(\"[PAD] 토큰의 정수 ID:\", pad_token_id)\n",
    "# print(\"[CLS] 토큰의 정수 ID:\", cls_token_id)\n",
    "# print(\"[SEP] 토큰의 정수 ID:\", sep_token_id)\n",
    "# print(\"[MASK] 토큰의 정수 ID:\", mask_token_id)"
   ]
  },
  {
   "cell_type": "code",
   "execution_count": 21,
   "metadata": {
    "execution": {
     "iopub.execute_input": "2024-01-17T04:47:41.056939Z",
     "iopub.status.busy": "2024-01-17T04:47:41.056530Z",
     "iopub.status.idle": "2024-01-17T04:47:53.830412Z",
     "shell.execute_reply": "2024-01-17T04:47:53.829521Z",
     "shell.execute_reply.started": "2024-01-17T04:47:41.056904Z"
    }
   },
   "outputs": [],
   "source": [
    "# text = [\"Let's test this tokenizer.\", \"Nice to meet you\"]\n",
    "# tokens = tokenizer.encode(text)\n",
    "# print(tokens)\n",
    "# print(tokenizer.decode(tokens))"
   ]
  },
  {
   "cell_type": "code",
   "execution_count": 22,
   "metadata": {
    "execution": {
     "iopub.execute_input": "2024-01-17T04:47:53.832922Z",
     "iopub.status.busy": "2024-01-17T04:47:53.831695Z",
     "iopub.status.idle": "2024-01-17T04:47:53.839467Z",
     "shell.execute_reply": "2024-01-17T04:47:53.838229Z",
     "shell.execute_reply.started": "2024-01-17T04:47:53.832885Z"
    }
   },
   "outputs": [],
   "source": [
    "# tokens = tokenizer.tokenize(text)\n",
    "# print(tokens)"
   ]
  },
  {
   "cell_type": "code",
   "execution_count": 23,
   "metadata": {
    "execution": {
     "iopub.execute_input": "2024-01-17T04:47:53.844516Z",
     "iopub.status.busy": "2024-01-17T04:47:53.844085Z",
     "iopub.status.idle": "2024-01-17T04:47:53.964857Z",
     "shell.execute_reply": "2024-01-17T04:47:53.963886Z",
     "shell.execute_reply.started": "2024-01-17T04:47:53.844468Z"
    }
   },
   "outputs": [],
   "source": [
    "# encoding = tokenizer.encode_plus(text, return_tensors=\"tf\")\n",
    "# print(encoding)"
   ]
  },
  {
   "cell_type": "code",
   "execution_count": 24,
   "metadata": {
    "execution": {
     "iopub.execute_input": "2024-01-17T04:47:53.967166Z",
     "iopub.status.busy": "2024-01-17T04:47:53.966426Z",
     "iopub.status.idle": "2024-01-17T04:48:36.183783Z",
     "shell.execute_reply": "2024-01-17T04:48:36.182617Z",
     "shell.execute_reply.started": "2024-01-17T04:47:53.967129Z"
    }
   },
   "outputs": [
    {
     "data": {
      "application/vnd.jupyter.widget-view+json": {
       "model_id": "37bbfade9c9d4a75a02c8ce99076ec29",
       "version_major": 2,
       "version_minor": 0
      },
      "text/plain": [
       "토큰화 진행중:   0%|          | 0/18455 [00:00<?, ?it/s]"
      ]
     },
     "metadata": {},
     "output_type": "display_data"
    }
   ],
   "source": [
    "# df_train_essays_final['text'] 토큰화 해보기\n",
    "# test_essays 데이터의 토큰화 진행 상황을 표시\n",
    "test_input_ids = []\n",
    "test_attention_masks = []\n",
    "\n",
    "for text in tqdm(df_train_essays_final['text'].tolist(), desc=\"토큰화 진행중\"):\n",
    "    encoded = tokenizer.encode_plus(text, \n",
    "                                    add_special_tokens=True, \n",
    "                                    max_length=256, \n",
    "                                    padding='max_length', \n",
    "                                    truncation=True, \n",
    "                                    return_attention_mask=True, \n",
    "                                    return_tensors='np')\n",
    "\n",
    "    test_input_ids.append(encoded['input_ids'][0])\n",
    "    test_attention_masks.append(encoded['attention_mask'][0])\n",
    "    # 토큰화된 데이터를 pandas DataFrame으로 변환\n",
    "df_encoded = pd.DataFrame({\n",
    "    'input_ids': test_input_ids,\n",
    "    'attention_mask': test_attention_masks\n",
    "})"
   ]
  },
  {
   "cell_type": "code",
   "execution_count": null,
   "metadata": {},
   "outputs": [],
   "source": []
  },
  {
   "cell_type": "code",
   "execution_count": null,
   "metadata": {
    "execution": {
     "iopub.execute_input": "2024-01-16T11:37:33.894614Z",
     "iopub.status.busy": "2024-01-16T11:37:33.894326Z",
     "iopub.status.idle": "2024-01-16T11:37:33.899627Z",
     "shell.execute_reply": "2024-01-16T11:37:33.898759Z",
     "shell.execute_reply.started": "2024-01-16T11:37:33.894590Z"
    }
   },
   "outputs": [],
   "source": [
    "# from transformers import RobertaTokenizer\n",
    "# from tqdm.auto import tqdm\n",
    "# import pandas as pd\n",
    "\n",
    "# # BERT 토크나이저 초기화\n",
    "# tokenizer = RobertaTokenizer.from_pretrained('roberta-base')\n",
    "\n",
    "# # 토큰 길이 계산\n",
    "# token_lengths = []\n",
    "# for text in df_train_essays_final['text']:  # 'text_column'은 텍스트가 포함된 컬럼 이름입니다.\n",
    "#     tokens = tokenizer.encode(text, add_special_tokens=True)\n",
    "#     token_lengths.append(len(tokens))\n",
    "\n",
    "    \n",
    "# df_ = df_train_essays_final.copy()\n",
    "# # 토큰 길이를 DataFrame에 추가\n",
    "# df_['text'] = token_lengths\n",
    "\n",
    "# # 길이 분포 분석\n",
    "# print(df_['text'].describe())\n",
    "\n",
    "# # # # 토큰 길이를 DataFrame에 추가\n",
    "# # df_train_essays_final['text'] = token_lengths\n",
    "\n",
    "# # # # 길이 분포 분석\n",
    "# # print(df_train_essays_final['text'].describe())"
   ]
  },
  {
   "cell_type": "code",
   "execution_count": null,
   "metadata": {
    "execution": {
     "iopub.status.busy": "2024-01-16T07:46:48.792648Z",
     "iopub.status.idle": "2024-01-16T07:46:48.793011Z",
     "shell.execute_reply": "2024-01-16T07:46:48.792856Z",
     "shell.execute_reply.started": "2024-01-16T07:46:48.792839Z"
    }
   },
   "outputs": [],
   "source": [
    "\n",
    "# # tqdm을 사용하여 토큰화 진행 상황을 표시\n",
    "# input_ids = []\n",
    "# attention_masks = []\n",
    "\n",
    "# for text in tqdm(df_train_essays_final['text'].tolist(), desc=\"토큰화 진행중\"):\n",
    "#     encoded = tokenizer.encode_plus(text, \n",
    "#                                     add_special_tokens=True, \n",
    "#                                     max_length=256, \n",
    "#                                     padding='max_length', \n",
    "#                                     truncation=True, \n",
    "#                                     return_attention_mask=True, \n",
    "#                                     return_tensors='np')\n",
    "#     input_ids.append(encoded['input_ids'][0])\n",
    "#     attention_masks.append(encoded['attention_mask'][0])\n",
    "\n",
    "# # 토큰화된 데이터를 pandas DataFrame으로 변환\n",
    "# df_encoded = pd.DataFrame({\n",
    "#     'input_ids': input_ids,\n",
    "#     'attention_mask': attention_masks\n",
    "# })\n",
    "\n"
   ]
  },
  {
   "cell_type": "markdown",
   "metadata": {},
   "source": [
    "# 🐝 **모델학습 진행**"
   ]
  },
  {
   "cell_type": "markdown",
   "metadata": {},
   "source": [
    "# 🐝 RoBERTa 코드 적용"
   ]
  },
  {
   "cell_type": "code",
   "execution_count": 25,
   "metadata": {
    "execution": {
     "iopub.execute_input": "2024-01-17T04:48:36.185592Z",
     "iopub.status.busy": "2024-01-17T04:48:36.185185Z",
     "iopub.status.idle": "2024-01-17T04:48:36.197011Z",
     "shell.execute_reply": "2024-01-17T04:48:36.195910Z",
     "shell.execute_reply.started": "2024-01-17T04:48:36.185557Z"
    }
   },
   "outputs": [
    {
     "data": {
      "text/plain": [
       "(array([ 1330,    11,  1330,   205,   534,   774,  1270,   211,  3146,\n",
       "         4433,   145,   114, 11806,    69,    10,   441, 15789,  5054,\n",
       "         1223,   142,  3330,   114,  1009, 22395,    11,  1330,   205,\n",
       "         4042,   111,  1006,  2016,   145,   355,   511,   651,  1293,\n",
       "         1270,   633,    11,   900,   989,    10,   250,   199,  3372,\n",
       "          132,  1964,   345,  1037,   215,   627,   244,   149,   111,\n",
       "          541,   496,    11,  1404,   434,    10,  1037,   114,   504,\n",
       "          143,   350,   637,   149,   111,   541,   496,   132,   255,\n",
       "           11,   101,   101,  2663,   342,  1444,   143,   279,    10,\n",
       "          777,    10,   973,  2663,  3646,  4025,    10,  3232,  4285,\n",
       "          655,  1995,  1330,  3892,   296, 11534,  2512,   478,    10,\n",
       "          468,  3732,   199,   114, 14182,   143,  4051,    10,   689,\n",
       "         3358,   396,  2432,   323,  2117, 13070,   228,  9440,  2495,\n",
       "          132,   412,   238,  3640,    11, 10162,   714,   468,   279,\n",
       "          163,   111,  2234,  8772,   132,  1806,  2656,   132,   972,\n",
       "         1381,   948,  1128,   323,  8686,    11,  6252,   350,   199,\n",
       "         1896,   182,  2786,  1024,   143,  1381,   948,  1128,   145,\n",
       "         1885,  3587,   303,   451,   132,  2792,  1024,   145,   356,\n",
       "         4514,  1376,   145,   114,   984,   996,    11,  1330,   199,\n",
       "          114,  1552,   787,   182,   114,  1381,   948,  1128,   315,\n",
       "          143,   111,   827,   143,   250,   582,   343,   774,   291,\n",
       "          114,   384,  1038,   689,   211,   448,   132,   282,    11,\n",
       "         8462,    10,   973,  6483,  3665,   582,  1052,   132,  1133,\n",
       "         3892,   296,  4240,  3535,  1447,    10,   468,  1346,    10,\n",
       "          901,  1440,   143,  4544,   795,    10,  3398,   111,  3002,\n",
       "          582,  1256,   132,  1262,   114,   782,   143,   114,  2401,\n",
       "         1040,    11,   413,   374,  1447,    10,   468,   168,  4107,\n",
       "           10, 12905,   230,  5451,  2797,  2780,   539,  5653,   132,\n",
       "         2318,   238,   350,   276]),\n",
       " array([1, 1, 1, 1, 1, 1, 1, 1, 1, 1, 1, 1, 1, 1, 1, 1, 1, 1, 1, 1, 1, 1,\n",
       "        1, 1, 1, 1, 1, 1, 1, 1, 1, 1, 1, 1, 1, 1, 1, 1, 1, 1, 1, 1, 1, 1,\n",
       "        1, 1, 1, 1, 1, 1, 1, 1, 1, 1, 1, 1, 1, 1, 1, 1, 1, 1, 1, 1, 1, 1,\n",
       "        1, 1, 1, 1, 1, 1, 1, 1, 1, 1, 1, 1, 1, 1, 1, 1, 1, 1, 1, 1, 1, 1,\n",
       "        1, 1, 1, 1, 1, 1, 1, 1, 1, 1, 1, 1, 1, 1, 1, 1, 1, 1, 1, 1, 1, 1,\n",
       "        1, 1, 1, 1, 1, 1, 1, 1, 1, 1, 1, 1, 1, 1, 1, 1, 1, 1, 1, 1, 1, 1,\n",
       "        1, 1, 1, 1, 1, 1, 1, 1, 1, 1, 1, 1, 1, 1, 1, 1, 1, 1, 1, 1, 1, 1,\n",
       "        1, 1, 1, 1, 1, 1, 1, 1, 1, 1, 1, 1, 1, 1, 1, 1, 1, 1, 1, 1, 1, 1,\n",
       "        1, 1, 1, 1, 1, 1, 1, 1, 1, 1, 1, 1, 1, 1, 1, 1, 1, 1, 1, 1, 1, 1,\n",
       "        1, 1, 1, 1, 1, 1, 1, 1, 1, 1, 1, 1, 1, 1, 1, 1, 1, 1, 1, 1, 1, 1,\n",
       "        1, 1, 1, 1, 1, 1, 1, 1, 1, 1, 1, 1, 1, 1, 1, 1, 1, 1, 1, 1, 1, 1,\n",
       "        1, 1, 1, 1, 1, 1, 1, 1, 1, 1, 1, 1, 1, 1]))"
      ]
     },
     "execution_count": 25,
     "metadata": {},
     "output_type": "execute_result"
    }
   ],
   "source": [
    "# 첫 번째 행의 'input_ids'와 'attention_mask' 열의 데이터 출력\n",
    "first_row_input_ids = df_encoded['input_ids'].iloc[0]\n",
    "first_row_attention_mask = df_encoded['attention_mask'].iloc[0]\n",
    "\n",
    "first_row_input_ids, first_row_attention_mask"
   ]
  },
  {
   "cell_type": "code",
   "execution_count": 26,
   "metadata": {
    "execution": {
     "iopub.execute_input": "2024-01-17T04:48:44.862789Z",
     "iopub.status.busy": "2024-01-17T04:48:44.862000Z",
     "iopub.status.idle": "2024-01-17T04:48:44.872043Z",
     "shell.execute_reply": "2024-01-17T04:48:44.870817Z",
     "shell.execute_reply.started": "2024-01-17T04:48:44.862749Z"
    }
   },
   "outputs": [],
   "source": [
    "# 데이터프레임에서 필요한 열만 선택\n",
    "df_encoded = df_encoded[['input_ids', 'attention_mask']]\n",
    "\n",
    "# 'generated' 열은 레이블로 사용할 것이므로 따로 선택\n",
    "labels = df_train_essays_final['generated'].values\n"
   ]
  },
  {
   "cell_type": "code",
   "execution_count": 27,
   "metadata": {
    "execution": {
     "iopub.execute_input": "2024-01-17T04:48:44.874904Z",
     "iopub.status.busy": "2024-01-17T04:48:44.874400Z",
     "iopub.status.idle": "2024-01-17T04:48:44.885298Z",
     "shell.execute_reply": "2024-01-17T04:48:44.884214Z",
     "shell.execute_reply.started": "2024-01-17T04:48:44.874856Z"
    }
   },
   "outputs": [
    {
     "name": "stdout",
     "output_type": "stream",
     "text": [
      "df_encoded shape: (18455, 2)\n",
      "labels: 18455\n"
     ]
    }
   ],
   "source": [
    "print(\"df_encoded shape:\", df_encoded.shape)\n",
    "\n",
    "print(\"labels:\", len(labels))"
   ]
  },
  {
   "cell_type": "code",
   "execution_count": 28,
   "metadata": {
    "execution": {
     "iopub.execute_input": "2024-01-17T04:48:44.887121Z",
     "iopub.status.busy": "2024-01-17T04:48:44.886747Z",
     "iopub.status.idle": "2024-01-17T04:48:44.899961Z",
     "shell.execute_reply": "2024-01-17T04:48:44.898887Z",
     "shell.execute_reply.started": "2024-01-17T04:48:44.887088Z"
    }
   },
   "outputs": [],
   "source": [
    "# 학습 및 검증 데이터셋 분리\n",
    "train_inputs, validation_inputs, train_labels, validation_labels = train_test_split(df_encoded, labels, random_state=2018, test_size=0.2)\n"
   ]
  },
  {
   "cell_type": "code",
   "execution_count": 29,
   "metadata": {
    "execution": {
     "iopub.execute_input": "2024-01-17T04:48:44.902673Z",
     "iopub.status.busy": "2024-01-17T04:48:44.901333Z",
     "iopub.status.idle": "2024-01-17T04:48:45.187231Z",
     "shell.execute_reply": "2024-01-17T04:48:45.185636Z",
     "shell.execute_reply.started": "2024-01-17T04:48:44.902635Z"
    }
   },
   "outputs": [
    {
     "data": {
      "image/png": "[encoded data removed]",
      "text/plain": [
       "<Figure size 576x432 with 1 Axes>"
      ]
     },
     "metadata": {
      "needs_background": "light"
     },
     "output_type": "display_data"
    },
    {
     "name": "stdout",
     "output_type": "stream",
     "text": [
      "Number of data points with 'generated' label equal to 1 in Train set: 8855\n",
      "Number of data points with 'generated' label equal to 1 in Validation set: 2189\n",
      "Number of data points with 'generated' label equal to 1 in Train set: 5909\n",
      "Number of data points with 'generated' label equal to 1 in Validation set: 1502\n"
     ]
    }
   ],
   "source": [
    "import seaborn as sns\n",
    "import matplotlib.pyplot as plt\n",
    "\n",
    "# 클래스 분포 확인을 위한 데이터프레임 생성\n",
    "train_df = pd.DataFrame({\"Data Split\": [\"Train\"] * len(train_labels), \"Labels\": train_labels})\n",
    "validation_df = pd.DataFrame({\"Data Split\": [\"Validation\"] * len(validation_labels), \"Labels\": validation_labels})\n",
    "combined_df = pd.concat([train_df, validation_df])\n",
    "\n",
    "# 카운트 플롯 그리기\n",
    "plt.figure(figsize=(8, 6))\n",
    "sns.countplot(data=combined_df, x=\"Labels\", hue=\"Data Split\")\n",
    "plt.title(\"Class Distribution in Train and Validation Sets\")\n",
    "plt.xlabel(\"Class Label\")\n",
    "plt.ylabel(\"Count\")\n",
    "plt.legend(title=\"Data Split\")\n",
    "plt.show()\n",
    "\n",
    "\n",
    "# Train set에서 0의 개수 세기\n",
    "train_generated_1_count = train_df[train_df[\"Labels\"] == 0].shape[0]\n",
    "print(\"Number of data points with 'generated' label equal to 1 in Train set:\", train_generated_1_count)\n",
    "\n",
    "# Validation set에서 0의 개수 세기\n",
    "validation_generated_1_count = validation_df[validation_df[\"Labels\"] == 0].shape[0]\n",
    "print(\"Number of data points with 'generated' label equal to 1 in Validation set:\", validation_generated_1_count)\n",
    "\n",
    "# Train set에서 1의 개수 세기\n",
    "train_generated_1_count = train_df[train_df[\"Labels\"] == 1].shape[0]\n",
    "print(\"Number of data points with 'generated' label equal to 1 in Train set:\", train_generated_1_count)\n",
    "\n",
    "# Validation set에서 1의 개수 세기\n",
    "validation_generated_1_count = validation_df[validation_df[\"Labels\"] == 1].shape[0]\n",
    "print(\"Number of data points with 'generated' label equal to 1 in Validation set:\", validation_generated_1_count)\n"
   ]
  },
  {
   "cell_type": "code",
   "execution_count": 30,
   "metadata": {
    "execution": {
     "iopub.execute_input": "2024-01-17T04:48:45.189012Z",
     "iopub.status.busy": "2024-01-17T04:48:45.188653Z",
     "iopub.status.idle": "2024-01-17T04:48:45.270014Z",
     "shell.execute_reply": "2024-01-17T04:48:45.268702Z",
     "shell.execute_reply.started": "2024-01-17T04:48:45.188981Z"
    }
   },
   "outputs": [],
   "source": [
    "# 데이터셋 준비\n",
    "train_inputs = {\n",
    "    \"input_ids\": np.array(train_inputs[\"input_ids\"].to_list()),\n",
    "    \"attention_mask\": np.array(train_inputs[\"attention_mask\"].to_list()),\n",
    "    \"labels\": np.array(train_labels)\n",
    "}\n",
    "train_labels = np.array(train_labels)\n",
    "\n",
    "validation_inputs = {\n",
    "    \"input_ids\": np.array(validation_inputs[\"input_ids\"].to_list()),\n",
    "    \"attention_mask\": np.array(validation_inputs[\"attention_mask\"].to_list()),\n",
    "    \"labels\": np.array(validation_labels)\n",
    "}\n",
    "validation_labels = np.array(validation_labels)\n"
   ]
  },
  {
   "cell_type": "code",
   "execution_count": 31,
   "metadata": {},
   "outputs": [
    {
     "name": "stdout",
     "output_type": "stream",
     "text": [
      "train_inputs[input_ids] shape: (14764, 256)\n",
      "train_inputs[attention_mask] shape: (14764, 256)\n",
      "train_inputs[labels] shape: (14764, 256)\n",
      "validation_inputs[input_ids] shape: (3691, 256)\n",
      "validation_inputs[attention_mask] shape: (3691, 256)\n",
      "validation_inputs[labels] shape: (3691, 256)\n"
     ]
    }
   ],
   "source": [
    "# 입력 데이터 형상 확인\n",
    "print(\"train_inputs[input_ids] shape:\", train_inputs['input_ids'].shape)\n",
    "print(\"train_inputs[attention_mask] shape:\", train_inputs['attention_mask'].shape)\n",
    "print(\"train_inputs[labels] shape:\", train_inputs['attention_mask'].shape)\n",
    "print(\"validation_inputs[input_ids] shape:\", validation_inputs['input_ids'].shape)\n",
    "print(\"validation_inputs[attention_mask] shape:\", validation_inputs['attention_mask'].shape)\n",
    "print(\"validation_inputs[labels] shape:\", validation_inputs['attention_mask'].shape)\n",
    "# 필요한 경우 패딩 또는 트리밍 수행\n",
    "# 예시: train_inputs['input_ids'] = pad_or_trim(train_inputs['input_ids'], desired_length)\n",
    "\n",
    "# 모델 학습을 다시 시도\n"
   ]
  },
  {
   "cell_type": "code",
   "execution_count": 32,
   "metadata": {},
   "outputs": [
    {
     "name": "stdout",
     "output_type": "stream",
     "text": [
      "train_inputs[input_ids] type: int64\n",
      "train_inputs[attention_mask] type: int64\n",
      "train_inputs[labels] type: int64\n",
      "validation_inputs[input_ids] type: int64\n",
      "validation_inputs[attention_mask] type: int64\n",
      "validation_inputs[labels] type: int64\n"
     ]
    }
   ],
   "source": [
    "print(\"train_inputs[input_ids] type:\", train_inputs['input_ids'].dtype)\n",
    "print(\"train_inputs[attention_mask] type:\", train_inputs['attention_mask'].dtype)\n",
    "print(\"train_inputs[labels] type:\", train_inputs['attention_mask'].dtype)\n",
    "print(\"validation_inputs[input_ids] type:\", validation_inputs['input_ids'].dtype)\n",
    "print(\"validation_inputs[attention_mask] type:\", validation_inputs['attention_mask'].dtype)\n",
    "print(\"validation_inputs[labels] type:\", validation_inputs['attention_mask'].dtype)\n"
   ]
  },
  {
   "cell_type": "code",
   "execution_count": 38,
   "metadata": {},
   "outputs": [],
   "source": [
    "from datasets import Dataset"
   ]
  },
  {
   "cell_type": "code",
   "execution_count": 40,
   "metadata": {},
   "outputs": [],
   "source": [
    "train_dataset = Dataset.from_dict(train_inputs)\n",
    "validation_dataset = Dataset.from_dict(validation_inputs)"
   ]
  },
  {
   "cell_type": "code",
   "execution_count": 44,
   "metadata": {},
   "outputs": [
    {
     "name": "stdout",
     "output_type": "stream",
     "text": [
      "train_dataset type: <class 'datasets.arrow_dataset.Dataset'>\n",
      "validation_dataset type: <class 'datasets.arrow_dataset.Dataset'>\n"
     ]
    }
   ],
   "source": [
    "print(\"train_dataset type:\", type(train_dataset))\n",
    "print(\"validation_dataset type:\", type(validation_dataset))"
   ]
  },
  {
   "cell_type": "markdown",
   "metadata": {},
   "source": [
    "## ============= 모델학습 =============="
   ]
  },
  {
   "cell_type": "code",
   "execution_count": 47,
   "metadata": {},
   "outputs": [
    {
     "name": "stderr",
     "output_type": "stream",
     "text": [
      "Some weights of RobertaForSequenceClassification were not initialized from the model checkpoint at roberta-base and are newly initialized: ['classifier.out_proj.weight', 'classifier.dense.weight', 'classifier.dense.bias', 'classifier.out_proj.bias']\n",
      "You should probably TRAIN this model on a down-stream task to be able to use it for predictions and inference.\n"
     ]
    }
   ],
   "source": [
    "from transformers import AutoModelForSequenceClassification, TrainingArguments, Trainer\n",
    "\n",
    "# # ROBERTa 토크나이저 초기화                 # \"단순한 모델의 경우 토큰화 전처리 없이 trainer.train() 에 tokenizer 바로 부여가능\n",
    "# tokenizer = RobertaTokenizer.from_pretrained('roberta-base')\n",
    "\n",
    "model_checkpoint = 'roberta-base' # \"모델이름\"      # \"모델마다 토크나이저 주의\"    \n",
    "                                  \n",
    "num_labels = 2\n",
    "model = AutoModelForSequenceClassification.from_pretrained(model_checkpoint, num_labels=num_labels)\n",
    "\n",
    "import torch\n",
    "\n",
    "device = torch.device(\"cuda:0\" if torch.cuda.is_available() else \"cpu\")\n",
    "# Move your model and data to the GPU\n",
    "model.to(device);\n",
    "\n",
    "# 조기 종료 콜백 설정\n",
    "from transformers import EarlyStoppingCallback\n",
    "early_stopping = EarlyStoppingCallback(early_stopping_patience=6)"
   ]
  },
  {
   "cell_type": "code",
   "execution_count": 48,
   "metadata": {},
   "outputs": [],
   "source": [
    "# 훈련 인자 설정\n",
    "from transformers import TrainingArguments\n",
    "\n",
    "num_train_epochs = 10.0\n",
    "metric_name = \"roc_auc\"\n",
    "model_name = \"roberta-base\"  # \"모델이름\"\n",
    "batch_size = 8\n",
    "args = TrainingArguments(\n",
    "    f\"{model_name}-finetuned_v5\",\n",
    "    evaluation_strategy=\"epoch\",\n",
    "    save_strategy=\"epoch\",\n",
    "    learning_rate=2e-5,\n",
    "    lr_scheduler_type=\"cosine\",\n",
    "    \n",
    "    optim=\"adamw_torch\",\n",
    "    per_device_train_batch_size=batch_size,\n",
    "    per_device_eval_batch_size=batch_size,\n",
    "    gradient_accumulation_steps=8,\n",
    "    num_train_epochs=num_train_epochs,\n",
    "    weight_decay=0.01,\n",
    "    load_best_model_at_end=True,\n",
    "    metric_for_best_model=metric_name,\n",
    "    report_to='none',\n",
    "    save_total_limit=2,\n",
    ")\n"
   ]
  },
  {
   "cell_type": "code",
   "execution_count": 49,
   "metadata": {},
   "outputs": [],
   "source": [
    "# 평가 메트릭 설정\n",
    "from sklearn.metrics import roc_auc_score\n",
    "\n",
    "def compute_metrics(eval_pred):\n",
    "    logits, labels = eval_pred\n",
    "    probs = np.exp(logits) / np.sum(np.exp(logits), axis=-1, keepdims=True)\n",
    "    auc = roc_auc_score(labels, probs[:,1], multi_class='ovr')\n",
    "    return {\"roc_auc\": auc}"
   ]
  },
  {
   "cell_type": "code",
   "execution_count": 50,
   "metadata": {},
   "outputs": [
    {
     "name": "stderr",
     "output_type": "stream",
     "text": [
      "Detected kernel version 5.4.0, which is below the recommended minimum of 5.5.0; this can cause the process to hang. It is recommended to upgrade the kernel to the minimum version or higher.\n"
     ]
    }
   ],
   "source": [
    "# 트레이너 설정 및 훈련 시작\n",
    "from transformers import Trainer\n",
    "trainer = Trainer(\n",
    "    model,\n",
    "    args,\n",
    "    train_dataset=train_dataset,  # train_inputs를 훈련 데이터셋으로 사용\n",
    "    eval_dataset=validation_dataset,  # validation_inputs를 검증 데이터셋으로 사용\n",
    "    tokenizer=tokenizer,  # 단순 토크나이저 즉시 부여, 토큰화가 되어있는 dataset은 스스로 pass\n",
    "    callbacks=[early_stopping],\n",
    "    compute_metrics=compute_metrics  # 평가 메트릭 함수\n",
    ")"
   ]
  },
  {
   "cell_type": "code",
   "execution_count": null,
   "metadata": {},
   "outputs": [
    {
     "data": {
      "text/html": [
       "\n",
       "    <div>\n",
       "      \n",
       "      <progress value='764' max='2300' style='width:300px; height:20px; vertical-align: middle;'></progress>\n",
       "      [ 764/2300 20:26 < 41:12, 0.62 it/s, Epoch 3.31/10]\n",
       "    </div>\n",
       "    <table border=\"1\" class=\"dataframe\">\n",
       "  <thead>\n",
       " <tr style=\"text-align: left;\">\n",
       "      <th>Epoch</th>\n",
       "      <th>Training Loss</th>\n",
       "      <th>Validation Loss</th>\n",
       "      <th>Roc Auc</th>\n",
       "    </tr>\n",
       "  </thead>\n",
       "  <tbody>\n",
       "    <tr>\n",
       "      <td>0</td>\n",
       "      <td>No log</td>\n",
       "      <td>0.107253</td>\n",
       "      <td>0.993846</td>\n",
       "    </tr>\n",
       "    <tr>\n",
       "      <td>1</td>\n",
       "      <td>No log</td>\n",
       "      <td>0.079229</td>\n",
       "      <td>0.997219</td>\n",
       "    </tr>\n",
       "    <tr>\n",
       "      <td>2</td>\n",
       "      <td>0.183700</td>\n",
       "      <td>0.086781</td>\n",
       "      <td>0.998146</td>\n",
       "    </tr>\n",
       "  </tbody>\n",
       "</table><p>"
      ],
      "text/plain": [
       "<IPython.core.display.HTML object>"
      ]
     },
     "metadata": {},
     "output_type": "display_data"
    }
   ],
   "source": [
    "trainer.train()"
   ]
  },
  {
   "cell_type": "code",
   "execution_count": null,
   "metadata": {},
   "outputs": [],
   "source": []
  },
  {
   "cell_type": "code",
   "execution_count": null,
   "metadata": {},
   "outputs": [],
   "source": []
  },
  {
   "cell_type": "markdown",
   "metadata": {},
   "source": [
    "# ======= inference ======="
   ]
  },
  {
   "cell_type": "code",
   "execution_count": null,
   "metadata": {},
   "outputs": [],
   "source": [
    "import transformers\n",
    "import datasets\n",
    "import pandas as pd\n",
    "import numpy as np\n",
    "from datasets import Dataset\n",
    "import os\n",
    "from transformers import AutoModelForSequenceClassification, TrainingArguments, Trainer\n",
    "import torch\n",
    "from transformers import AutoTokenizer"
   ]
  },
  {
   "cell_type": "code",
   "execution_count": null,
   "metadata": {},
   "outputs": [],
   "source": [
    "ls -l /kaggle/input/detect-llm-models/distilroberta-finetuned_v5          # \"모델이름\""
   ]
  },
  {
   "cell_type": "code",
   "execution_count": null,
   "metadata": {},
   "outputs": [],
   "source": [
    "model_checkpoint = \"/kaggle/input/detect-llm-models/roberta-base-finetuned_v5/checkpoint-49654\"        #\"모델이름\"\n",
    "tokenizer = AutoTokenizer.from_pretrained(model_checkpoint)\n",
    "def preprocess_function(examples):\n",
    "    return tokenizer(examples['text'], max_length = 512 , padding=True, truncation=True)\n",
    "num_labels = 2\n",
    "model = AutoModelForSequenceClassification.from_pretrained(model_checkpoint, num_labels=num_labels)\n",
    "device = torch.device(\"cuda:0\" if torch.cuda.is_available() else \"cpu\")\n",
    "    # Move your model and data to the GPU\n",
    "model.to(device);\n",
    "trainer = Trainer(\n",
    "    model,\n",
    "    tokenizer=tokenizer,\n",
    ")\n",
    "test = pd.read_csv('/kaggle/input/llm-detect-ai-generated-text/test_essays.csv')\n",
    "test_ds = Dataset.from_pandas(test)\n",
    "test_ds_enc = test_ds.map(preprocess_function, batched=True)\n",
    "test_preds = trainer.predict(test_ds_enc)\n",
    "logits = test_preds.predictions\n",
    "probs = (np.exp(logits) / np.sum(np.exp(logits), axis=-1, keepdims=True))[:,0]\n",
    "sub = pd.DataFrame()\n",
    "sub['id'] = test['id']\n",
    "sub['generated'] = probs\n",
    "sub.to_csv('submission.csv', index=False)\n",
    "sub.head()"
   ]
  },
  {
   "cell_type": "markdown",
   "metadata": {},
   "source": [
    "## ========모델표현 과거======"
   ]
  },
  {
   "cell_type": "code",
   "execution_count": null,
   "metadata": {},
   "outputs": [],
   "source": [
    "# model = TFRobertaForSequenceClassification.from_pretrained('/kaggle/input/roberta/roberta-base', local_files_only=True)"
   ]
  },
  {
   "cell_type": "code",
   "execution_count": 67,
   "metadata": {},
   "outputs": [
    {
     "name": "stderr",
     "output_type": "stream",
     "text": [
      "Some weights of the PyTorch model were not used when initializing the TF 2.0 model TFRobertaForSequenceClassification: ['roberta.embeddings.position_ids']\n",
      "- This IS expected if you are initializing TFRobertaForSequenceClassification from a PyTorch model trained on another task or with another architecture (e.g. initializing a TFBertForSequenceClassification model from a BertForPreTraining model).\n",
      "- This IS NOT expected if you are initializing TFRobertaForSequenceClassification from a PyTorch model that you expect to be exactly identical (e.g. initializing a TFBertForSequenceClassification model from a BertForSequenceClassification model).\n",
      "Some weights or buffers of the TF 2.0 model TFRobertaForSequenceClassification were not initialized from the PyTorch model and are newly initialized: ['classifier.dense.weight', 'classifier.dense.bias', 'classifier.out_proj.weight', 'classifier.out_proj.bias']\n",
      "You should probably TRAIN this model on a down-stream task to be able to use it for predictions and inference.\n"
     ]
    }
   ],
   "source": [
    "# model = TFRobertaForSequenceClassification.from_pretrained('roberta-base')"
   ]
  },
  {
   "cell_type": "code",
   "execution_count": 68,
   "metadata": {
    "execution": {
     "iopub.execute_input": "2024-01-17T04:48:45.271664Z",
     "iopub.status.busy": "2024-01-17T04:48:45.271258Z",
     "iopub.status.idle": "2024-01-17T04:48:45.299245Z",
     "shell.execute_reply": "2024-01-17T04:48:45.297797Z",
     "shell.execute_reply.started": "2024-01-17T04:48:45.271618Z"
    }
   },
   "outputs": [],
   "source": [
    "# # 모델 컴파일\n",
    "# optimizer = tf.keras.optimizers.Adam(learning_rate=2e-5, epsilon=1e-08)\n",
    "# loss = tf.keras.losses.SparseCategoricalCrossentropy(from_logits=True)\n",
    "# model.compile(optimizer=optimizer, loss=loss, metrics=['accuracy'])"
   ]
  },
  {
   "cell_type": "code",
   "execution_count": 60,
   "metadata": {},
   "outputs": [
    {
     "name": "stdout",
     "output_type": "stream",
     "text": [
      "Model: \"tf_roberta_for_sequence_classification\"\n",
      "_________________________________________________________________\n",
      " Layer (type)                Output Shape              Param #   \n",
      "=================================================================\n",
      " roberta (TFRobertaMainLayer  multiple                 124055040 \n",
      " )                                                               \n",
      "                                                                 \n",
      " classifier (TFRobertaClassi  multiple                 592130    \n",
      " ficationHead)                                                   \n",
      "                                                                 \n",
      "=================================================================\n",
      "Total params: 124,647,170\n",
      "Trainable params: 124,647,170\n",
      "Non-trainable params: 0\n",
      "_________________________________________________________________\n"
     ]
    }
   ],
   "source": [
    "# model.summary()"
   ]
  },
  {
   "cell_type": "code",
   "execution_count": 69,
   "metadata": {
    "execution": {
     "iopub.execute_input": "2024-01-17T04:50:33.952496Z",
     "iopub.status.busy": "2024-01-17T04:50:33.952018Z"
    }
   },
   "outputs": [
    {
     "name": "stdout",
     "output_type": "stream",
     "text": [
      "Epoch 1/3\n",
      "1846/1846 [==============================] - ETA: 0s - loss: 0.6735 - accuracy: 0.6010\n",
      "Epoch 00001: val_loss improved from inf to 0.67588, saving model to best_model_clean_roberta.h5\n"
     ]
    },
    {
     "ename": "NotImplementedError",
     "evalue": "Saving the model to HDF5 format requires the model to be a Functional model or a Sequential model. It does not work for subclassed models, because such models are defined via the body of a Python method, which isn't safely serializable. Consider saving to the Tensorflow SavedModel format (by setting save_format=\"tf\") or using `save_weights`.",
     "output_type": "error",
     "traceback": [
      "\u001b[0;31m---------------------------------------------------------------------------\u001b[0m",
      "\u001b[0;31mNotImplementedError\u001b[0m                       Traceback (most recent call last)",
      "\u001b[0;32m/tmp/ipykernel_243501/3299663698.py\u001b[0m in \u001b[0;36m<module>\u001b[0;34m\u001b[0m\n\u001b[1;32m     21\u001b[0m \u001b[0;34m\u001b[0m\u001b[0m\n\u001b[1;32m     22\u001b[0m \u001b[0;31m# 모델 학습을 다시 시도하면서 콜백 추가\u001b[0m\u001b[0;34m\u001b[0m\u001b[0;34m\u001b[0m\u001b[0;34m\u001b[0m\u001b[0m\n\u001b[0;32m---> 23\u001b[0;31m history = model.fit(\n\u001b[0m\u001b[1;32m     24\u001b[0m     \u001b[0mtrain_inputs\u001b[0m\u001b[0;34m,\u001b[0m\u001b[0;34m\u001b[0m\u001b[0;34m\u001b[0m\u001b[0m\n\u001b[1;32m     25\u001b[0m     \u001b[0mtrain_labels\u001b[0m\u001b[0;34m,\u001b[0m\u001b[0;34m\u001b[0m\u001b[0;34m\u001b[0m\u001b[0m\n",
      "\u001b[0;32m~/.local/lib/python3.8/site-packages/keras/utils/traceback_utils.py\u001b[0m in \u001b[0;36merror_handler\u001b[0;34m(*args, **kwargs)\u001b[0m\n\u001b[1;32m     65\u001b[0m     \u001b[0;32mexcept\u001b[0m \u001b[0mException\u001b[0m \u001b[0;32mas\u001b[0m \u001b[0me\u001b[0m\u001b[0;34m:\u001b[0m  \u001b[0;31m# pylint: disable=broad-except\u001b[0m\u001b[0;34m\u001b[0m\u001b[0;34m\u001b[0m\u001b[0m\n\u001b[1;32m     66\u001b[0m       \u001b[0mfiltered_tb\u001b[0m \u001b[0;34m=\u001b[0m \u001b[0m_process_traceback_frames\u001b[0m\u001b[0;34m(\u001b[0m\u001b[0me\u001b[0m\u001b[0;34m.\u001b[0m\u001b[0m__traceback__\u001b[0m\u001b[0;34m)\u001b[0m\u001b[0;34m\u001b[0m\u001b[0;34m\u001b[0m\u001b[0m\n\u001b[0;32m---> 67\u001b[0;31m       \u001b[0;32mraise\u001b[0m \u001b[0me\u001b[0m\u001b[0;34m.\u001b[0m\u001b[0mwith_traceback\u001b[0m\u001b[0;34m(\u001b[0m\u001b[0mfiltered_tb\u001b[0m\u001b[0;34m)\u001b[0m \u001b[0;32mfrom\u001b[0m \u001b[0;32mNone\u001b[0m\u001b[0;34m\u001b[0m\u001b[0;34m\u001b[0m\u001b[0m\n\u001b[0m\u001b[1;32m     68\u001b[0m     \u001b[0;32mfinally\u001b[0m\u001b[0;34m:\u001b[0m\u001b[0;34m\u001b[0m\u001b[0;34m\u001b[0m\u001b[0m\n\u001b[1;32m     69\u001b[0m       \u001b[0;32mdel\u001b[0m \u001b[0mfiltered_tb\u001b[0m\u001b[0;34m\u001b[0m\u001b[0;34m\u001b[0m\u001b[0m\n",
      "\u001b[0;32m~/.local/lib/python3.8/site-packages/keras/saving/save.py\u001b[0m in \u001b[0;36msave_model\u001b[0;34m(model, filepath, overwrite, include_optimizer, save_format, signatures, options, save_traces)\u001b[0m\n\u001b[1;32m    138\u001b[0m     if (not model._is_graph_network and  # pylint:disable=protected-access\n\u001b[1;32m    139\u001b[0m         not isinstance(model, sequential.Sequential)):\n\u001b[0;32m--> 140\u001b[0;31m       raise NotImplementedError(\n\u001b[0m\u001b[1;32m    141\u001b[0m           \u001b[0;34m'Saving the model to HDF5 format requires the model to be a '\u001b[0m\u001b[0;34m\u001b[0m\u001b[0;34m\u001b[0m\u001b[0m\n\u001b[1;32m    142\u001b[0m           \u001b[0;34m'Functional model or a Sequential model. It does not work for '\u001b[0m\u001b[0;34m\u001b[0m\u001b[0;34m\u001b[0m\u001b[0m\n",
      "\u001b[0;31mNotImplementedError\u001b[0m: Saving the model to HDF5 format requires the model to be a Functional model or a Sequential model. It does not work for subclassed models, because such models are defined via the body of a Python method, which isn't safely serializable. Consider saving to the Tensorflow SavedModel format (by setting save_format=\"tf\") or using `save_weights`."
     ]
    }
   ],
   "source": [
    "# from keras.callbacks import ModelCheckpoint, EarlyStopping\n",
    "\n",
    "# # 배치 크기 설정\n",
    "# batch_size = 8\n",
    "\n",
    "# # 체크포인트 파일 경로 설정\n",
    "# checkpoint_path = \"best_model_clean_roberta.h5\"\n",
    "\n",
    "# # ModelCheckpoint 콜백 생성 (Tensorflow SavedModel 형식으로 저장)\n",
    "# checkpoint = ModelCheckpoint(\n",
    "#     checkpoint_path, \n",
    "#     monitor='val_loss', \n",
    "#     verbose=1, \n",
    "#     save_best_only=True, \n",
    "#     mode='min', \n",
    "#     save_format='h5'  # H5 포맷으로 저장하도록 설정\n",
    "# )\n",
    "\n",
    "# # EarlyStopping 콜백 생성\n",
    "# early_stopping = EarlyStopping(monitor='val_loss', patience=2, verbose=1, mode='min')\n",
    "\n",
    "# # 모델 학습을 다시 시도하면서 콜백 추가\n",
    "# history = model.fit(\n",
    "#     train_inputs,\n",
    "#     train_labels,\n",
    "#     epochs=3,  # 에포크 수 증가\n",
    "#     batch_size=batch_size,\n",
    "#     validation_data=(validation_inputs, validation_labels),\n",
    "#     callbacks=[checkpoint, early_stopping]  # 콜백 리스트에 ModelCheckpoint와 EarlyStopping 추가\n",
    "# )\n"
   ]
  },
  {
   "cell_type": "code",
   "execution_count": null,
   "metadata": {},
   "outputs": [],
   "source": [
    "# from keras.callbacks import ModelCheckpoint, EarlyStopping\n",
    "\n",
    "# # 배치 크기 설정\n",
    "# batch_size = 8\n",
    "\n",
    "# # 체크포인트 파일 경로 설정\n",
    "# checkpoint_path = \"best_model_clean_roberta.h5\"\n",
    "\n",
    "# # ModelCheckpoint 콜백 생성 (Tensorflow SavedModel 형식으로 저장)\n",
    "# checkpoint = ModelCheckpoint(\n",
    "#     checkpoint_path, \n",
    "#     monitor='val_loss', \n",
    "#     verbose=1, \n",
    "#     save_best_only=True, \n",
    "#     mode='min', \n",
    "#     save_format='h5'  # H5 포맷으로 저장하도록 설정\n",
    "# )\n",
    "\n",
    "# # EarlyStopping 콜백 생성\n",
    "# early_stopping = EarlyStopping(monitor='val_loss', patience=15, verbose=1, mode='min')\n",
    "\n",
    "# # 모델 학습을 다시 시도하면서 콜백 추가\n",
    "# history = model.fit(\n",
    "#     train_inputs,\n",
    "#     train_labels,\n",
    "#     epochs=50,  # 에포크 수 증가\n",
    "#     batch_size=batch_size,\n",
    "#     validation_data=(validation_inputs, validation_labels),\n",
    "#     callbacks=[checkpoint, early_stopping]  # 콜백 리스트에 ModelCheckpoint와 EarlyStopping 추가\n",
    "# )\n"
   ]
  },
  {
   "cell_type": "code",
   "execution_count": null,
   "metadata": {},
   "outputs": [],
   "source": [
    "# import matplotlib.pyplot as plt\n",
    "\n",
    "# # 정확도 그래프\n",
    "# plt.figure(figsize=(12, 4))\n",
    "# plt.subplot(1, 2, 1)\n",
    "# plt.plot(history.history['accuracy'], label='Train Accuracy')\n",
    "# plt.plot(history.history['val_accuracy'], label='Validation Accuracy')\n",
    "# plt.title('Model Accuracy')\n",
    "# plt.ylabel('Accuracy')\n",
    "# plt.xlabel('Epoch')\n",
    "# plt.legend()\n",
    "\n",
    "# # 손실 그래프\n",
    "# plt.subplot(1, 2, 2)\n",
    "# plt.plot(history.history['loss'], label='Train Loss')\n",
    "# plt.plot(history.history['val_loss'], label='Validation Loss')\n",
    "# plt.title('Model Loss')\n",
    "# plt.ylabel('Loss')\n",
    "# plt.xlabel('Epoch')\n",
    "# plt.legend()\n",
    "\n",
    "# plt.show()\n"
   ]
  },
  {
   "cell_type": "code",
   "execution_count": null,
   "metadata": {},
   "outputs": [],
   "source": [
    "# from sklearn.metrics import roc_curve, auc\n",
    "\n",
    "# # 검증 데이터에 대한 예측 로짓을 얻음\n",
    "# y_pred_logits = model.predict(validation_inputs).logits\n",
    "\n",
    "# # 로짓을 확률로 변환 (이진 분류 가정)\n",
    "# y_pred_probs = tf.nn.softmax(y_pred_logits, axis=1)[:, 1].numpy()\n",
    "\n",
    "# # ROC 곡선 계산\n",
    "# fpr, tpr, thresholds = roc_curve(validation_labels, y_pred_probs)\n",
    "\n",
    "# # AUC 계산\n",
    "# roc_auc = auc(fpr, tpr)\n",
    "\n",
    "# # ROC 곡선 그리기\n",
    "# plt.figure()\n",
    "# plt.plot(fpr, tpr, color='darkorange', lw=2, label='ROC curve (area = %0.2f)' % roc_auc)\n",
    "# plt.plot([0, 1], [0, 1], color='navy', lw=2, linestyle='--')\n",
    "# plt.xlim([0.0, 1.0])\n",
    "# plt.ylim([0.0, 1.05])\n",
    "# plt.xlabel('False Positive Rate')\n",
    "# plt.ylabel('True Positive Rate')\n",
    "# plt.title('Receiver Operating Characteristic')\n",
    "# plt.legend(loc=\"lower right\")\n",
    "# plt.show()\n"
   ]
  },
  {
   "cell_type": "code",
   "execution_count": null,
   "metadata": {},
   "outputs": [],
   "source": [
    "# y_pred_logits의 형태와 처음 몇 개의 로짓 출력\n",
    "print(\"Shape of y_pred_logits:\", y_pred_logits.shape)\n",
    "print(\"Sample logits:\", y_pred_logits[:5])\n",
    "\n",
    "# y_pred_probs의 형태와 처음 몇 개의 확률 출력\n",
    "print(\"Shape of y_pred_probs:\", y_pred_probs.shape)\n",
    "print(\"Sample probabilities:\", y_pred_probs[:5])"
   ]
  },
  {
   "cell_type": "markdown",
   "metadata": {},
   "source": [
    "# ======test set에 대한 검증======="
   ]
  },
  {
   "cell_type": "code",
   "execution_count": null,
   "metadata": {},
   "outputs": [],
   "source": [
    "# # 저장된 모델의 경로\n",
    "# saved_model_path = \"best_model_clean_roberta.h5\"  # .h5 확장자 제거\n",
    "\n",
    "# # 저장된 모델 불러오기\n",
    "# loaded_model = tf.keras.models.load_model(saved_model_path)"
   ]
  },
  {
   "cell_type": "code",
   "execution_count": null,
   "metadata": {},
   "outputs": [],
   "source": [
    "# loaded_model.summary()"
   ]
  },
  {
   "cell_type": "code",
   "execution_count": null,
   "metadata": {},
   "outputs": [],
   "source": [
    "# # test_essays 데이터의 토큰화 진행 상황을 표시\n",
    "# test_input_ids = []\n",
    "# test_attention_masks = []\n",
    "\n",
    "# for text in tqdm(test_essays['text'].tolist(), desc=\"토큰화 진행중\"):\n",
    "#     encoded = tokenizer.encode_plus(text, \n",
    "#                                     add_special_tokens=True, \n",
    "#                                     max_length=256, \n",
    "#                                     padding='max_length', \n",
    "#                                     truncation=True, \n",
    "#                                     return_attention_mask=True, \n",
    "#                                     return_tensors='np')\n",
    "#     test_input_ids.append(encoded['input_ids'][0])\n",
    "#     test_attention_masks.append(encoded['attention_mask'][0])\n",
    "\n",
    "\n",
    "\n",
    "# test_inputs = {\n",
    "#     \"input_ids\": np.array(test_input_ids),\n",
    "#     \"attention_mask\": np.array(test_attention_masks)\n",
    "# }  "
   ]
  },
  {
   "cell_type": "code",
   "execution_count": null,
   "metadata": {},
   "outputs": [],
   "source": [
    "# # 입력 데이터 형상 확인\n",
    "# print(\"test_inputs[input_ids] shape:\", test_inputs['input_ids'].shape)\n",
    "# print(\"test_inputs[attention_mask] shape:\", test_inputs['attention_mask'].shape)\n",
    "# # print(\"test_inputs[token_type_ids] shape:\", test_inputs['token_type_ids'].shape)\n",
    "# # 데이터 타입 확인\n",
    "# print(\"test_inputs[input_ids] type:\", test_inputs['input_ids'].dtype)\n",
    "# print(\"test_inputs[attention_mask] type:\", test_inputs['attention_mask'].dtype)\n",
    "# # print(\"test_inputs[token_type_ids] type:\", test_inputs['token_type_ids'].dtype)"
   ]
  },
  {
   "cell_type": "code",
   "execution_count": null,
   "metadata": {},
   "outputs": [],
   "source": [
    "# # 검증 데이터에 대한 예측 로짓을 얻음\n",
    "# prediction_logits = loaded_model.predict(test_inputs).logits\n",
    "\n",
    "# # 예측 결과를 적절한 형태로 변환\n",
    "# prediction_probs = tf.nn.softmax(prediction_logits, axis=1)[:, 1].numpy()\n",
    "\n",
    "# # 결과를 캐글 제출 형식에 맞게 데이터프레임으로 변환\n",
    "# submission = pd.DataFrame({\n",
    "#     'id': test_essays['id'],  # 샘플 ID\n",
    "#     'prediction': prediction_probs  # 예측 확률\n",
    "# })\n",
    "\n",
    "# # 결과를 CSV 파일로 저장\n",
    "# submission.to_csv('submission_clean_roberta.csv', index=False)\n"
   ]
  },
  {
   "cell_type": "code",
   "execution_count": null,
   "metadata": {},
   "outputs": [],
   "source": []
  },
  {
   "cell_type": "code",
   "execution_count": null,
   "metadata": {},
   "outputs": [],
   "source": []
  },
  {
   "cell_type": "code",
   "execution_count": null,
   "metadata": {},
   "outputs": [],
   "source": []
  },
  {
   "cell_type": "code",
   "execution_count": null,
   "metadata": {},
   "outputs": [],
   "source": []
  },
  {
   "cell_type": "code",
   "execution_count": null,
   "metadata": {},
   "outputs": [],
   "source": []
  },
  {
   "cell_type": "code",
   "execution_count": null,
   "metadata": {},
   "outputs": [],
   "source": []
  },
  {
   "cell_type": "code",
   "execution_count": null,
   "metadata": {},
   "outputs": [],
   "source": []
  },
  {
   "cell_type": "code",
   "execution_count": null,
   "metadata": {},
   "outputs": [],
   "source": []
  }
 ],
 "metadata": {
  "kaggle": {
   "accelerator": "none",
   "dataSources": [
    {
     "databundleVersionId": 6888007,
     "sourceId": 61542,
     "sourceType": "competition"
    },
    {
     "datasetId": 4210720,
     "sourceId": 7294503,
     "sourceType": "datasetVersion"
    },
    {
     "datasetId": 4311145,
     "sourceId": 7411808,
     "sourceType": "datasetVersion"
    },
    {
     "datasetId": 4312562,
     "sourceId": 7413730,
     "sourceType": "datasetVersion"
    }
   ],
   "dockerImageVersionId": 30636,
   "isGpuEnabled": false,
   "isInternetEnabled": false,
   "language": "python",
   "sourceType": "notebook"
  },
  "kernelspec": {
   "display_name": "torch1.10.0-py3.8-cuda11.3",
   "language": "python",
   "name": "torch1.10.0-py3.8-cuda11.3"
  },
  "language_info": {
   "codemirror_mode": {
    "name": "ipython",
    "version": 3
   },
   "file_extension": ".py",
   "mimetype": "text/x-python",
   "name": "python",
   "nbconvert_exporter": "python",
   "pygments_lexer": "ipython3",
   "version": "3.8.10"
  }
 },
 "nbformat": 4,
 "nbformat_minor": 4
}
