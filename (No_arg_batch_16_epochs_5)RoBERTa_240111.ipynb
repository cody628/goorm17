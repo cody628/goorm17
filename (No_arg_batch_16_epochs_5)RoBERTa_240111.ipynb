{
 "cells": [
  {
   "cell_type": "code",
   "execution_count": 1,
   "metadata": {
    "_cell_guid": "d7205f16-32c2-47cd-a973-66dd3d26e18b",
    "_uuid": "b5ab5e82-267b-49f0-bac0-cb1821fc448e",
    "jupyter": {
     "outputs_hidden": false
    }
   },
   "outputs": [],
   "source": [
    "# !pip install keras-core --upgrade\n",
    "# !pip install -q keras-nlp\n",
    "# !pip install seaborn"
   ]
  },
  {
   "cell_type": "code",
   "execution_count": 2,
   "metadata": {
    "execution": {
     "iopub.execute_input": "2024-01-11T01:01:35.519200Z",
     "iopub.status.busy": "2024-01-11T01:01:35.518569Z",
     "iopub.status.idle": "2024-01-11T01:01:59.694732Z",
     "shell.execute_reply": "2024-01-11T01:01:59.693614Z",
     "shell.execute_reply.started": "2024-01-11T01:01:35.519167Z"
    }
   },
   "outputs": [],
   "source": [
    "# !pip install transformers"
   ]
  },
  {
   "cell_type": "markdown",
   "metadata": {},
   "source": [
    "# Import the Libararies"
   ]
  },
  {
   "cell_type": "code",
   "execution_count": 3,
   "metadata": {},
   "outputs": [],
   "source": [
    "# !pip install pandas"
   ]
  },
  {
   "cell_type": "code",
   "execution_count": 4,
   "metadata": {
    "_cell_guid": "144fcaa8-ae4c-4898-9ed0-52cb6669b9fb",
    "_uuid": "fe4ff976-8341-434f-be42-90e689fea868",
    "jupyter": {
     "outputs_hidden": false
    }
   },
   "outputs": [
    {
     "name": "stderr",
     "output_type": "stream",
     "text": [
      "/usr/local/lib/python3.8/dist-packages/scipy/__init__.py:146: UserWarning: A NumPy version >=1.16.5 and <1.23.0 is required for this version of SciPy (detected version 1.24.3\n",
      "  warnings.warn(f\"A NumPy version >={np_minversion} and <{np_maxversion}\"\n"
     ]
    },
    {
     "name": "stdout",
     "output_type": "stream",
     "text": [
      "TensorFlow version: 2.7.0\n"
     ]
    }
   ],
   "source": [
    "import os\n",
    "os.environ['KERAS_BACKEND'] = 'tensorflow'\n",
    "import numpy as np # linear algebra\n",
    "import pandas as pd # data processing, CSV file I/O (e.g. pd.read_csv)\n",
    "import tensorflow as tf\n",
    "# import keras_core as keras\n",
    "# import keras_nlp\n",
    "import seaborn as sns\n",
    "import matplotlib.pyplot as plt\n",
    "from sklearn.metrics import f1_score\n",
    "print(\"TensorFlow version:\", tf.__version__)\n",
    "# print(\"Keras version:\", keras.__version__)\n",
    "# print(\"KerasNLP version:\", keras_nlp.__version__)"
   ]
  },
  {
   "cell_type": "markdown",
   "metadata": {
    "_cell_guid": "f02e01c8-04c2-45f8-9578-544c96bb9d73",
    "_uuid": "a1b88057-6530-410f-9868-1b0ab3aa079d"
   },
   "source": [
    "# Load the data\n"
   ]
  },
  {
   "cell_type": "code",
   "execution_count": 5,
   "metadata": {
    "_cell_guid": "e6081b99-ed49-4cbe-8d01-dbb356733e60",
    "_uuid": "238abcf2-ee8c-4f4f-9bae-0e3ca671978a",
    "jupyter": {
     "outputs_hidden": false
    }
   },
   "outputs": [],
   "source": [
    "train_prompts = pd.read_csv('train_prompts.csv') #('/kaggle/input/llm-detect-ai-generated-text/train_prompts.csv')\n",
    "train_essays = pd.read_csv('train_essays.csv')#('/kaggle/input/llm-detect-ai-generated-text/train_essays.csv')\n",
    "test_essays = pd.read_csv('test_essays.csv')#('/kaggle/input/llm-detect-ai-generated-text/test_essays.csv')\n",
    "train_extra = pd.read_csv('train_v3_drcat_01.csv')#('/kaggle/input/daigt-v3-train-dataset/train_v3_drcat_01.csv')\n",
    "train_extra_2 = pd.read_csv('train_v3_drcat_02.csv')#('/kaggle/input/daigt-v3-train-dataset/train_v3_drcat_02.csv')"
   ]
  },
  {
   "cell_type": "markdown",
   "metadata": {},
   "source": [
    "# 🐝데이터 준비 (증강X)"
   ]
  },
  {
   "cell_type": "code",
   "execution_count": 6,
   "metadata": {},
   "outputs": [
    {
     "data": {
      "text/plain": [
       "Text(0.5, 1.0, 'Distribution of Generated Text')"
      ]
     },
     "execution_count": 6,
     "metadata": {},
     "output_type": "execute_result"
    },
    {
     "data": {
      "image/png": "[encoded data removed]",
      "text/plain": [
       "<Figure size 864x288 with 1 Axes>"
      ]
     },
     "metadata": {
      "needs_background": "light"
     },
     "output_type": "display_data"
    }
   ],
   "source": [
    "f, ax = plt.subplots(figsize=(12, 4))\n",
    "\n",
    "sns.despine()\n",
    "ax = sns.countplot(data=train_essays,\n",
    "                   x=\"generated\")\n",
    "\n",
    "abs_values = train_essays['generated'].value_counts().values\n",
    "\n",
    "ax.bar_label(container=ax.containers[0], labels=abs_values)\n",
    "\n",
    "ax.set_title(\"Distribution of Generated Text\")"
   ]
  },
  {
   "cell_type": "code",
   "execution_count": 7,
   "metadata": {},
   "outputs": [
    {
     "data": {
      "text/html": [
       "<div>\n",
       "<style scoped>\n",
       "    .dataframe tbody tr th:only-of-type {\n",
       "        vertical-align: middle;\n",
       "    }\n",
       "\n",
       "    .dataframe tbody tr th {\n",
       "        vertical-align: top;\n",
       "    }\n",
       "\n",
       "    .dataframe thead th {\n",
       "        text-align: right;\n",
       "    }\n",
       "</style>\n",
       "<table border=\"1\" class=\"dataframe\">\n",
       "  <thead>\n",
       "    <tr style=\"text-align: right;\">\n",
       "      <th></th>\n",
       "      <th>id</th>\n",
       "      <th>prompt_id</th>\n",
       "      <th>text</th>\n",
       "      <th>generated</th>\n",
       "    </tr>\n",
       "  </thead>\n",
       "  <tbody>\n",
       "    <tr>\n",
       "      <th>0</th>\n",
       "      <td>0059830c</td>\n",
       "      <td>0</td>\n",
       "      <td>Cars. Cars have been around since they became ...</td>\n",
       "      <td>0</td>\n",
       "    </tr>\n",
       "    <tr>\n",
       "      <th>1</th>\n",
       "      <td>005db917</td>\n",
       "      <td>0</td>\n",
       "      <td>Transportation is a large necessity in most co...</td>\n",
       "      <td>0</td>\n",
       "    </tr>\n",
       "    <tr>\n",
       "      <th>2</th>\n",
       "      <td>008f63e3</td>\n",
       "      <td>0</td>\n",
       "      <td>\"America's love affair with it's vehicles seem...</td>\n",
       "      <td>0</td>\n",
       "    </tr>\n",
       "    <tr>\n",
       "      <th>3</th>\n",
       "      <td>00940276</td>\n",
       "      <td>0</td>\n",
       "      <td>How often do you ride in a car? Do you drive a...</td>\n",
       "      <td>0</td>\n",
       "    </tr>\n",
       "    <tr>\n",
       "      <th>4</th>\n",
       "      <td>00c39458</td>\n",
       "      <td>0</td>\n",
       "      <td>Cars are a wonderful thing. They are perhaps o...</td>\n",
       "      <td>0</td>\n",
       "    </tr>\n",
       "  </tbody>\n",
       "</table>\n",
       "</div>"
      ],
      "text/plain": [
       "         id  prompt_id                                               text  \\\n",
       "0  0059830c          0  Cars. Cars have been around since they became ...   \n",
       "1  005db917          0  Transportation is a large necessity in most co...   \n",
       "2  008f63e3          0  \"America's love affair with it's vehicles seem...   \n",
       "3  00940276          0  How often do you ride in a car? Do you drive a...   \n",
       "4  00c39458          0  Cars are a wonderful thing. They are perhaps o...   \n",
       "\n",
       "   generated  \n",
       "0          0  \n",
       "1          0  \n",
       "2          0  \n",
       "3          0  \n",
       "4          0  "
      ]
     },
     "execution_count": 7,
     "metadata": {},
     "output_type": "execute_result"
    }
   ],
   "source": [
    "train_essays.head()"
   ]
  },
  {
   "cell_type": "code",
   "execution_count": 8,
   "metadata": {},
   "outputs": [
    {
     "name": "stdout",
     "output_type": "stream",
     "text": [
      "<class 'pandas.core.frame.DataFrame'>\n",
      "RangeIndex: 1378 entries, 0 to 1377\n",
      "Data columns (total 4 columns):\n",
      " #   Column     Non-Null Count  Dtype \n",
      "---  ------     --------------  ----- \n",
      " 0   id         1378 non-null   object\n",
      " 1   prompt_id  1378 non-null   int64 \n",
      " 2   text       1378 non-null   object\n",
      " 3   generated  1378 non-null   int64 \n",
      "dtypes: int64(2), object(2)\n",
      "memory usage: 43.2+ KB\n"
     ]
    }
   ],
   "source": [
    "train_essays.info()"
   ]
  },
  {
   "cell_type": "code",
   "execution_count": 9,
   "metadata": {},
   "outputs": [],
   "source": [
    "df_train_essays_final = train_essays.drop_duplicates(subset=['text'])\n",
    "\n",
    "df_train_essays_final.reset_index(drop=True, inplace=True)"
   ]
  },
  {
   "cell_type": "code",
   "execution_count": 10,
   "metadata": {},
   "outputs": [
    {
     "name": "stdout",
     "output_type": "stream",
     "text": [
      "<class 'pandas.core.frame.DataFrame'>\n",
      "RangeIndex: 1378 entries, 0 to 1377\n",
      "Data columns (total 4 columns):\n",
      " #   Column     Non-Null Count  Dtype \n",
      "---  ------     --------------  ----- \n",
      " 0   id         1378 non-null   object\n",
      " 1   prompt_id  1378 non-null   int64 \n",
      " 2   text       1378 non-null   object\n",
      " 3   generated  1378 non-null   int64 \n",
      "dtypes: int64(2), object(2)\n",
      "memory usage: 43.2+ KB\n"
     ]
    }
   ],
   "source": [
    "df_train_essays_final.info()"
   ]
  },
  {
   "cell_type": "code",
   "execution_count": 11,
   "metadata": {},
   "outputs": [
    {
     "data": {
      "text/plain": [
       "Text(0.5, 1.0, 'Distribution of Generated Text')"
      ]
     },
     "execution_count": 11,
     "metadata": {},
     "output_type": "execute_result"
    },
    {
     "data": {
      "image/png": "[encoded data removed]",
      "text/plain": [
       "<Figure size 864x288 with 1 Axes>"
      ]
     },
     "metadata": {
      "needs_background": "light"
     },
     "output_type": "display_data"
    }
   ],
   "source": [
    "f, ax = plt.subplots(figsize=(12, 4))\n",
    "\n",
    "sns.despine()\n",
    "ax = sns.countplot(data=df_train_essays_final,\n",
    "                   x=\"generated\")\n",
    "\n",
    "\n",
    "abs_values = df_train_essays_final['generated'].value_counts(sort=False).values\n",
    "ax.bar_label(container=ax.containers[0], labels=abs_values)\n",
    "ax.set_title(\"Distribution of Generated Text\")"
   ]
  },
  {
   "cell_type": "markdown",
   "metadata": {},
   "source": [
    "# 🐝train_essays 길이분석(증강X)"
   ]
  },
  {
   "cell_type": "code",
   "execution_count": 12,
   "metadata": {},
   "outputs": [
    {
     "name": "stdout",
     "output_type": "stream",
     "text": [
      "Count of 'generated' 0 with text length below 50: 0\n",
      "Count of 'generated' 1 with text length below 50: 0\n"
     ]
    }
   ],
   "source": [
    "df_train_essays_final['text_length'] = df_train_essays_final['text'].apply(len)\n",
    "\n",
    "# 'generated' 항목을 기준으로 0과 1로 데이터를 나눕니다.\n",
    "generated_0 = df_train_essays_final[df_train_essays_final['generated'] == 0]\n",
    "generated_1 = df_train_essays_final[df_train_essays_final['generated'] == 1]\n",
    "\n",
    "# 데이터프레임에서 'text' 항목의 문장들을 추출합니다.\n",
    "sentences_0 = generated_0['text'].tolist()\n",
    "sentences_1 = generated_1['text'].tolist()\n",
    "\n",
    "# 문장들의 길이를 측정합니다.\n",
    "sentence_lengths_0 = [len(sentence.split()) for sentence in sentences_0]\n",
    "sentence_lengths_1 = [len(sentence.split()) for sentence in sentences_1]\n",
    "\n",
    "# 문장들의 길이가 50 이하인 요소들의 개수 확인\n",
    "count_sentences_0_below_50 = sum(1 for length in sentence_lengths_0 if length <= 50)\n",
    "count_sentences_1_below_50 = sum(1 for length in sentence_lengths_1 if length <= 50)\n",
    "\n",
    "print(\"Count of 'generated' 0 with text length below 50:\", count_sentences_0_below_50)\n",
    "print(\"Count of 'generated' 1 with text length below 50:\", count_sentences_1_below_50)\n"
   ]
  },
  {
   "cell_type": "code",
   "execution_count": 13,
   "metadata": {},
   "outputs": [
    {
     "data": {
      "image/png": "[encoded data removed]",
      "text/plain": [
       "<Figure size 864x432 with 1 Axes>"
      ]
     },
     "metadata": {
      "needs_background": "light"
     },
     "output_type": "display_data"
    }
   ],
   "source": [
    "# 길이 분포 시각화\n",
    "plt.figure(figsize=(12, 6))\n",
    "sns.histplot(sentence_lengths_0, bins=50, color='blue', label='Generated 0', kde=True)\n",
    "sns.histplot(sentence_lengths_1, bins=50, color='red', label='Generated 1', kde=True)\n",
    "plt.xlabel('Sentence Length')\n",
    "plt.ylabel('Frequency')\n",
    "plt.legend()\n",
    "plt.title('Distribution of Sentence Length by \"generated\"')\n",
    "plt.show()\n"
   ]
  },
  {
   "cell_type": "code",
   "execution_count": 14,
   "metadata": {},
   "outputs": [
    {
     "data": {
      "text/html": [
       "<div>\n",
       "<style scoped>\n",
       "    .dataframe tbody tr th:only-of-type {\n",
       "        vertical-align: middle;\n",
       "    }\n",
       "\n",
       "    .dataframe tbody tr th {\n",
       "        vertical-align: top;\n",
       "    }\n",
       "\n",
       "    .dataframe thead th {\n",
       "        text-align: right;\n",
       "    }\n",
       "</style>\n",
       "<table border=\"1\" class=\"dataframe\">\n",
       "  <thead>\n",
       "    <tr style=\"text-align: right;\">\n",
       "      <th></th>\n",
       "      <th>id</th>\n",
       "      <th>prompt_id</th>\n",
       "      <th>text</th>\n",
       "      <th>generated</th>\n",
       "      <th>text_length</th>\n",
       "    </tr>\n",
       "  </thead>\n",
       "  <tbody>\n",
       "    <tr>\n",
       "      <th>0</th>\n",
       "      <td>0059830c</td>\n",
       "      <td>0</td>\n",
       "      <td>Cars. Cars have been around since they became ...</td>\n",
       "      <td>0</td>\n",
       "      <td>3289</td>\n",
       "    </tr>\n",
       "    <tr>\n",
       "      <th>1</th>\n",
       "      <td>005db917</td>\n",
       "      <td>0</td>\n",
       "      <td>Transportation is a large necessity in most co...</td>\n",
       "      <td>0</td>\n",
       "      <td>2738</td>\n",
       "    </tr>\n",
       "    <tr>\n",
       "      <th>2</th>\n",
       "      <td>008f63e3</td>\n",
       "      <td>0</td>\n",
       "      <td>\"America's love affair with it's vehicles seem...</td>\n",
       "      <td>0</td>\n",
       "      <td>4428</td>\n",
       "    </tr>\n",
       "    <tr>\n",
       "      <th>3</th>\n",
       "      <td>00940276</td>\n",
       "      <td>0</td>\n",
       "      <td>How often do you ride in a car? Do you drive a...</td>\n",
       "      <td>0</td>\n",
       "      <td>4013</td>\n",
       "    </tr>\n",
       "    <tr>\n",
       "      <th>4</th>\n",
       "      <td>00c39458</td>\n",
       "      <td>0</td>\n",
       "      <td>Cars are a wonderful thing. They are perhaps o...</td>\n",
       "      <td>0</td>\n",
       "      <td>4698</td>\n",
       "    </tr>\n",
       "  </tbody>\n",
       "</table>\n",
       "</div>"
      ],
      "text/plain": [
       "         id  prompt_id                                               text  \\\n",
       "0  0059830c          0  Cars. Cars have been around since they became ...   \n",
       "1  005db917          0  Transportation is a large necessity in most co...   \n",
       "2  008f63e3          0  \"America's love affair with it's vehicles seem...   \n",
       "3  00940276          0  How often do you ride in a car? Do you drive a...   \n",
       "4  00c39458          0  Cars are a wonderful thing. They are perhaps o...   \n",
       "\n",
       "   generated  text_length  \n",
       "0          0         3289  \n",
       "1          0         2738  \n",
       "2          0         4428  \n",
       "3          0         4013  \n",
       "4          0         4698  "
      ]
     },
     "execution_count": 14,
     "metadata": {},
     "output_type": "execute_result"
    }
   ],
   "source": [
    "df_train_essays_final.head()"
   ]
  },
  {
   "cell_type": "code",
   "execution_count": 15,
   "metadata": {},
   "outputs": [],
   "source": [
    "df_train_essays_final = df_train_essays_final.drop(columns=[\"id\", \"prompt_id\", \"text_length\"])"
   ]
  },
  {
   "cell_type": "code",
   "execution_count": 16,
   "metadata": {},
   "outputs": [
    {
     "data": {
      "text/html": [
       "<div>\n",
       "<style scoped>\n",
       "    .dataframe tbody tr th:only-of-type {\n",
       "        vertical-align: middle;\n",
       "    }\n",
       "\n",
       "    .dataframe tbody tr th {\n",
       "        vertical-align: top;\n",
       "    }\n",
       "\n",
       "    .dataframe thead th {\n",
       "        text-align: right;\n",
       "    }\n",
       "</style>\n",
       "<table border=\"1\" class=\"dataframe\">\n",
       "  <thead>\n",
       "    <tr style=\"text-align: right;\">\n",
       "      <th></th>\n",
       "      <th>text</th>\n",
       "      <th>generated</th>\n",
       "    </tr>\n",
       "  </thead>\n",
       "  <tbody>\n",
       "    <tr>\n",
       "      <th>0</th>\n",
       "      <td>Cars. Cars have been around since they became ...</td>\n",
       "      <td>0</td>\n",
       "    </tr>\n",
       "    <tr>\n",
       "      <th>1</th>\n",
       "      <td>Transportation is a large necessity in most co...</td>\n",
       "      <td>0</td>\n",
       "    </tr>\n",
       "    <tr>\n",
       "      <th>2</th>\n",
       "      <td>\"America's love affair with it's vehicles seem...</td>\n",
       "      <td>0</td>\n",
       "    </tr>\n",
       "    <tr>\n",
       "      <th>3</th>\n",
       "      <td>How often do you ride in a car? Do you drive a...</td>\n",
       "      <td>0</td>\n",
       "    </tr>\n",
       "    <tr>\n",
       "      <th>4</th>\n",
       "      <td>Cars are a wonderful thing. They are perhaps o...</td>\n",
       "      <td>0</td>\n",
       "    </tr>\n",
       "  </tbody>\n",
       "</table>\n",
       "</div>"
      ],
      "text/plain": [
       "                                                text  generated\n",
       "0  Cars. Cars have been around since they became ...          0\n",
       "1  Transportation is a large necessity in most co...          0\n",
       "2  \"America's love affair with it's vehicles seem...          0\n",
       "3  How often do you ride in a car? Do you drive a...          0\n",
       "4  Cars are a wonderful thing. They are perhaps o...          0"
      ]
     },
     "execution_count": 16,
     "metadata": {},
     "output_type": "execute_result"
    }
   ],
   "source": [
    "df_train_essays_final.head()"
   ]
  },
  {
   "cell_type": "markdown",
   "metadata": {},
   "source": [
    "# ==========증강은 대기==============\n",
    "# ====================================="
   ]
  },
  {
   "cell_type": "markdown",
   "metadata": {
    "_cell_guid": "0d9ef622-5e59-4f89-a5b2-b83fc77aca71",
    "_uuid": "e488b1d4-558f-4254-8a3d-28becfe0c7f3"
   },
   "source": [
    "# 🐝 **데이터 분석 및 증강**"
   ]
  },
  {
   "cell_type": "code",
   "execution_count": 17,
   "metadata": {
    "_cell_guid": "cfb14172-c68d-43ad-b336-c6ac4e12a749",
    "_uuid": "b52f2915-e756-4114-915a-b8b4c380ab08",
    "jupyter": {
     "outputs_hidden": false
    }
   },
   "outputs": [],
   "source": [
    "# df_train_extra=pd.concat([train_extra,train_extra_2],ignore_index=True)\n"
   ]
  },
  {
   "cell_type": "code",
   "execution_count": 18,
   "metadata": {},
   "outputs": [],
   "source": [
    "# f, ax = plt.subplots(figsize=(12, 4))\n",
    "\n",
    "# sns.despine()\n",
    "# ax = sns.countplot(data=train_essays,\n",
    "#                    x=\"prompt_id\")\n",
    "\n",
    "# abs_values = train_essays['prompt_id'].value_counts().values\n",
    "\n",
    "# ax.bar_label(container=ax.containers[0], labels=abs_values)\n",
    "\n",
    "# ax.set_title(\"Distribution of prompt ID\")"
   ]
  },
  {
   "cell_type": "code",
   "execution_count": 19,
   "metadata": {},
   "outputs": [],
   "source": [
    "# f, ax = plt.subplots(figsize=(12, 4))\n",
    "\n",
    "# sns.despine()\n",
    "# ax = sns.countplot(data=train_essays,\n",
    "#                    x=\"generated\")\n",
    "\n",
    "# abs_values = train_essays['generated'].value_counts().values\n",
    "\n",
    "# ax.bar_label(container=ax.containers[0], labels=abs_values)\n",
    "\n",
    "# ax.set_title(\"Distribution of Generated Text\")"
   ]
  },
  {
   "cell_type": "code",
   "execution_count": 20,
   "metadata": {},
   "outputs": [],
   "source": [
    "# df_train_extra.rename(columns = {\"label\":\"generated\"}, inplace=True)"
   ]
  },
  {
   "cell_type": "code",
   "execution_count": 21,
   "metadata": {},
   "outputs": [],
   "source": [
    "# df_train_extra.head()"
   ]
  },
  {
   "cell_type": "code",
   "execution_count": 22,
   "metadata": {},
   "outputs": [],
   "source": [
    "# f, ax = plt.subplots(figsize=(12, 4))\n",
    "\n",
    "# sns.despine()\n",
    "# ax = sns.countplot(data=df_train_extra,\n",
    "#                    x=\"generated\")\n",
    "\n",
    "# abs_values = df_train_extra['generated'].value_counts(sort=False).values\n",
    "\n",
    "# ax.bar_label(container=ax.containers[0], labels=abs_values)\n",
    "\n",
    "# ax.set_title(\"Distribution of Generated Text\")"
   ]
  },
  {
   "cell_type": "code",
   "execution_count": 23,
   "metadata": {},
   "outputs": [],
   "source": [
    "# df_train_essays_final = pd.concat([df_train_extra[[\"text\", \"generated\"]], train_essays[[\"text\", \"generated\"]]])\n",
    "\n",
    "# df_train_essays_final.info()"
   ]
  },
  {
   "cell_type": "code",
   "execution_count": 24,
   "metadata": {},
   "outputs": [],
   "source": [
    "# df_train_essays_final.isna().sum()"
   ]
  },
  {
   "cell_type": "code",
   "execution_count": 25,
   "metadata": {},
   "outputs": [],
   "source": [
    "# df_train_essays_final.dropna(inplace=True)"
   ]
  },
  {
   "cell_type": "code",
   "execution_count": 26,
   "metadata": {},
   "outputs": [],
   "source": [
    "# df_train_essays_final = df_train_essays_final.drop_duplicates(subset=['text'])\n",
    "\n",
    "# df_train_essays_final.reset_index(drop=True, inplace=True)"
   ]
  },
  {
   "cell_type": "code",
   "execution_count": 27,
   "metadata": {},
   "outputs": [],
   "source": [
    "# f, ax = plt.subplots(figsize=(12, 4))\n",
    "\n",
    "# sns.despine()\n",
    "# ax = sns.countplot(data=df_train_essays_final,\n",
    "#                    x=\"generated\")\n",
    "\n",
    "\n",
    "# abs_values = df_train_essays_final['generated'].value_counts(sort=False).values\n",
    "# ax.bar_label(container=ax.containers[0], labels=abs_values)\n",
    "# ax.set_title(\"Distribution of Generated Text\")"
   ]
  },
  {
   "cell_type": "markdown",
   "metadata": {},
   "source": [
    "## 1) generated=0, student 생성 text label 데이터의 감소가 보임__ unbalance 해결 필요\n",
    "## 2) 전처리된 train set의 text들이 훈련에 적절한 내용을 제대로 포함하고 있는지 확인 필요\n",
    "## + GPU 메모리 부족현상을 극복"
   ]
  },
  {
   "cell_type": "code",
   "execution_count": 28,
   "metadata": {},
   "outputs": [],
   "source": [
    "# df_train_essays_final['text_length'] = df_train_essays_final['text'].apply(len)\n",
    "\n",
    "# # 'generated' 항목을 기준으로 0과 1로 데이터를 나눕니다.\n",
    "# generated_0 = df_train_essays_final[df_train_essays_final['generated'] == 0]\n",
    "# generated_1 = df_train_essays_final[df_train_essays_final['generated'] == 1]\n",
    "\n",
    "# # 데이터프레임에서 'text' 항목의 문장들을 추출합니다.\n",
    "# sentences_0 = generated_0['text'].tolist()\n",
    "# sentences_1 = generated_1['text'].tolist()\n",
    "\n",
    "# # 문장들의 길이를 측정합니다.\n",
    "# sentence_lengths_0 = [len(sentence.split()) for sentence in sentences_0]\n",
    "# sentence_lengths_1 = [len(sentence.split()) for sentence in sentences_1]\n",
    "\n",
    "# # 문장들의 길이가 50 이하인 요소들의 개수 확인\n",
    "# count_sentences_0_below_50 = sum(1 for length in sentence_lengths_0 if length <= 50)\n",
    "# count_sentences_1_below_50 = sum(1 for length in sentence_lengths_1 if length <= 50)\n",
    "\n",
    "# print(\"Count of 'generated' 0 with text length below 50:\", count_sentences_0_below_50)\n",
    "# print(\"Count of 'generated' 1 with text length below 50:\", count_sentences_1_below_50)\n"
   ]
  },
  {
   "cell_type": "code",
   "execution_count": 29,
   "metadata": {},
   "outputs": [],
   "source": [
    "# # 길이 분포 시각화\n",
    "# plt.figure(figsize=(12, 6))\n",
    "# sns.histplot(sentence_lengths_0, bins=50, color='blue', label='Generated 0', kde=True)\n",
    "# sns.histplot(sentence_lengths_1, bins=50, color='red', label='Generated 1', kde=True)\n",
    "# plt.xlabel('Sentence Length')\n",
    "# plt.ylabel('Frequency')\n",
    "# plt.legend()\n",
    "# plt.title('Distribution of Sentence Length by \"generated\"')\n",
    "# plt.show()\n"
   ]
  },
  {
   "cell_type": "code",
   "execution_count": 30,
   "metadata": {},
   "outputs": [],
   "source": [
    "# # 'generated' 항목을 기준으로 0과 1로 데이터를 나눕니다.\n",
    "# generated_0 = df_train_essays_final[df_train_essays_final['generated'] == 0]\n",
    "# generated_1 = df_train_essays_final[df_train_essays_final['generated'] == 1]\n",
    "\n",
    "# # 데이터프레임에서 'text' 항목의 문장들을 추출합니다.\n",
    "# sentences_0 = generated_0['text'].tolist()\n",
    "# sentences_1 = generated_1['text'].tolist()\n",
    "\n",
    "# # 문장들의 길이를 측정합니다.\n",
    "# sentence_lengths_0 = [len(sentence.split()) for sentence in sentences_0]\n",
    "# sentence_lengths_1 = [len(sentence.split()) for sentence in sentences_1]\n",
    "\n",
    "# # 50 이하인 항목들을 데이터프레임에서 제거하고 새로운 데이터프레임 생성\n",
    "# generated_0 = generated_0[[(length > 50) for length in sentence_lengths_0]]\n",
    "# generated_1 = generated_1[[(length > 50) for length in sentence_lengths_1]]\n",
    "\n",
    "# # 다시 문장들의 길이를 측정\n",
    "# sentence_lengths_0 = [len(sentence.split()) for sentence in generated_0['text']]\n",
    "# sentence_lengths_1 = [len(sentence.split()) for sentence in generated_1['text']]\n",
    "\n",
    "# # 문장들의 길이가 50 이하인 요소들의 개수 확인\n",
    "# count_sentences_0_below_50 = len(sentences_0) - len(generated_0)\n",
    "# count_sentences_1_below_50 = len(sentences_1) - len(generated_1)\n",
    "\n",
    "# print(\"Count of 'generated' 0 with text length below 50:\", count_sentences_0_below_50)\n",
    "# print(\"Count of 'generated' 1 with text length below 50:\", count_sentences_1_below_50)\n"
   ]
  },
  {
   "cell_type": "code",
   "execution_count": 31,
   "metadata": {},
   "outputs": [],
   "source": [
    "# plt.figure(figsize=(12, 6))\n",
    "# sns.histplot(sentence_lengths_0, bins=50, color='blue', label='Generated 0', kde=True)\n",
    "# sns.histplot(sentence_lengths_1, bins=50, color='red', label='Generated 1', kde=True)\n",
    "# plt.xlabel('Sentence Length')\n",
    "# plt.ylabel('Frequency')\n",
    "# plt.legend()\n",
    "# plt.title('Distribution of Sentence Length by \"generated\"')\n",
    "# plt.show()"
   ]
  },
  {
   "cell_type": "code",
   "execution_count": 32,
   "metadata": {},
   "outputs": [],
   "source": [
    "# df_train_essays_final = pd.concat([generated_0[[\"text\", \"generated\"]], generated_1[[\"text\", \"generated\"]]])\n",
    "\n",
    "# df_train_essays_final.info()"
   ]
  },
  {
   "cell_type": "code",
   "execution_count": 33,
   "metadata": {},
   "outputs": [],
   "source": [
    "# # Filter out the entries where 'generated' is 1.\n",
    "# generated_ones = df_train_essays_final[df_train_essays_final['generated'] == 1]\n",
    "\n",
    "# # Sort the filtered data by the length of the 'text' column, descending.\n",
    "# sorted_generated_ones = generated_ones.assign(text_length=generated_ones['text'].apply(len)).sort_values(by='text_length', ascending=True)\n",
    "\n",
    "# # Select the top 27420 entries with the longest text.\n",
    "# reduced_generated_ones = sorted_generated_ones.head(10000)\n",
    "\n",
    "\n",
    "\n",
    "# # Filter out the entries where 'generated' is 0.\n",
    "# generated_ones0 = df_train_essays_final[df_train_essays_final['generated'] == 0]\n",
    "\n",
    "# # Sort the filtered data by the length of the 'text' column, descending.\n",
    "# sorted_generated_ones0 = generated_ones0.assign(text_length=generated_ones0['text'].apply(len)).sort_values(by='text_length', ascending=True)\n",
    "\n",
    "# # Select the top 27420 entries with the longest text.\n",
    "# reduced_generated_ones0 = sorted_generated_ones0.head(10000)\n",
    "\n",
    "\n",
    "\n",
    "\n",
    "# # Combine the reduced set with the entries where 'generated' is 0.\n",
    "# reduced_df = pd.concat([reduced_generated_ones0, reduced_generated_ones])\n",
    "\n",
    "# # Remove the 'text_length' column used for sorting.\n",
    "# df_train_essays_final = reduced_df.drop(columns=['text_length'])\n",
    "\n",
    "# # Check the number of entries in the reduced dataset and show the first few entries.\n",
    "# df_train_essays_final.reset_index(drop=True, inplace=True)\n",
    "# len(df_train_essays_final), df_train_essays_final.head()\n"
   ]
  },
  {
   "cell_type": "code",
   "execution_count": 34,
   "metadata": {},
   "outputs": [],
   "source": [
    "# # 'generated' 항목을 기준으로 0과 1로 데이터를 나눕니다.\n",
    "# generated_0 = df_train_essays_final[df_train_essays_final['generated'] == 0]\n",
    "# generated_1 = df_train_essays_final[df_train_essays_final['generated'] == 1]\n",
    "\n",
    "# # 데이터프레임에서 'text' 항목의 문장들을 추출합니다.\n",
    "# sentences_0 = generated_0['text'].tolist()\n",
    "# sentences_1 = generated_1['text'].tolist()\n",
    "\n",
    "# # 문장들의 길이를 측정합니다.\n",
    "# sentence_lengths_0 = [len(sentence.split()) for sentence in sentences_0]\n",
    "# sentence_lengths_1 = [len(sentence.split()) for sentence in sentences_1]\n",
    "\n",
    "# # 길이 분포 시각화\n",
    "# plt.figure(figsize=(12, 6))\n",
    "# sns.histplot(sentence_lengths_0, bins=50, color='blue', label='Generated 0', kde=True)\n",
    "# sns.histplot(sentence_lengths_1, bins=50, color='red', label='Generated 1', kde=True)\n",
    "# plt.xlabel('Sentence Length')\n",
    "# plt.ylabel('Frequency')\n",
    "# plt.legend()\n",
    "# plt.title('Distribution of Sentence Length by \"generated\"')\n",
    "# plt.show()\n"
   ]
  },
  {
   "cell_type": "code",
   "execution_count": 35,
   "metadata": {},
   "outputs": [],
   "source": [
    "# f, ax = plt.subplots(figsize=(12, 4))\n",
    "\n",
    "# sns.despine()\n",
    "# ax = sns.countplot(data=df_train_essays_final,\n",
    "#                    x=\"generated\")\n",
    "\n",
    "\n",
    "# abs_values = df_train_essays_final['generated'].value_counts(sort=False).values\n",
    "# ax.bar_label(container=ax.containers[0], labels=abs_values)\n",
    "# ax.set_title(\"Distribution of Generated Text\")"
   ]
  },
  {
   "cell_type": "code",
   "execution_count": 36,
   "metadata": {},
   "outputs": [],
   "source": [
    "# df_train_essays_final.info()"
   ]
  },
  {
   "cell_type": "code",
   "execution_count": 37,
   "metadata": {},
   "outputs": [],
   "source": [
    "# df_train_essays_final.head()"
   ]
  },
  {
   "cell_type": "markdown",
   "metadata": {},
   "source": [
    "# ==========오타수정 라이브러리 대기===========\n",
    "# ========================================="
   ]
  },
  {
   "cell_type": "markdown",
   "metadata": {},
   "source": [
    "# ❓ 오타수정 library 적용 유무 (24.01.10 : X)"
   ]
  },
  {
   "cell_type": "code",
   "execution_count": 38,
   "metadata": {},
   "outputs": [],
   "source": [
    "# !pip install pyspellchecker"
   ]
  },
  {
   "cell_type": "code",
   "execution_count": 39,
   "metadata": {},
   "outputs": [],
   "source": [
    "# from spellchecker import SpellChecker\n",
    "\n",
    "# spell = SpellChecker()\n",
    "# misspelled = spell.unknown(['let', 'us', 'wlak', 'on', 'the', 'groun'])\n",
    "\n",
    "# for word in misspelled:\n",
    "#     print(f'Misspelled word: {word}')\n",
    "#     print(f'Suggestion: {spell.correction(word)}')\n"
   ]
  },
  {
   "cell_type": "code",
   "execution_count": 40,
   "metadata": {},
   "outputs": [],
   "source": [
    "# !pip install textblob"
   ]
  },
  {
   "cell_type": "code",
   "execution_count": 41,
   "metadata": {},
   "outputs": [],
   "source": [
    "# from textblob import TextBlob\n",
    "\n",
    "# text = \"I havv goood speling\"\n",
    "# blob = TextBlob(text)\n",
    "\n",
    "# corrected_text = blob.correct()\n",
    "# print(corrected_text)"
   ]
  },
  {
   "cell_type": "code",
   "execution_count": 42,
   "metadata": {},
   "outputs": [],
   "source": [
    "# !pip install hunspell"
   ]
  },
  {
   "cell_type": "code",
   "execution_count": 43,
   "metadata": {},
   "outputs": [],
   "source": [
    "# import hunspell\n",
    "\n",
    "# # Hunspell 객체 생성 (사전 파일 필요)\n",
    "# hun = hunspell.HunSpell('/usr/share/hunspell/en_US.dic', '/usr/share/hunspell/en_US.aff')\n",
    "\n",
    "# # 스펠 체크\n",
    "# word = \"speling\"\n",
    "# if not hun.spell(word):\n",
    "#     print(f'Misspelled word: {word}')\n",
    "#     suggestions = hun.suggest(word)\n",
    "#     print(f'Suggestions: {suggestions}')"
   ]
  },
  {
   "cell_type": "markdown",
   "metadata": {
    "_cell_guid": "54217ed9-8cc9-43c9-a2c5-bdabcfbe145e",
    "_uuid": "8867dcab-75cc-4756-a373-91f7b7cf67f6"
   },
   "source": [
    "# 🐝 **토큰화 진행 (WordPiece vs BPE)** "
   ]
  },
  {
   "cell_type": "markdown",
   "metadata": {},
   "source": [
    "## WordPiece"
   ]
  },
  {
   "cell_type": "code",
   "execution_count": 44,
   "metadata": {},
   "outputs": [],
   "source": [
    "# max_length 파라미터 조정을 통한 성능 확인"
   ]
  },
  {
   "cell_type": "code",
   "execution_count": 45,
   "metadata": {},
   "outputs": [
    {
     "name": "stdout",
     "output_type": "stream",
     "text": [
      "Empty DataFrame\n",
      "Columns: [text, generated]\n",
      "Index: []\n"
     ]
    }
   ],
   "source": [
    "problematic_data = df_train_essays_final[df_train_essays_final['text'].apply(lambda x: not isinstance(x, str))]\n",
    "print(problematic_data)"
   ]
  },
  {
   "cell_type": "code",
   "execution_count": 46,
   "metadata": {},
   "outputs": [
    {
     "name": "stderr",
     "output_type": "stream",
     "text": [
      "Token indices sequence length is longer than the specified maximum sequence length for this model (697 > 512). Running this sequence through the model will result in indexing errors\n"
     ]
    },
    {
     "name": "stdout",
     "output_type": "stream",
     "text": [
      "count    1378.000000\n",
      "mean      661.363570\n",
      "std       201.288011\n",
      "min       259.000000\n",
      "25%       527.000000\n",
      "50%       620.500000\n",
      "75%       757.750000\n",
      "max      2335.000000\n",
      "Name: text, dtype: float64\n"
     ]
    }
   ],
   "source": [
    "from transformers import RobertaTokenizer\n",
    "from tqdm.auto import tqdm\n",
    "import pandas as pd\n",
    "\n",
    "# BERT 토크나이저 초기화\n",
    "tokenizer = RobertaTokenizer.from_pretrained('roberta-base')\n",
    "\n",
    "# 토큰 길이 계산\n",
    "token_lengths = []\n",
    "for text in df_train_essays_final['text']:  # 'text_column'은 텍스트가 포함된 컬럼 이름입니다.\n",
    "    tokens = tokenizer.encode(text, add_special_tokens=True)\n",
    "    token_lengths.append(len(tokens))\n",
    "\n",
    "    \n",
    "df_ = df_train_essays_final.copy()\n",
    "# 토큰 길이를 DataFrame에 추가\n",
    "df_['text'] = token_lengths\n",
    "\n",
    "# 길이 분포 분석\n",
    "print(df_['text'].describe())\n",
    "\n",
    "# # # 토큰 길이를 DataFrame에 추가\n",
    "# df_train_essays_final['text'] = token_lengths\n",
    "\n",
    "# # # 길이 분포 분석\n",
    "# print(df_train_essays_final['text'].describe())"
   ]
  },
  {
   "cell_type": "code",
   "execution_count": 47,
   "metadata": {},
   "outputs": [
    {
     "data": {
      "application/vnd.jupyter.widget-view+json": {
       "model_id": "f75a7916c920454e9ba0e16ef20a4796",
       "version_major": 2,
       "version_minor": 0
      },
      "text/plain": [
       "토큰화 진행중:   0%|          | 0/1378 [00:00<?, ?it/s]"
      ]
     },
     "metadata": {},
     "output_type": "display_data"
    }
   ],
   "source": [
    "\n",
    "# tqdm을 사용하여 토큰화 진행 상황을 표시\n",
    "input_ids = []\n",
    "attention_masks = []\n",
    "\n",
    "for text in tqdm(df_train_essays_final['text'].tolist(), desc=\"토큰화 진행중\"):\n",
    "    encoded = tokenizer.encode_plus(text, \n",
    "                                    add_special_tokens=True, \n",
    "                                    max_length=256, \n",
    "                                    padding='max_length', \n",
    "                                    truncation=True, \n",
    "                                    return_attention_mask=True, \n",
    "                                    return_tensors='np')\n",
    "    input_ids.append(encoded['input_ids'][0])\n",
    "    attention_masks.append(encoded['attention_mask'][0])\n",
    "\n",
    "# 토큰화된 데이터를 pandas DataFrame으로 변환\n",
    "df_encoded = pd.DataFrame({\n",
    "    'input_ids': input_ids,\n",
    "    'attention_mask': attention_masks\n",
    "})\n",
    "\n"
   ]
  },
  {
   "cell_type": "code",
   "execution_count": 48,
   "metadata": {},
   "outputs": [],
   "source": [
    "df_encoded.to_csv('TF_RoBERTa_encoded_data.csv', index=False)"
   ]
  },
  {
   "attachments": {
    "137728d6-ad45-4ba1-867c-528cefc3411e.png": {
     "image/png": "[encoded data removed]"
    }
   },
   "cell_type": "markdown",
   "metadata": {},
   "source": [
    "![image.png](attachment:137728d6-ad45-4ba1-867c-528cefc3411e.png)"
   ]
  },
  {
   "cell_type": "code",
   "execution_count": 49,
   "metadata": {},
   "outputs": [],
   "source": [
    "# from sklearn.feature_extraction.text import TfidfVectorizer\n",
    "# from transformers import BertTokenizer\n",
    "\n",
    "# # BERT 모델에 대한 기본 tokenizer를 사용합니다.\n",
    "# bert_tokenizer = BertTokenizer.from_pretrained('bert-base-uncased')\n",
    "\n",
    "# # BERT의 tokenizer를 사용하여 텍스트를 토큰화하는 함수를 정의합니다.\n",
    "# def bert_tokenize(text):\n",
    "#     # BERT tokenizer로 토큰화하고 토큰 ID를 반환합니다.\n",
    "#     return bert_tokenizer.encode(text, add_special_tokens=True)\n",
    "\n",
    "# # TfidfVectorizer 객체를 생성하고, tokenizer로 위에서 정의한 bert_tokenize 함수를 사용합니다.\n",
    "# tfidf_vectorizer = TfidfVectorizer(tokenizer=bert_tokenize, ngram_range=(1, 2))\n",
    "\n",
    "# # 트레이닝 데이터에 대해 TF-IDF 벡터화를 수행합니다.\n",
    "# X_train_tfidf = tfidf_vectorizer.fit_transform(df_train_essays_final['text'])\n",
    "\n",
    "# # 테스트 데이터에 대해 TF-IDF 벡터화를 수행합니다.\n",
    "# X_test_tfidf = tfidf_vectorizer.transform(test_essays['text'])"
   ]
  },
  {
   "attachments": {
    "ae36e4e9-c6fa-4515-b6b9-77902e08efe5.png": {
     "image/png": "[encoded data removed]"
    }
   },
   "cell_type": "markdown",
   "metadata": {},
   "source": [
    "![image.png](attachment:ae36e4e9-c6fa-4515-b6b9-77902e08efe5.png)"
   ]
  },
  {
   "cell_type": "markdown",
   "metadata": {},
   "source": [
    "==============================================="
   ]
  },
  {
   "cell_type": "markdown",
   "metadata": {},
   "source": [
    "## BPE (일단스킵)"
   ]
  },
  {
   "cell_type": "code",
   "execution_count": 50,
   "metadata": {},
   "outputs": [],
   "source": [
    "# test_essays.text.values"
   ]
  },
  {
   "cell_type": "code",
   "execution_count": 51,
   "metadata": {},
   "outputs": [],
   "source": [
    "# LOWERCASE = False\n",
    "# VOCAB_SIZE = 30522"
   ]
  },
  {
   "cell_type": "code",
   "execution_count": 52,
   "metadata": {},
   "outputs": [],
   "source": [
    "# import sys\n",
    "# import gc\n",
    "\n",
    "# import pandas as pd\n",
    "# from sklearn.model_selection import StratifiedKFold\n",
    "# import numpy as np\n",
    "# from sklearn.metrics import roc_auc_score\n",
    "# import numpy as np\n",
    "\n",
    "# from sklearn.feature_extraction.text import TfidfVectorizer\n",
    "\n",
    "# from tokenizers import (\n",
    "#     decoders,\n",
    "#     models,\n",
    "#     normalizers,\n",
    "#     pre_tokenizers,\n",
    "#     processors,\n",
    "#     trainers,\n",
    "#     Tokenizer,\n",
    "# )\n",
    "\n",
    "# from datasets import Dataset\n",
    "# from tqdm.auto import tqdm\n",
    "# from transformers import PreTrainedTokenizerFast\n",
    "\n",
    "# from sklearn.linear_model import SGDClassifier\n",
    "# from sklearn.naive_bayes import MultinomialNB\n",
    "# from sklearn.ensemble import VotingClassifier"
   ]
  },
  {
   "cell_type": "code",
   "execution_count": 53,
   "metadata": {},
   "outputs": [],
   "source": [
    "# # Creating Byte-Pair Encoding tokenizer\n",
    "# # 어휘집에 없는 단어는 UNK 토큰화\n",
    "# raw_tokenizer = Tokenizer(models.BPE(unk_token=\"[UNK]\"))\n",
    "\n",
    "\n",
    "# # 소문자변환 및 유니코드 문자 정규화, 초기 문자열 byte 수준 분해\n",
    "# raw_tokenizer.normalizer = normalizers.Sequence([normalizers.NFC()] + [normalizers.Lowercase()] if LOWERCASE else [])\n",
    "# raw_tokenizer.pre_tokenizer = pre_tokenizers.ByteLevel()\n",
    "\n",
    "\n",
    "# # train set에 맞는 특수 토크나이징 설정 및 훈련\n",
    "# # 파라미터, 어휘집크기 30522__일단 지정\n",
    "# # \n",
    "# special_tokens = [\"[UNK]\", \"[PAD]\", \"[CLS]\", \"[SEP]\", \"[MASK]\"]\n",
    "# trainer = trainers.BpeTrainer(vocab_size=VOCAB_SIZE, special_tokens=special_tokens)\n",
    "\n",
    "\n",
    "\n",
    "# # df를 huggingface 데이터셋으로 준비, 1000개 단위씩 반복처리\n",
    "# dataset = Dataset.from_pandas(test_essays[['text']])\n",
    "\n",
    "# def train_corp_iter():\n",
    "#     \"\"\"\n",
    "#     A generator function for iterating over a dataset in chunks.\n",
    "#     \"\"\"    \n",
    "#     for i in range(0, len(dataset), 1000):\n",
    "#         yield dataset[i : i + 1000][\"text\"]\n",
    "\n",
    "        \n",
    "        \n",
    "# # BPE 토크나이저 훈련 진행코드, 특수 토큰도 함께 부여\n",
    "# raw_tokenizer.train_from_iterator(train_corp_iter(), trainer=trainer)\n",
    "\n",
    "# tokenizer = PreTrainedTokenizerFast(\n",
    "#     tokenizer_object=raw_tokenizer,\n",
    "#     unk_token=\"[UNK]\",\n",
    "#     pad_token=\"[PAD]\",\n",
    "#     cls_token=\"[CLS]\",\n",
    "#     sep_token=\"[SEP]\",\n",
    "#     mask_token=\"[MASK]\",\n",
    "# )\n",
    "\n",
    "\n",
    "# # 토큰화 진행, tqdm으로 진행도 시각화\n",
    "\n",
    "# tokenized_texts_test = []\n",
    "\n",
    "# # Tokenize test set with new tokenizer\n",
    "# for text in tqdm(test_essays['text'].tolist()):\n",
    "#     tokenized_texts_test.append(tokenizer.tokenize(text))\n",
    "\n",
    "\n",
    "# # Tokenize train set\n",
    "# tokenized_texts_train = []\n",
    "\n",
    "# for text in tqdm(df_train_essays_final['text'].tolist()):\n",
    "#     tokenized_texts_train.append(tokenizer.tokenize(text))"
   ]
  },
  {
   "cell_type": "markdown",
   "metadata": {},
   "source": [
    "## BERT 토크나이저 가 아닌\n",
    "## BPE 토크나이저를 코드에 적용한 이유\n",
    "\n",
    "###  (wordpiece(BERT기반)와 BPE(GPT기반) 성능 비교)"
   ]
  },
  {
   "cell_type": "code",
   "execution_count": 54,
   "metadata": {},
   "outputs": [],
   "source": [
    "# tokenized_texts_test[1]"
   ]
  },
  {
   "cell_type": "code",
   "execution_count": 55,
   "metadata": {},
   "outputs": [],
   "source": [
    "# def dummy(text):\n",
    "#     \"\"\"\n",
    "#     A dummy function to use as tokenizer for TfidfVectorizer. It returns the text as it is since we already tokenized it.\n",
    "#     \"\"\"\n",
    "#     return text"
   ]
  },
  {
   "cell_type": "code",
   "execution_count": 56,
   "metadata": {},
   "outputs": [],
   "source": [
    "# # Fitting TfidfVectoizer on test set\n",
    "\n",
    "# vectorizer = TfidfVectorizer(ngram_range=(3, 5), lowercase=False, sublinear_tf=True, analyzer = 'word',\n",
    "#     tokenizer = dummy,\n",
    "#     preprocessor = dummy,\n",
    "#     token_pattern = None, strip_accents='unicode'\n",
    "#                             )\n",
    "\n",
    "# vectorizer.fit(tokenized_texts_test)\n",
    "\n",
    "# # Getting vocab\n",
    "# vocab = vectorizer.vocabulary_\n",
    "\n",
    "# print(vocab)\n",
    "\n",
    "\n",
    "# # Here we fit our vectorizer on train set but this time we use vocabulary from test fit.\n",
    "# vectorizer = TfidfVectorizer(ngram_range=(3, 5), lowercase=False, sublinear_tf=True, vocabulary=vocab,\n",
    "#                             analyzer = 'word',\n",
    "#                             tokenizer = dummy,\n",
    "#                             preprocessor = dummy,\n",
    "#                             token_pattern = None, strip_accents='unicode'\n",
    "#                             )\n",
    "\n",
    "# tf_train = vectorizer.fit_transform(tokenized_texts_train)\n",
    "# tf_test = vectorizer.transform(tokenized_texts_test)\n",
    "\n",
    "# del vectorizer\n",
    "# gc.collect()"
   ]
  },
  {
   "cell_type": "code",
   "execution_count": 57,
   "metadata": {},
   "outputs": [],
   "source": [
    "# y_train = df_train_essays_final['generated'].values"
   ]
  },
  {
   "cell_type": "code",
   "execution_count": 58,
   "metadata": {},
   "outputs": [],
   "source": [
    "# tf_train"
   ]
  },
  {
   "cell_type": "code",
   "execution_count": 59,
   "metadata": {},
   "outputs": [],
   "source": [
    "# tf_train.shape"
   ]
  },
  {
   "cell_type": "code",
   "execution_count": 60,
   "metadata": {},
   "outputs": [],
   "source": [
    "# tf_test.shape"
   ]
  },
  {
   "cell_type": "code",
   "execution_count": 61,
   "metadata": {},
   "outputs": [],
   "source": [
    "# pd.DataFrame(tf_train).head"
   ]
  },
  {
   "cell_type": "code",
   "execution_count": 62,
   "metadata": {},
   "outputs": [],
   "source": [
    "# dense_tf_train = tf_train.todense()\n",
    "# df_tf_train = pd.DataFrame(dense_tf_train)\n",
    "# df_tf_train.describe()"
   ]
  },
  {
   "attachments": {
    "7ea52974-367a-4e6c-a7fd-0731baf45ea4.png": {
     "image/png": "[encoded data removed]"
    }
   },
   "cell_type": "markdown",
   "metadata": {},
   "source": [
    "![image.png](attachment:7ea52974-367a-4e6c-a7fd-0731baf45ea4.png)"
   ]
  },
  {
   "cell_type": "markdown",
   "metadata": {},
   "source": [
    "=============================================="
   ]
  },
  {
   "cell_type": "markdown",
   "metadata": {},
   "source": [
    "# 🐝 **모델학습 진행**"
   ]
  },
  {
   "cell_type": "markdown",
   "metadata": {},
   "source": [
    "# 🐝 RoBERTa 코드 적용"
   ]
  },
  {
   "cell_type": "code",
   "execution_count": 63,
   "metadata": {},
   "outputs": [],
   "source": [
    "# import tensorflow as tf\n",
    "# from transformers import RobertaTokenizer, TFRobertaForSequenceClassification\n",
    "# from sklearn.model_selection import train_test_split\n",
    "\n",
    "# # RoBERTa 토크나이저와 모델 초기화\n",
    "# tokenizer = RobertaTokenizer.from_pretrained('roberta-base')\n",
    "# model = TFRobertaForSequenceClassification.from_pretrained('roberta-base')\n",
    "\n",
    "# # 텍스트 데이터 토큰화\n",
    "# encoded_data = tokenizer(df_train_essays_final['text'].tolist(), \n",
    "#                          padding=True, \n",
    "#                          truncation=True, \n",
    "#                          max_length=128, \n",
    "#                          return_tensors='tf')\n",
    "\n",
    "# input_ids = encoded_data['input_ids']\n",
    "# attention_masks = encoded_data['attention_mask']\n",
    "\n",
    "# # 레이블 준비 (여기서는 이진 분류를 가정)\n",
    "# labels = tf.convert_to_tensor(df_train_essays_final['label'].values)\n",
    "\n",
    "# # 학습 및 검증 데이터셋 분리\n",
    "# train_inputs, validation_inputs, train_labels, validation_labels = train_test_split(input_ids, labels, random_state=2018, test_size=0.1)\n",
    "# train_masks, validation_masks, _, _ = train_test_split(attention_masks, labels, random_state=2018, test_size=0.1)\n",
    "\n",
    "# # 데이터셋 준비\n",
    "# train_dataset = tf.data.Dataset.from_tensor_slices((train_inputs, train_masks, train_labels)).shuffle(100).batch(32)\n",
    "# validation_dataset = tf.data.Dataset.from_tensor_slices((validation_inputs, validation_masks, validation_labels)).batch(32)\n",
    "\n",
    "# # 모델 컴파일\n",
    "# optimizer = tf.keras.optimizers.Adam(learning_rate=2e-5, epsilon=1e-08)\n",
    "# loss = tf.keras.losses.SparseCategoricalCrossentropy(from_logits=True)\n",
    "# model.compile(optimizer=optimizer, loss=loss, metrics=['accuracy'])\n",
    "\n",
    "# # 모델 학습\n",
    "# model.fit(train_dataset, epochs=3, validation_data=validation_dataset)\n"
   ]
  },
  {
   "cell_type": "code",
   "execution_count": 64,
   "metadata": {},
   "outputs": [
    {
     "name": "stdout",
     "output_type": "stream",
     "text": [
      "Index(['input_ids', 'attention_mask'], dtype='object')\n",
      "\n"
     ]
    },
    {
     "data": {
      "text/html": [
       "<div>\n",
       "<style scoped>\n",
       "    .dataframe tbody tr th:only-of-type {\n",
       "        vertical-align: middle;\n",
       "    }\n",
       "\n",
       "    .dataframe tbody tr th {\n",
       "        vertical-align: top;\n",
       "    }\n",
       "\n",
       "    .dataframe thead th {\n",
       "        text-align: right;\n",
       "    }\n",
       "</style>\n",
       "<table border=\"1\" class=\"dataframe\">\n",
       "  <thead>\n",
       "    <tr style=\"text-align: right;\">\n",
       "      <th></th>\n",
       "      <th>input_ids</th>\n",
       "      <th>attention_mask</th>\n",
       "    </tr>\n",
       "  </thead>\n",
       "  <tbody>\n",
       "    <tr>\n",
       "      <th>0</th>\n",
       "      <td>[    0   347  2726     4 17714    33    57   1...</td>\n",
       "      <td>[1 1 1 1 1 1 1 1 1 1 1 1 1 1 1 1 1 1 1 1 1 1 1...</td>\n",
       "    </tr>\n",
       "    <tr>\n",
       "      <th>1</th>\n",
       "      <td>[    0 19163 41067    16    10   739 17331    ...</td>\n",
       "      <td>[1 1 1 1 1 1 1 1 1 1 1 1 1 1 1 1 1 1 1 1 1 1 1...</td>\n",
       "    </tr>\n",
       "    <tr>\n",
       "      <th>2</th>\n",
       "      <td>[    0   113 12580    18   657  7226    19    ...</td>\n",
       "      <td>[1 1 1 1 1 1 1 1 1 1 1 1 1 1 1 1 1 1 1 1 1 1 1...</td>\n",
       "    </tr>\n",
       "    <tr>\n",
       "      <th>3</th>\n",
       "      <td>[    0  6179   747   109    47  3068    11    ...</td>\n",
       "      <td>[1 1 1 1 1 1 1 1 1 1 1 1 1 1 1 1 1 1 1 1 1 1 1...</td>\n",
       "    </tr>\n",
       "    <tr>\n",
       "      <th>4</th>\n",
       "      <td>[    0   347  2726    32    10  4613   631    ...</td>\n",
       "      <td>[1 1 1 1 1 1 1 1 1 1 1 1 1 1 1 1 1 1 1 1 1 1 1...</td>\n",
       "    </tr>\n",
       "  </tbody>\n",
       "</table>\n",
       "</div>"
      ],
      "text/plain": [
       "                                           input_ids  \\\n",
       "0  [    0   347  2726     4 17714    33    57   1...   \n",
       "1  [    0 19163 41067    16    10   739 17331    ...   \n",
       "2  [    0   113 12580    18   657  7226    19    ...   \n",
       "3  [    0  6179   747   109    47  3068    11    ...   \n",
       "4  [    0   347  2726    32    10  4613   631    ...   \n",
       "\n",
       "                                      attention_mask  \n",
       "0  [1 1 1 1 1 1 1 1 1 1 1 1 1 1 1 1 1 1 1 1 1 1 1...  \n",
       "1  [1 1 1 1 1 1 1 1 1 1 1 1 1 1 1 1 1 1 1 1 1 1 1...  \n",
       "2  [1 1 1 1 1 1 1 1 1 1 1 1 1 1 1 1 1 1 1 1 1 1 1...  \n",
       "3  [1 1 1 1 1 1 1 1 1 1 1 1 1 1 1 1 1 1 1 1 1 1 1...  \n",
       "4  [1 1 1 1 1 1 1 1 1 1 1 1 1 1 1 1 1 1 1 1 1 1 1...  "
      ]
     },
     "execution_count": 64,
     "metadata": {},
     "output_type": "execute_result"
    }
   ],
   "source": [
    "import pandas as pd\n",
    "\n",
    "df_encoded = pd.read_csv('TF_RoBERTa_encoded_data.csv')\n",
    "print(df_encoded.columns)\n",
    "print()\n",
    "df_encoded.head()"
   ]
  },
  {
   "cell_type": "code",
   "execution_count": 65,
   "metadata": {},
   "outputs": [
    {
     "data": {
      "text/plain": [
       "('[    0   347  2726     4 17714    33    57   198   187    51  1059  3395\\n    11     5 23137    29     6    77  4858  2493  1412     8  1490     5\\n    78  7192   565     4 17714    33   702    10   538   774    11    84\\n   358   183  1074   187   172     4   125   122     6    82    32  1158\\n     7   864   114 11361   512  9453    74    28    10   205   631     4\\n   598   162     6 11361     5   304     9  1677   429    28    10   205\\n   631     7   109     4 50118 50118  1121   101   948     9    42     6\\n  1566     6    22  1121  1859  4052 13157     6  3126 32091   374  6830\\n 17714    60    30  4690 32194   982     6   141 27596    32     5   784\\n  3796 10188     9 13574     6   147  1692  1380  1232    31  1169  7137\\n    50  1568  3805     7   146    49  1611     4 12511   224   141    42\\n    16    10  1307 28968  8913     7   595  1170     7  1888 11832  1123\\n  5035    31  7886 30131     4 32763  1677    32  2149    13   316   135\\n     9 11832  1123  5035    11  1005   734   463    62     7   654   135\\n    11   103   512 28447   911    11     5   315   532     4 17714    32\\n     5  1049  1219    13     5 11832  1123  5035   142     9    10   319\\n     9    82  1428   106   198    70     5    86   562   147    51   240\\n     7   213     4  6776     6    22 32826 13187  1428   528     7  5278\\n  2154    60    30  1738   211 31006   161     6   141  2201     6    71\\n   360     9   583 14760  6631     6 17910    10  9801  1428  2020     7\\n   699     5   935     9     5   720   343     4    85    67   161     6\\n   141    15   302     2]',\n",
       " '[1 1 1 1 1 1 1 1 1 1 1 1 1 1 1 1 1 1 1 1 1 1 1 1 1 1 1 1 1 1 1 1 1 1 1 1 1\\n 1 1 1 1 1 1 1 1 1 1 1 1 1 1 1 1 1 1 1 1 1 1 1 1 1 1 1 1 1 1 1 1 1 1 1 1 1\\n 1 1 1 1 1 1 1 1 1 1 1 1 1 1 1 1 1 1 1 1 1 1 1 1 1 1 1 1 1 1 1 1 1 1 1 1 1\\n 1 1 1 1 1 1 1 1 1 1 1 1 1 1 1 1 1 1 1 1 1 1 1 1 1 1 1 1 1 1 1 1 1 1 1 1 1\\n 1 1 1 1 1 1 1 1 1 1 1 1 1 1 1 1 1 1 1 1 1 1 1 1 1 1 1 1 1 1 1 1 1 1 1 1 1\\n 1 1 1 1 1 1 1 1 1 1 1 1 1 1 1 1 1 1 1 1 1 1 1 1 1 1 1 1 1 1 1 1 1 1 1 1 1\\n 1 1 1 1 1 1 1 1 1 1 1 1 1 1 1 1 1 1 1 1 1 1 1 1 1 1 1 1 1 1 1 1 1 1]')"
      ]
     },
     "execution_count": 65,
     "metadata": {},
     "output_type": "execute_result"
    }
   ],
   "source": [
    "# 첫 번째 행의 'input_ids'와 'attention_mask' 열의 데이터 출력\n",
    "first_row_input_ids = df_encoded['input_ids'].iloc[0]\n",
    "first_row_attention_mask = df_encoded['attention_mask'].iloc[0]\n",
    "\n",
    "first_row_input_ids, first_row_attention_mask"
   ]
  },
  {
   "cell_type": "code",
   "execution_count": 66,
   "metadata": {},
   "outputs": [
    {
     "name": "stdout",
     "output_type": "stream",
     "text": [
      "                                           input_ids  \\\n",
      "0  [0, 347, 2726, 4, 17714, 33, 57, 198, 187, 51,...   \n",
      "1  [0, 19163, 41067, 16, 10, 739, 17331, 11, 144,...   \n",
      "2  [0, 113, 12580, 18, 657, 7226, 19, 24, 18, 173...   \n",
      "3  [0, 6179, 747, 109, 47, 3068, 11, 10, 512, 116...   \n",
      "4  [0, 347, 2726, 32, 10, 4613, 631, 4, 252, 32, ...   \n",
      "\n",
      "                                      attention_mask  \n",
      "0  [1 1 1 1 1 1 1 1 1 1 1 1 1 1 1 1 1 1 1 1 1 1 1...  \n",
      "1  [1 1 1 1 1 1 1 1 1 1 1 1 1 1 1 1 1 1 1 1 1 1 1...  \n",
      "2  [1 1 1 1 1 1 1 1 1 1 1 1 1 1 1 1 1 1 1 1 1 1 1...  \n",
      "3  [1 1 1 1 1 1 1 1 1 1 1 1 1 1 1 1 1 1 1 1 1 1 1...  \n",
      "4  [1 1 1 1 1 1 1 1 1 1 1 1 1 1 1 1 1 1 1 1 1 1 1...  \n"
     ]
    }
   ],
   "source": [
    "# 문자열을 정수 리스트로 변환하는 함수\n",
    "def convert_string_to_int_list(string):\n",
    "    try:\n",
    "        # 줄바꿈, 대괄호 제거 및 쉼표로 분리\n",
    "        cleaned_string = string.replace('\\n', '').replace('[', '').replace(']', '')\n",
    "        int_list = [int(i) for i in cleaned_string.split() if i.isdigit()]\n",
    "        return int_list\n",
    "    except:\n",
    "        return []  # 변환에 실패한 경우 빈 리스트 반환\n",
    "\n",
    "# 데이터프레임의 'input_ids' 열 변환\n",
    "df_encoded['input_ids'] = df_encoded['input_ids'].apply(convert_string_to_int_list)\n",
    "\n",
    "# 예시 출력\n",
    "print(df_encoded.head())"
   ]
  },
  {
   "cell_type": "code",
   "execution_count": 67,
   "metadata": {},
   "outputs": [
    {
     "name": "stderr",
     "output_type": "stream",
     "text": [
      "2024-01-11 09:36:50.827924: I tensorflow/core/platform/cpu_feature_guard.cc:151] This TensorFlow binary is optimized with oneAPI Deep Neural Network Library (oneDNN) to use the following CPU instructions in performance-critical operations:  AVX2 AVX512F FMA\n",
      "To enable them in other operations, rebuild TensorFlow with the appropriate compiler flags.\n",
      "2024-01-11 09:36:51.616018: I tensorflow/core/common_runtime/gpu/gpu_device.cc:1525] Created device /job:localhost/replica:0/task:0/device:GPU:0 with 7492 MB memory:  -> device: 0, name: NVIDIA A100 80GB PCIe MIG 1g.10gb, pci bus id: 0000:ce:00.0, compute capability: 8.0\n",
      "2024-01-11 09:36:52.706529: I tensorflow/stream_executor/cuda/cuda_blas.cc:1774] TensorFloat-32 will be used for the matrix multiplication. This will only be logged once.\n",
      "Some weights of the PyTorch model were not used when initializing the TF 2.0 model TFRobertaForSequenceClassification: ['roberta.embeddings.position_ids']\n",
      "- This IS expected if you are initializing TFRobertaForSequenceClassification from a PyTorch model trained on another task or with another architecture (e.g. initializing a TFBertForSequenceClassification model from a BertForPreTraining model).\n",
      "- This IS NOT expected if you are initializing TFRobertaForSequenceClassification from a PyTorch model that you expect to be exactly identical (e.g. initializing a TFBertForSequenceClassification model from a BertForSequenceClassification model).\n",
      "Some weights or buffers of the TF 2.0 model TFRobertaForSequenceClassification were not initialized from the PyTorch model and are newly initialized: ['classifier.dense.weight', 'classifier.dense.bias', 'classifier.out_proj.weight', 'classifier.out_proj.bias']\n",
      "You should probably TRAIN this model on a down-stream task to be able to use it for predictions and inference.\n"
     ]
    }
   ],
   "source": [
    "import tensorflow as tf\n",
    "from transformers import TFRobertaForSequenceClassification\n",
    "from sklearn.model_selection import train_test_split\n",
    "\n",
    "model = TFRobertaForSequenceClassification.from_pretrained('roberta-base')"
   ]
  },
  {
   "cell_type": "code",
   "execution_count": 68,
   "metadata": {},
   "outputs": [],
   "source": [
    "# input_ids = tf.convert_to_tensor(df_encoded['input_ids'].values)\n",
    "# attention_masks = tf.convert_to_tensor(df_encoded['attention_mask'].values)\n",
    "# labels = tf.convert_to_tensor(df_train_essays_final['generated'].values, dtype=tf.int32)\n",
    "# # 레이블 데이터"
   ]
  },
  {
   "cell_type": "code",
   "execution_count": 69,
   "metadata": {},
   "outputs": [],
   "source": [
    "# 데이터프레임에서 필요한 열만 선택\n",
    "df_encoded = df_encoded[['input_ids', 'attention_mask']]\n",
    "\n",
    "# 'generated' 열은 레이블로 사용할 것이므로 따로 선택\n",
    "labels = df_train_essays_final['generated'].values\n"
   ]
  },
  {
   "cell_type": "code",
   "execution_count": 80,
   "metadata": {},
   "outputs": [
    {
     "name": "stdout",
     "output_type": "stream",
     "text": [
      "df_encoded shape: (1378, 2)\n",
      "labels shape: (1378,)\n",
      "labels shape: [0 0 0 ... 0 0 0]\n"
     ]
    }
   ],
   "source": [
    "print(\"df_encoded shape:\", df_encoded.shape)\n",
    "print(\"labels shape:\", labels.shape)\n",
    "print(\"labels shape:\", labels)"
   ]
  },
  {
   "cell_type": "code",
   "execution_count": 82,
   "metadata": {},
   "outputs": [],
   "source": [
    "# 학습 및 검증 데이터셋 분리\n",
    "train_inputs, validation_inputs, train_labels, validation_labels = train_test_split(df_encoded, labels, random_state=2018, test_size=0.2)\n",
    "\n",
    "# 데이터셋 준비\n",
    "# train_dataset = tf.data.Dataset.from_tensor_slices((train_inputs.to_dict('list'), train_labels)).shuffle(100).batch(32)\n",
    "# validation_dataset = tf.data.Dataset.from_tensor_slices((validation_inputs.to_dict('list'), validation_labels)).batch(32)\n",
    "# 데이터셋 준비\n",
    "# train_dataset = tf.data.Dataset.from_tensor_slices(({\"input_ids\": train_inputs['input_ids'], \"attention_mask\": train_inputs['attention_mask']}, train_labels)).shuffle(100).batch(32)\n",
    "# validation_dataset = tf.data.Dataset.from_tensor_slices(({\"input_ids\": validation_inputs['input_ids'], \"attention_mask\": validation_inputs['attention_mask']}, validation_labels)).batch(32)"
   ]
  },
  {
   "cell_type": "code",
   "execution_count": 86,
   "metadata": {},
   "outputs": [
    {
     "data": {
      "image/png": "[encoded data removed]",
      "text/plain": [
       "<Figure size 576x432 with 1 Axes>"
      ]
     },
     "metadata": {
      "needs_background": "light"
     },
     "output_type": "display_data"
    },
    {
     "name": "stdout",
     "output_type": "stream",
     "text": [
      "Number of data points with 'generated' label equal to 1 in Train set: 1100\n",
      "Number of data points with 'generated' label equal to 1 in Validation set: 275\n",
      "Number of data points with 'generated' label equal to 1 in Train set: 2\n",
      "Number of data points with 'generated' label equal to 1 in Validation set: 1\n"
     ]
    }
   ],
   "source": [
    "import seaborn as sns\n",
    "import matplotlib.pyplot as plt\n",
    "\n",
    "# 클래스 분포 확인을 위한 데이터프레임 생성\n",
    "train_df = pd.DataFrame({\"Data Split\": [\"Train\"] * len(train_labels), \"Labels\": train_labels})\n",
    "validation_df = pd.DataFrame({\"Data Split\": [\"Validation\"] * len(validation_labels), \"Labels\": validation_labels})\n",
    "combined_df = pd.concat([train_df, validation_df])\n",
    "\n",
    "# 카운트 플롯 그리기\n",
    "plt.figure(figsize=(8, 6))\n",
    "sns.countplot(data=combined_df, x=\"Labels\", hue=\"Data Split\")\n",
    "plt.title(\"Class Distribution in Train and Validation Sets\")\n",
    "plt.xlabel(\"Class Label\")\n",
    "plt.ylabel(\"Count\")\n",
    "plt.legend(title=\"Data Split\")\n",
    "plt.show()\n",
    "\n",
    "\n",
    "# Train set에서 0의 개수 세기\n",
    "train_generated_1_count = train_df[train_df[\"Labels\"] == 0].shape[0]\n",
    "print(\"Number of data points with 'generated' label equal to 1 in Train set:\", train_generated_1_count)\n",
    "\n",
    "# Validation set에서 0의 개수 세기\n",
    "validation_generated_1_count = validation_df[validation_df[\"Labels\"] == 0].shape[0]\n",
    "print(\"Number of data points with 'generated' label equal to 1 in Validation set:\", validation_generated_1_count)\n",
    "\n",
    "# Train set에서 1의 개수 세기\n",
    "train_generated_1_count = train_df[train_df[\"Labels\"] == 1].shape[0]\n",
    "print(\"Number of data points with 'generated' label equal to 1 in Train set:\", train_generated_1_count)\n",
    "\n",
    "# Validation set에서 1의 개수 세기\n",
    "validation_generated_1_count = validation_df[validation_df[\"Labels\"] == 1].shape[0]\n",
    "print(\"Number of data points with 'generated' label equal to 1 in Validation set:\", validation_generated_1_count)\n"
   ]
  },
  {
   "cell_type": "code",
   "execution_count": 87,
   "metadata": {},
   "outputs": [
    {
     "name": "stdout",
     "output_type": "stream",
     "text": [
      "train_inputs shape: (1102, 256)\n",
      "validation_inputs shape: (276, 256)\n",
      "train_labels shape: (1102,)\n",
      "validation_labels shape: (276,)\n"
     ]
    }
   ],
   "source": [
    "# 데이터셋 준비\n",
    "train_inputs = {\n",
    "    \"input_ids\": np.array(train_inputs[\"input_ids\"].to_list()),\n",
    "    \"attention_mask\": np.array(train_inputs[\"attention_mask\"].to_list())\n",
    "}\n",
    "train_labels = np.array(train_labels)\n",
    "\n",
    "validation_inputs = {\n",
    "    \"input_ids\": np.array(validation_inputs[\"input_ids\"].to_list()),\n",
    "    \"attention_mask\": np.array(validation_inputs[\"attention_mask\"].to_list())\n",
    "}\n",
    "validation_labels = np.array(validation_labels)\n",
    "\n",
    "print(\"train_inputs shape:\", train_inputs[\"input_ids\"].shape)\n",
    "print(\"validation_inputs shape:\", validation_inputs[\"input_ids\"].shape)\n",
    "print(\"train_labels shape:\", train_labels.shape)\n",
    "print(\"validation_labels shape:\", validation_labels.shape)"
   ]
  },
  {
   "attachments": {
    "image.png": {
     "image/png": "[encoded data removed]"
    }
   },
   "cell_type": "markdown",
   "metadata": {},
   "source": [
    "![image.png](attachment:image.png)"
   ]
  },
  {
   "cell_type": "code",
   "execution_count": 88,
   "metadata": {},
   "outputs": [],
   "source": [
    "# 모델 컴파일\n",
    "optimizer = tf.keras.optimizers.Adam(learning_rate=2e-5, epsilon=1e-08)\n",
    "loss = tf.keras.losses.SparseCategoricalCrossentropy(from_logits=True)\n",
    "model.compile(optimizer=optimizer, loss=loss, metrics=['accuracy'])"
   ]
  },
  {
   "cell_type": "code",
   "execution_count": 89,
   "metadata": {},
   "outputs": [
    {
     "name": "stdout",
     "output_type": "stream",
     "text": [
      "After conversion - train_inputs[attention_mask] type: int64\n",
      "After conversion - validation_inputs[attention_mask] type: int64\n"
     ]
    }
   ],
   "source": [
    "# 문자열을 정수 리스트로 변환하는 함수\n",
    "def convert_string_to_int_array(string_array):\n",
    "    int_arrays = []\n",
    "    for string in string_array:\n",
    "        # 문자열을 정수 리스트로 변환\n",
    "        int_list = [int(i) for i in string.split() if i.isdigit()]\n",
    "        int_arrays.append(int_list)\n",
    "    return np.array(int_arrays, dtype=int)\n",
    "\n",
    "# 'attention_mask'의 문자열을 정수 배열로 변환\n",
    "train_inputs['attention_mask'] = convert_string_to_int_array(train_inputs['attention_mask'])\n",
    "validation_inputs['attention_mask'] = convert_string_to_int_array(validation_inputs['attention_mask'])\n",
    "\n",
    "# 변환 후 데이터 타입 재확인\n",
    "print(\"After conversion - train_inputs[attention_mask] type:\", train_inputs['attention_mask'].dtype)\n",
    "print(\"After conversion - validation_inputs[attention_mask] type:\", validation_inputs['attention_mask'].dtype)\n"
   ]
  },
  {
   "cell_type": "code",
   "execution_count": 90,
   "metadata": {},
   "outputs": [
    {
     "name": "stdout",
     "output_type": "stream",
     "text": [
      "train_inputs[input_ids] shape: (1102, 256)\n",
      "train_inputs[attention_mask] shape: (1102, 254)\n",
      "validation_inputs[input_ids] shape: (276, 256)\n",
      "validation_inputs[attention_mask] shape: (276, 254)\n"
     ]
    }
   ],
   "source": [
    "# 입력 데이터 형상 확인\n",
    "print(\"train_inputs[input_ids] shape:\", train_inputs['input_ids'].shape)\n",
    "print(\"train_inputs[attention_mask] shape:\", train_inputs['attention_mask'].shape)\n",
    "print(\"validation_inputs[input_ids] shape:\", validation_inputs['input_ids'].shape)\n",
    "print(\"validation_inputs[attention_mask] shape:\", validation_inputs['attention_mask'].shape)\n",
    "\n",
    "# 필요한 경우 패딩 또는 트리밍 수행\n",
    "# 예시: train_inputs['input_ids'] = pad_or_trim(train_inputs['input_ids'], desired_length)\n",
    "\n",
    "# 모델 학습을 다시 시도\n"
   ]
  },
  {
   "cell_type": "code",
   "execution_count": 91,
   "metadata": {},
   "outputs": [
    {
     "name": "stdout",
     "output_type": "stream",
     "text": [
      "After padding - train_inputs[attention_mask] shape: (1102, 256)\n",
      "After padding - validation_inputs[attention_mask] shape: (276, 256)\n"
     ]
    }
   ],
   "source": [
    "# attention_mask에 패딩 추가\n",
    "train_inputs['attention_mask'] = np.pad(train_inputs['attention_mask'], \n",
    "                                        ((0, 0), (0, 2)),  # (데이터 시작부터 끝까지, 2개 패딩 추가)\n",
    "                                        mode='constant',\n",
    "                                        constant_values=0)\n",
    "\n",
    "validation_inputs['attention_mask'] = np.pad(validation_inputs['attention_mask'],\n",
    "                                             ((0, 0), (0, 2)),\n",
    "                                             mode='constant',\n",
    "                                             constant_values=0)\n",
    "\n",
    "# 변환 후 데이터 형상 재확인\n",
    "print(\"After padding - train_inputs[attention_mask] shape:\", train_inputs['attention_mask'].shape)\n",
    "print(\"After padding - validation_inputs[attention_mask] shape:\", validation_inputs['attention_mask'].shape)\n"
   ]
  },
  {
   "cell_type": "code",
   "execution_count": 96,
   "metadata": {},
   "outputs": [
    {
     "name": "stdout",
     "output_type": "stream",
     "text": [
      "Epoch 1/5\n",
      "69/69 [==============================] - 47s 685ms/step - loss: 3.6830e-04 - accuracy: 1.0000 - val_loss: 6.8848e-04 - val_accuracy: 1.0000\n",
      "Epoch 2/5\n",
      "69/69 [==============================] - 47s 687ms/step - loss: 3.2543e-04 - accuracy: 1.0000 - val_loss: 1.3698e-04 - val_accuracy: 1.0000\n",
      "Epoch 3/5\n",
      "69/69 [==============================] - 47s 688ms/step - loss: 1.6363e-04 - accuracy: 1.0000 - val_loss: 1.0338e-04 - val_accuracy: 1.0000\n",
      "Epoch 4/5\n",
      "69/69 [==============================] - 47s 687ms/step - loss: 1.3119e-04 - accuracy: 1.0000 - val_loss: 8.5648e-05 - val_accuracy: 1.0000\n",
      "Epoch 5/5\n",
      "69/69 [==============================] - 47s 688ms/step - loss: 1.0941e-04 - accuracy: 1.0000 - val_loss: 7.2098e-05 - val_accuracy: 1.0000\n"
     ]
    }
   ],
   "source": [
    "# 배치 크기를 줄임\n",
    "batch_size = 16  # 기존 배치 크기보다 작게 설정\n",
    "\n",
    "# 모델 학습을 다시 시도\n",
    "history = model.fit(\n",
    "    train_inputs,\n",
    "    train_labels,\n",
    "    epochs=5,\n",
    "    batch_size=batch_size,  # 배치 크기 지정\n",
    "    validation_data=(validation_inputs, validation_labels)\n",
    ")"
   ]
  },
  {
   "cell_type": "code",
   "execution_count": 93,
   "metadata": {},
   "outputs": [],
   "source": [
    "# # model = RobertaForSequenceClassification.from_pretrained('roberta-base', num_labels=2)\n",
    "\n",
    "# model.train()      #torch 환경에서 진행\n",
    "\n",
    "# for epoch in range(epochs):  # epochs는 원하는 에포크 수\n",
    "#     for batch in dataloader:\n",
    "#         batch = tuple(t.to('cuda') for t in batch)  # device는 'cuda'나 'cpu'\n",
    "#         b_input_ids, b_input_mask, b_labels = batch\n",
    "\n",
    "#         # 그래디언트 초기화\n",
    "#         optimizer.zero_grad()\n",
    "\n",
    "#         # 순전파\n",
    "#         outputs = model(b_input_ids, token_type_ids=None, attention_mask=b_input_mask, labels=b_labels)\n",
    "\n",
    "#         # 손실값 계산\n",
    "#         loss = outputs.loss\n",
    "\n",
    "#         # 역전파\n",
    "#         loss.backward()\n",
    "\n",
    "#         # 가중치 업데이트\n",
    "#         optimizer.step()\n"
   ]
  },
  {
   "cell_type": "code",
   "execution_count": null,
   "metadata": {},
   "outputs": [],
   "source": []
  },
  {
   "cell_type": "markdown",
   "metadata": {},
   "source": [
    "# 기본 데이터로 먼저 매트릭뽑기"
   ]
  },
  {
   "cell_type": "markdown",
   "metadata": {},
   "source": [
    "# 논리에 집중할 것"
   ]
  },
  {
   "cell_type": "markdown",
   "metadata": {},
   "source": [
    "# 정규식을 활용할 수 있을까"
   ]
  },
  {
   "cell_type": "markdown",
   "metadata": {},
   "source": [
    "# 🐝 RWKV 모델 적용"
   ]
  },
  {
   "cell_type": "code",
   "execution_count": null,
   "metadata": {},
   "outputs": [],
   "source": []
  },
  {
   "cell_type": "markdown",
   "metadata": {},
   "source": [
    "# 🐝 RAG 모듈 적용"
   ]
  },
  {
   "cell_type": "code",
   "execution_count": null,
   "metadata": {},
   "outputs": [],
   "source": []
  },
  {
   "cell_type": "markdown",
   "metadata": {},
   "source": [
    "# 🐝 text 데이터 증강기법 __ unbalance 해소"
   ]
  },
  {
   "cell_type": "code",
   "execution_count": null,
   "metadata": {},
   "outputs": [],
   "source": []
  },
  {
   "cell_type": "markdown",
   "metadata": {},
   "source": [
    "# 🐝 난독화 대처방법 고찰\n",
    "https://www.kaggle.com/competitions/llm-detect-ai-generated-text/discussion/461292\n",
    "### 그 중 난독화, 노이즈 대처법 하나\n",
    "https://www.kaggle.com/code/sjorslockhorst/authentigpt-trial-w-roberta!"
   ]
  },
  {
   "cell_type": "code",
   "execution_count": null,
   "metadata": {},
   "outputs": [],
   "source": []
  },
  {
   "cell_type": "code",
   "execution_count": null,
   "metadata": {},
   "outputs": [],
   "source": []
  },
  {
   "cell_type": "code",
   "execution_count": null,
   "metadata": {},
   "outputs": [],
   "source": []
  },
  {
   "cell_type": "code",
   "execution_count": null,
   "metadata": {},
   "outputs": [],
   "source": []
  },
  {
   "cell_type": "code",
   "execution_count": null,
   "metadata": {},
   "outputs": [],
   "source": []
  },
  {
   "cell_type": "markdown",
   "metadata": {},
   "source": [
    "# 👿 연습장"
   ]
  },
  {
   "cell_type": "code",
   "execution_count": null,
   "metadata": {},
   "outputs": [],
   "source": [
    "# from transformers import RobertaTokenizer\n",
    "\n",
    "# # BERT 토크나이저 초기화\n",
    "# tokenizer = RobertaTokenizer.from_pretrained('roberta-base')\n",
    "\n",
    "# # 텍스트 데이터 토큰화\n",
    "# # `return_tensors='np'`를 사용하여 NumPy 배열로 반환 받습니다.\n",
    "# encoded_inputs = tokenizer(df_train_essays_final['text'].tolist(), padding=True, truncation=True, return_tensors='np')\n",
    "\n",
    "# # 토큰화된 데이터를 pandas DataFrame으로 변환\n",
    "# df_encoded = pd.DataFrame({\n",
    "#     'input_ids': encoded_inputs['input_ids'].tolist(),\n",
    "#     'attention_mask': encoded_inputs['attention_mask'].tolist()\n",
    "# })\n",
    "\n",
    "# # DataFrame을 생성한 후, .describe()로 요약 통계를 확인할 수 있습니다.\n",
    "# df_describe = df_encoded.describe()\n",
    "\n",
    "# # 요약 통계 출력\n",
    "# print(df_describe)"
   ]
  },
  {
   "cell_type": "code",
   "execution_count": null,
   "metadata": {
    "_cell_guid": "642bfaeb-4e4d-4988-a764-1215b84bd4d1",
    "_uuid": "a5654c23-b0d5-415b-b465-0cbbffca07b2",
    "jupyter": {
     "outputs_hidden": false
    }
   },
   "outputs": [],
   "source": [
    "# # We choose 512 because it's the limit of DistilBert\n",
    "# SEQ_LENGTH = 512\n",
    "\n",
    "# # Use a shorter sequence length.\n",
    "# preprocessor = keras_nlp.models.DistilBertPreprocessor.from_preset(\n",
    "#     \"distil_bert_base_en_uncased\",\n",
    "#     sequence_length=SEQ_LENGTH,\n",
    "# )\n",
    "\n",
    "# # Pretrained classifier.\n",
    "# classifier = keras_nlp.models.DistilBertClassifier.from_preset(\n",
    "#     \"distil_bert_base_en_uncased\",\n",
    "#     num_classes=2,\n",
    "#     activation=None,\n",
    "#     preprocessor=preprocessor,\n",
    "# )\n",
    "\n",
    "# # Re-compile (e.g., with a new learning rate)\n",
    "# classifier.compile(\n",
    "#     loss=keras.losses.SparseCategoricalCrossentropy(from_logits=True),\n",
    "#     optimizer=keras.optimizers.Adam(5e-4),\n",
    "#     metrics=[\n",
    "#         keras.metrics.SparseCategoricalAccuracy()\n",
    "#    ]\n",
    "# )\n",
    "    \n",
    "\n",
    "# # Access backbone programmatically (e.g., to change `trainable`).\n",
    "# classifier.backbone.trainable = False\n",
    "\n",
    "\n",
    "# classifier.summary()"
   ]
  },
  {
   "cell_type": "code",
   "execution_count": null,
   "metadata": {
    "_cell_guid": "bb010005-aa2d-4b76-a260-a91ada89b82f",
    "_uuid": "aff9ba52-083b-40e3-b667-4d9b5d02c3f9",
    "jupyter": {
     "outputs_hidden": false
    }
   },
   "outputs": [],
   "source": [
    "# Split the dataset into train and test sets\n",
    "from sklearn.model_selection import train_test_split\n",
    "X_temp, X_test, y_temp, y_test = train_test_split(df_train_essays_final[\"text\"],\n",
    "                                                    df_train_essays_final[\"generated\"],\n",
    "                                                    test_size=0.30,\n",
    "                                                    random_state=42)\n",
    "X_train, X_val, y_train, y_val = train_test_split(X_temp,\n",
    "                                                  y_temp,\n",
    "                                                  test_size=0.20,\n",
    "                                                  random_state=42)\n"
   ]
  },
  {
   "cell_type": "code",
   "execution_count": null,
   "metadata": {
    "_cell_guid": "df321298-efdc-43c6-92db-aacef1efee4c",
    "_uuid": "e027df7c-4622-4910-84b9-032d64aacd1f",
    "jupyter": {
     "outputs_hidden": false
    }
   },
   "outputs": [],
   "source": [
    "# Fit\n",
    "classifier.fit(x=X_train, \n",
    "               y=y_train,\n",
    "               validation_data=(X_test, y_test),\n",
    "               epochs=2,\n",
    "               batch_size=64\n",
    "              )"
   ]
  },
  {
   "cell_type": "code",
   "execution_count": null,
   "metadata": {
    "_cell_guid": "bd82cd0e-3e3c-4f3c-8e12-789d6e849966",
    "_uuid": "cecd035c-04ef-4bcd-9bf4-061284e6bc3f",
    "jupyter": {
     "outputs_hidden": false
    }
   },
   "outputs": [],
   "source": [
    "def displayConfusionMatrix(y_true, y_pred, dataset):\n",
    "    disp = ConfusionMatrixDisplay.from_predictions(\n",
    "        y_true,\n",
    "        np.argmax(y_pred, axis=1),\n",
    "        display_labels=[\"Human\",\"AI\"],\n",
    "        cmap=plt.cm.Blues\n",
    "    )\n",
    "    tn, fp, fn, tp = confusion_matrix(y_true, np.argmax(y_pred, axis=1)).ravel()\n",
    "    f1_score = tp / (tp+((fn+fp)/2))\n",
    "    disp.ax_.set_title(\"Confusion Matrix on \" + dataset + \" Dataset -- F1 Score: \" + str(f1_score.round(2)))"
   ]
  },
  {
   "cell_type": "code",
   "execution_count": null,
   "metadata": {
    "_cell_guid": "c78facbe-4abe-448e-a0a4-99ddfa1e4317",
    "_uuid": "088bf630-cffa-456d-bd4e-bd999d9eb6b4",
    "jupyter": {
     "outputs_hidden": false
    }
   },
   "outputs": [],
   "source": [
    "y_pred_test = classifier.predict(X_test)"
   ]
  },
  {
   "cell_type": "code",
   "execution_count": null,
   "metadata": {
    "_cell_guid": "d94d0302-8594-4e91-9f93-3088e7cd24a7",
    "_uuid": "9ebbc699-dbbc-428a-99ab-66b2b9b1da88",
    "jupyter": {
     "outputs_hidden": false
    }
   },
   "outputs": [],
   "source": [
    "from sklearn.metrics import ConfusionMatrixDisplay, confusion_matrix\n",
    "displayConfusionMatrix(y_test, y_pred_test,  \"Testing\")"
   ]
  },
  {
   "cell_type": "code",
   "execution_count": null,
   "metadata": {},
   "outputs": [],
   "source": [
    "y_pred_val = classifier.predict(X_val)"
   ]
  },
  {
   "cell_type": "code",
   "execution_count": null,
   "metadata": {},
   "outputs": [],
   "source": [
    "displayConfusionMatrix(y_val, y_pred_val,  \"validation\")"
   ]
  }
 ],
 "metadata": {
  "kaggle": {
   "accelerator": "nvidiaTeslaT4",
   "dataSources": [
    {
     "databundleVersionId": 6888007,
     "sourceId": 61542,
     "sourceType": "competition"
    },
    {
     "datasetId": 4210720,
     "sourceId": 7294503,
     "sourceType": "datasetVersion"
    }
   ],
   "dockerImageVersionId": 30558,
   "isGpuEnabled": true,
   "isInternetEnabled": false,
   "language": "python",
   "sourceType": "notebook"
  },
  "kernelspec": {
   "display_name": "torch1.10.0-py3.8-cuda11.3",
   "language": "python",
   "name": "torch1.10.0-py3.8-cuda11.3"
  },
  "language_info": {
   "codemirror_mode": {
    "name": "ipython",
    "version": 3
   },
   "file_extension": ".py",
   "mimetype": "text/x-python",
   "name": "python",
   "nbconvert_exporter": "python",
   "pygments_lexer": "ipython3",
   "version": "3.8.10"
  }
 },
 "nbformat": 4,
 "nbformat_minor": 4
}
