{
 "cells": [
  {
   "cell_type": "code",
   "execution_count": null,
   "id": "2e6c7e6f",
   "metadata": {},
   "outputs": [],
   "source": [
    "import tensorflow as tf\n",
    "from transformers import DistilBertTokenizer, TFDistilBertForSequenceClassification\n",
    "from sklearn.model_selection import train_test_split\n",
    "import numpy as np\n",
    "from keras.callbacks import ModelCheckpoint, EarlyStopping\n",
    "\n",
    "# DistilBERT 토크나이저와 모델 초기화\n",
    "# tokenizer = DistilBertTokenizer.from_pretrained('distilbert-base-uncased')\n",
    "model = TFDistilBertForSequenceClassification.from_pretrained('distilbert-base-uncased')\n"
   ]
  },
  {
   "cell_type": "code",
   "execution_count": null,
   "id": "fb6ab7bc",
   "metadata": {},
   "outputs": [],
   "source": [
    "\n",
    "# 데이터프레임에서 필요한 열만 선택\n",
    "df_encoded = df_encoded[['input_ids', 'attention_mask']]\n",
    "\n",
    "# 'generated' 열은 레이블로 사용할 것이므로 따로 선택\n",
    "labels = df_train_essays_final['generated'].values\n"
   ]
  },
  {
   "cell_type": "code",
   "execution_count": null,
   "id": "2ba1723c",
   "metadata": {},
   "outputs": [],
   "source": [
    "print(\"df_encoded shape:\", df_encoded.shape)\n",
    "\n",
    "print(\"labels:\", len(labels))"
   ]
  },
  {
   "cell_type": "code",
   "execution_count": null,
   "id": "359c8fe5",
   "metadata": {},
   "outputs": [],
   "source": [
    "\n",
    "# 학습 및 검증 데이터셋 분리\n",
    "train_inputs, validation_inputs, train_labels, validation_labels = train_test_split(df_encoded, labels, random_state=2018, test_size=0.2)\n"
   ]
  },
  {
   "cell_type": "code",
   "execution_count": null,
   "id": "d9740d33",
   "metadata": {},
   "outputs": [],
   "source": [
    "import seaborn as sns\n",
    "import matplotlib.pyplot as plt\n",
    "\n",
    "# 클래스 분포 확인을 위한 데이터프레임 생성\n",
    "train_df = pd.DataFrame({\"Data Split\": [\"Train\"] * len(train_labels), \"Labels\": train_labels})\n",
    "validation_df = pd.DataFrame({\"Data Split\": [\"Validation\"] * len(validation_labels), \"Labels\": validation_labels})\n",
    "combined_df = pd.concat([train_df, validation_df])\n",
    "\n",
    "# 카운트 플롯 그리기\n",
    "plt.figure(figsize=(8, 6))\n",
    "sns.countplot(data=combined_df, x=\"Labels\", hue=\"Data Split\")\n",
    "plt.title(\"Class Distribution in Train and Validation Sets\")\n",
    "plt.xlabel(\"Class Label\")\n",
    "plt.ylabel(\"Count\")\n",
    "plt.legend(title=\"Data Split\")\n",
    "plt.show()\n",
    "\n",
    "\n",
    "# Train set에서 0의 개수 세기\n",
    "train_generated_1_count = train_df[train_df[\"Labels\"] == 0].shape[0]\n",
    "print(\"Number of data points with 'generated' label equal to 1 in Train set:\", train_generated_1_count)\n",
    "\n",
    "# Validation set에서 0의 개수 세기\n",
    "validation_generated_1_count = validation_df[validation_df[\"Labels\"] == 0].shape[0]\n",
    "print(\"Number of data points with 'generated' label equal to 1 in Validation set:\", validation_generated_1_count)\n",
    "\n",
    "# Train set에서 1의 개수 세기\n",
    "train_generated_1_count = train_df[train_df[\"Labels\"] == 1].shape[0]\n",
    "print(\"Number of data points with 'generated' label equal to 1 in Train set:\", train_generated_1_count)\n",
    "\n",
    "# Validation set에서 1의 개수 세기\n",
    "validation_generated_1_count = validation_df[validation_df[\"Labels\"] == 1].shape[0]\n",
    "print(\"Number of data points with 'generated' label equal to 1 in Validation set:\", validation_generated_1_count)\n"
   ]
  },
  {
   "cell_type": "code",
   "execution_count": null,
   "id": "b0eff0b7",
   "metadata": {},
   "outputs": [],
   "source": [
    "# 데이터셋 준비\n",
    "train_inputs = {\n",
    "    \"input_ids\": np.array(train_inputs[\"input_ids\"].to_list()),\n",
    "    \"attention_mask\": np.array(train_inputs[\"attention_mask\"].to_list())\n",
    "}\n",
    "train_labels = np.array(train_labels)\n",
    "\n",
    "validation_inputs = {\n",
    "    \"input_ids\": np.array(validation_inputs[\"input_ids\"].to_list()),\n",
    "    \"attention_mask\": np.array(validation_inputs[\"attention_mask\"].to_list())\n",
    "}\n",
    "validation_labels = np.array(validation_labels)\n",
    "\n",
    "print(\"train_inputs shape:\", train_inputs[\"input_ids\"].shape)\n",
    "print(\"validation_inputs shape:\", validation_inputs[\"input_ids\"].shape)\n",
    "print(\"train_labels shape:\", train_labels.shape)\n",
    "print(\"validation_labels shape:\", validation_labels.shape)"
   ]
  },
  {
   "cell_type": "code",
   "execution_count": null,
   "id": "59e49d6c",
   "metadata": {},
   "outputs": [],
   "source": [
    "# 모델 컴파일\n",
    "optimizer = tf.keras.optimizers.Adam(learning_rate=2e-5, epsilon=1e-08)\n",
    "loss = tf.keras.losses.SparseCategoricalCrossentropy(from_logits=True)\n",
    "model.compile(optimizer=optimizer, loss=loss, metrics=['accuracy'])\n"
   ]
  },
  {
   "cell_type": "code",
   "execution_count": null,
   "id": "9bebcce7",
   "metadata": {},
   "outputs": [],
   "source": [
    "# 입력 데이터 형상 확인\n",
    "print(\"train_inputs[input_ids] shape:\", train_inputs['input_ids'].shape)\n",
    "print(\"train_inputs[attention_mask] shape:\", train_inputs['attention_mask'].shape)\n",
    "print(\"validation_inputs[input_ids] shape:\", validation_inputs['input_ids'].shape)\n",
    "print(\"validation_inputs[attention_mask] shape:\", validation_inputs['attention_mask'].shape)\n",
    "\n",
    "# 필요한 경우 패딩 또는 트리밍 수행\n",
    "# 예시: train_inputs['input_ids'] = pad_or_trim(train_inputs['input_ids'], desired_length)\n",
    "\n",
    "# 모델 학습을 다시 시도\n"
   ]
  },
  {
   "cell_type": "code",
   "execution_count": null,
   "id": "b796bc76",
   "metadata": {},
   "outputs": [],
   "source": [
    "\n",
    "# 배치 크기 설정\n",
    "batch_size = 8\n",
    "\n",
    "# 체크포인트 파일 경로 설정\n",
    "checkpoint_path = \"best_distilbert_model\"\n",
    "\n",
    "checkpoint = ModelCheckpoint(checkpoint_path, monitor='val_loss', verbose=1, save_best_only=True, mode='min', save_format='tf')\n",
    "early_stopping = EarlyStopping(monitor='val_loss', patience=15, verbose=1, mode='min')\n",
    "\n",
    "\n",
    "# 모델 학습을 다시 시도하면서 콜백 추가\n",
    "history = model.fit(\n",
    "    train_inputs,\n",
    "    train_labels,\n",
    "    epochs=50,  # 에포크 수 증가\n",
    "    batch_size=batch_size,\n",
    "    validation_data=(validation_inputs, validation_labels),\n",
    "    callbacks=[checkpoint, early_stopping]  # 콜백 리스트에 ModelCheckpoint와 EarlyStopping 추가\n",
    ")\n",
    "\n"
   ]
  },
  {
   "cell_type": "code",
   "execution_count": null,
   "id": "2d887264",
   "metadata": {},
   "outputs": [],
   "source": []
  }
 ],
 "metadata": {
  "kernelspec": {
   "display_name": "Python 3 (ipykernel)",
   "language": "python",
   "name": "python3"
  },
  "language_info": {
   "codemirror_mode": {
    "name": "ipython",
    "version": 3
   },
   "file_extension": ".py",
   "mimetype": "text/x-python",
   "name": "python",
   "nbconvert_exporter": "python",
   "pygments_lexer": "ipython3",
   "version": "3.11.5"
  }
 },
 "nbformat": 4,
 "nbformat_minor": 5
}
